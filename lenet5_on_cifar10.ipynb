{
  "nbformat": 4,
  "nbformat_minor": 0,
  "metadata": {
    "colab": {
      "name": "lenet5_on_cifar10.ipynb",
      "provenance": []
    },
    "kernelspec": {
      "name": "python3",
      "display_name": "Python 3"
    },
    "language_info": {
      "name": "python"
    },
    "accelerator": "GPU"
  },
  "cells": [
    {
      "cell_type": "code",
      "metadata": {
        "id": "AxIv2e43JRFd"
      },
      "source": [
        "import torch\n",
        "import torch.nn as nn\n",
        "import torch.optim as optim\n",
        "import torchvision.datasets as datasets\n",
        "import torchvision.transforms as transforms\n",
        "import torchvision\n",
        "from torch.utils.data import DataLoader\n",
        "import numpy as np\n",
        "import random\n",
        "import matplotlib.pyplot as plt\n",
        "import time"
      ],
      "execution_count": null,
      "outputs": []
    },
    {
      "cell_type": "code",
      "metadata": {
        "colab": {
          "base_uri": "https://localhost:8080/"
        },
        "id": "aQeAWdJdJUd7",
        "outputId": "6b9711d0-c04a-4759-e9fb-c0aa7034a866"
      },
      "source": [
        "device = torch.device('cuda' if torch.cuda.is_available else 'cpu')\n",
        "print(device)"
      ],
      "execution_count": null,
      "outputs": [
        {
          "output_type": "stream",
          "text": [
            "cuda\n"
          ],
          "name": "stdout"
        }
      ]
    },
    {
      "cell_type": "code",
      "metadata": {
        "id": "007LWLB1JX6C"
      },
      "source": [
        "seed=1\n",
        "random.seed(seed)\n",
        "np.random.seed(seed)\n",
        "torch.manual_seed(seed)\n",
        "torch.backends.cudnn.deterministic = True\n",
        "torch.backends.cudnn.benchmark = False"
      ],
      "execution_count": null,
      "outputs": []
    },
    {
      "cell_type": "code",
      "metadata": {
        "id": "qIUhttPsJX9D"
      },
      "source": [
        "batch_size = 64\n",
        "learning_rate = 0.001"
      ],
      "execution_count": null,
      "outputs": []
    },
    {
      "cell_type": "code",
      "metadata": {
        "id": "bdpy0JKFJX_T"
      },
      "source": [
        "train_dataset = datasets.CIFAR10(root='/content/drive/MyDrive/datasets',\n",
        "                                 train=True,\n",
        "                                 transform=transforms.ToTensor(),\n",
        "                                 download=False)\n",
        "\n",
        "test_dataset = datasets.CIFAR10(root='/content/drive/MyDrive/datasets',\n",
        "                                 train=False,\n",
        "                                 transform=transforms.ToTensor(),\n",
        "                                 download=False)\n",
        "\n",
        "train_loader = DataLoader(dataset=train_dataset,\n",
        "                          batch_size=batch_size,\n",
        "                          shuffle=True)\n",
        "\n",
        "val_dataset, test_dataset = torch.utils.data.random_split(\n",
        "    test_dataset, [int(0.9*len(test_dataset)), int(0.1*len(test_dataset))])\n",
        "\n",
        "val_loader = DataLoader(dataset=val_dataset,\n",
        "                        batch_size=batch_size,\n",
        "                        shuffle=False)\n",
        "\n",
        "test_loader = DataLoader(dataset=test_dataset,\n",
        "                          batch_size=batch_size,\n",
        "                          shuffle=False)"
      ],
      "execution_count": null,
      "outputs": []
    },
    {
      "cell_type": "code",
      "metadata": {
        "id": "V8dYViLEJ_40"
      },
      "source": [
        "class LeNet5 (nn.Module):\n",
        "    def __init__(self, num_classes):\n",
        "        super(LeNet5, self).__init__()\n",
        "\n",
        "        self.conv1 = nn.Conv2d(in_channels=1, out_channels=6,\n",
        "                               kernel_size=(5,5),\n",
        "                               stride=(1,1),\n",
        "                               padding=(0,0))\n",
        "\n",
        "        self.conv2 = nn.Conv2d(in_channels=6, out_channels=16,\n",
        "                               kernel_size=(5,5),\n",
        "                               stride=(1, 1),\n",
        "                               padding=(0, 0))\n",
        "\n",
        "        self.conv3 = nn.Conv2d(in_channels=16, out_channels=120,\n",
        "                               kernel_size=(5,5),\n",
        "                               stride=(1, 1),\n",
        "                               padding=(0, 0))\n",
        "\n",
        "        self.pool = nn.AvgPool2d(kernel_size=(2,2), stride=(2,2))\n",
        "        self.relu = nn.ReLU()\n",
        "        self.fc1 = nn.Linear(120, 184)\n",
        "        self.fc2 = nn.Linear(184, num_classes)\n",
        "        self.flatten = nn.Flatten()\n",
        "\n",
        "    def forward(self, X):\n",
        "        input_layer = self.relu(self.conv1(X))\n",
        "        out = self.pool(input_layer)\n",
        "        out = self.relu(self.conv2(out))\n",
        "        out = self.pool(out)\n",
        "        out = self.relu(self.conv3(out))\n",
        "        # out = out.reshape(out.shape[0], -1)\n",
        "        out = self.flatten(out)\n",
        "        out = self.relu(self.fc1(out))\n",
        "        out = self.fc2(out)\n",
        "\n",
        "        return out"
      ],
      "execution_count": null,
      "outputs": []
    },
    {
      "cell_type": "code",
      "metadata": {
        "colab": {
          "base_uri": "https://localhost:8080/"
        },
        "id": "OrASY-_bJf0y",
        "outputId": "14578441-8a77-4cd7-c15e-8db9afa22ecd"
      },
      "source": [
        "model = LeNet5(num_classes=10)\n",
        "\n",
        "model.conv1 = nn.Conv2d(in_channels=3,\n",
        "                        out_channels=6,\n",
        "                        kernel_size=(5,5),\n",
        "                        stride=(1,1),\n",
        "                        padding=(0,0))\n",
        "\n",
        "model = model.to(device)\n",
        "\n",
        "print(model)"
      ],
      "execution_count": null,
      "outputs": [
        {
          "output_type": "stream",
          "text": [
            "LeNet5(\n",
            "  (conv1): Conv2d(3, 6, kernel_size=(5, 5), stride=(1, 1))\n",
            "  (conv2): Conv2d(6, 16, kernel_size=(5, 5), stride=(1, 1))\n",
            "  (conv3): Conv2d(16, 120, kernel_size=(5, 5), stride=(1, 1))\n",
            "  (pool): AvgPool2d(kernel_size=(2, 2), stride=(2, 2), padding=0)\n",
            "  (relu): ReLU()\n",
            "  (fc1): Linear(in_features=120, out_features=184, bias=True)\n",
            "  (fc2): Linear(in_features=184, out_features=10, bias=True)\n",
            "  (flatten): Flatten(start_dim=1, end_dim=-1)\n",
            ")\n"
          ],
          "name": "stdout"
        }
      ]
    },
    {
      "cell_type": "code",
      "metadata": {
        "id": "VRsFh0_ZJf3q"
      },
      "source": [
        "criterion = nn.CrossEntropyLoss()\n",
        "optimizer = optim.Adam(model.parameters(), lr=learning_rate)"
      ],
      "execution_count": null,
      "outputs": []
    },
    {
      "cell_type": "code",
      "metadata": {
        "id": "ckljQ_d2Jf6A"
      },
      "source": [
        "num_epochs = 50\n",
        "start = time.time()\n",
        "val_acc_hist = []\n",
        "train_acc_hist = []\n",
        "loss_train = []\n",
        "loss_val = []\n",
        "best_acc = 0.0"
      ],
      "execution_count": null,
      "outputs": []
    },
    {
      "cell_type": "code",
      "metadata": {
        "id": "Ucvs2ATOQIsf"
      },
      "source": [
        "torch.cuda.empty_cache()"
      ],
      "execution_count": null,
      "outputs": []
    },
    {
      "cell_type": "code",
      "metadata": {
        "colab": {
          "base_uri": "https://localhost:8080/"
        },
        "id": "_-rLfx4GJsUs",
        "outputId": "36c7cca9-8e2b-4183-d334-2f36dab62cec"
      },
      "source": [
        "for epoch in range(num_epochs):\n",
        "\n",
        "    model.train()\n",
        "\n",
        "    running_loss = 0.0\n",
        "    running_corrects = 0\n",
        "\n",
        "    for idx, (images, labels) in enumerate(train_loader):\n",
        "        images = images.to(device)\n",
        "        labels = labels.to(device)\n",
        "        z_scores = model(images)\n",
        "        loss = criterion(z_scores, labels)\n",
        "        optimizer.zero_grad()\n",
        "        loss.backward()\n",
        "        optimizer.step()\n",
        "\n",
        "        running_loss += loss.item() * images.size(0)\n",
        "        _, predictions = torch.max(z_scores, 1)\n",
        "        running_corrects += torch.sum(predictions == labels)\n",
        "\n",
        "    epoch_loss = running_loss / len(train_dataset)\n",
        "    epoch_acc = running_corrects / len(train_dataset)\n",
        "    print(f'Epoch {epoch+1} / {num_epochs}, '\n",
        "          f'Train Loss {epoch_loss:.4f}, '\n",
        "          f'Train Acc {epoch_acc:.4f}')\n",
        "\n",
        "    train_acc_hist.append(epoch_acc)\n",
        "    loss_train.append(epoch_loss)\n",
        "\n",
        "    model.eval()\n",
        "\n",
        "    running_loss = 0.0\n",
        "    running_corrects = 0\n",
        "\n",
        "    for idx, (images, labels) in enumerate(val_loader):\n",
        "        images = images.to(device)\n",
        "        labels = labels.to(device)\n",
        "\n",
        "        with torch.no_grad():\n",
        "            z_scores = model(images)\n",
        "            loss = criterion(z_scores, labels)\n",
        "\n",
        "            running_loss += loss.item() * images.size(0)\n",
        "            _, predictions = torch.max(z_scores, 1)\n",
        "            running_corrects += torch.sum(predictions == labels)\n",
        "\n",
        "    epoch_loss_val = running_loss / len(val_dataset)\n",
        "    epoch_acc_val = running_corrects / len(val_dataset)\n",
        "    print(f'Epoch {epoch + 1} / {num_epochs}, '\n",
        "          f'Val Loss {epoch_loss_val:.4f}, '\n",
        "          f'Val Acc {epoch_acc_val:.4f}')\n",
        "\n",
        "    val_acc_hist.append(epoch_acc_val)\n",
        "    loss_val.append(epoch_loss_val)\n",
        "\n",
        "    if epoch_acc_val > best_acc:\n",
        "        best_acc = epoch_acc_val\n",
        "\n",
        "time_elapsed = time.time() - start"
      ],
      "execution_count": null,
      "outputs": [
        {
          "output_type": "stream",
          "text": [
            "Epoch 1 / 50, Train Loss 1.7566, Train Acc 0.3553\n",
            "Epoch 1 / 50, Val Loss 1.5192, Val Acc 0.4456\n",
            "Epoch 2 / 50, Train Loss 1.4636, Train Acc 0.4692\n",
            "Epoch 2 / 50, Val Loss 1.3794, Val Acc 0.4963\n",
            "Epoch 3 / 50, Train Loss 1.3483, Train Acc 0.5146\n",
            "Epoch 3 / 50, Val Loss 1.3392, Val Acc 0.5180\n",
            "Epoch 4 / 50, Train Loss 1.2698, Train Acc 0.5435\n",
            "Epoch 4 / 50, Val Loss 1.2632, Val Acc 0.5460\n",
            "Epoch 5 / 50, Train Loss 1.2141, Train Acc 0.5662\n",
            "Epoch 5 / 50, Val Loss 1.2375, Val Acc 0.5587\n",
            "Epoch 6 / 50, Train Loss 1.1633, Train Acc 0.5853\n",
            "Epoch 6 / 50, Val Loss 1.2138, Val Acc 0.5742\n",
            "Epoch 7 / 50, Train Loss 1.1208, Train Acc 0.6006\n",
            "Epoch 7 / 50, Val Loss 1.2160, Val Acc 0.5730\n",
            "Epoch 8 / 50, Train Loss 1.0838, Train Acc 0.6143\n",
            "Epoch 8 / 50, Val Loss 1.1640, Val Acc 0.5897\n",
            "Epoch 9 / 50, Train Loss 1.0481, Train Acc 0.6256\n",
            "Epoch 9 / 50, Val Loss 1.1543, Val Acc 0.5949\n",
            "Epoch 10 / 50, Train Loss 1.0142, Train Acc 0.6390\n",
            "Epoch 10 / 50, Val Loss 1.1788, Val Acc 0.5896\n",
            "Epoch 11 / 50, Train Loss 0.9860, Train Acc 0.6511\n",
            "Epoch 11 / 50, Val Loss 1.1419, Val Acc 0.5986\n",
            "Epoch 12 / 50, Train Loss 0.9591, Train Acc 0.6601\n",
            "Epoch 12 / 50, Val Loss 1.1775, Val Acc 0.5921\n",
            "Epoch 13 / 50, Train Loss 0.9311, Train Acc 0.6702\n",
            "Epoch 13 / 50, Val Loss 1.1741, Val Acc 0.5961\n",
            "Epoch 14 / 50, Train Loss 0.9059, Train Acc 0.6780\n",
            "Epoch 14 / 50, Val Loss 1.1369, Val Acc 0.6093\n",
            "Epoch 15 / 50, Train Loss 0.8852, Train Acc 0.6839\n",
            "Epoch 15 / 50, Val Loss 1.1539, Val Acc 0.6053\n",
            "Epoch 16 / 50, Train Loss 0.8618, Train Acc 0.6936\n",
            "Epoch 16 / 50, Val Loss 1.1592, Val Acc 0.6057\n",
            "Epoch 17 / 50, Train Loss 0.8408, Train Acc 0.7005\n",
            "Epoch 17 / 50, Val Loss 1.1524, Val Acc 0.6124\n",
            "Epoch 18 / 50, Train Loss 0.8146, Train Acc 0.7096\n",
            "Epoch 18 / 50, Val Loss 1.1601, Val Acc 0.6079\n",
            "Epoch 19 / 50, Train Loss 0.7974, Train Acc 0.7152\n",
            "Epoch 19 / 50, Val Loss 1.1632, Val Acc 0.6107\n",
            "Epoch 20 / 50, Train Loss 0.7782, Train Acc 0.7220\n",
            "Epoch 20 / 50, Val Loss 1.1823, Val Acc 0.6122\n",
            "Epoch 21 / 50, Train Loss 0.7585, Train Acc 0.7291\n",
            "Epoch 21 / 50, Val Loss 1.2554, Val Acc 0.5967\n",
            "Epoch 22 / 50, Train Loss 0.7375, Train Acc 0.7364\n",
            "Epoch 22 / 50, Val Loss 1.2303, Val Acc 0.6062\n",
            "Epoch 23 / 50, Train Loss 0.7167, Train Acc 0.7449\n",
            "Epoch 23 / 50, Val Loss 1.2244, Val Acc 0.6016\n",
            "Epoch 24 / 50, Train Loss 0.7017, Train Acc 0.7495\n",
            "Epoch 24 / 50, Val Loss 1.2532, Val Acc 0.6069\n",
            "Epoch 25 / 50, Train Loss 0.6827, Train Acc 0.7558\n",
            "Epoch 25 / 50, Val Loss 1.2507, Val Acc 0.6092\n",
            "Epoch 26 / 50, Train Loss 0.6674, Train Acc 0.7619\n",
            "Epoch 26 / 50, Val Loss 1.2846, Val Acc 0.6058\n",
            "Epoch 27 / 50, Train Loss 0.6479, Train Acc 0.7682\n",
            "Epoch 27 / 50, Val Loss 1.2925, Val Acc 0.6094\n",
            "Epoch 28 / 50, Train Loss 0.6402, Train Acc 0.7712\n",
            "Epoch 28 / 50, Val Loss 1.3074, Val Acc 0.6092\n",
            "Epoch 29 / 50, Train Loss 0.6215, Train Acc 0.7758\n",
            "Epoch 29 / 50, Val Loss 1.3506, Val Acc 0.5956\n",
            "Epoch 30 / 50, Train Loss 0.6070, Train Acc 0.7827\n",
            "Epoch 30 / 50, Val Loss 1.3213, Val Acc 0.6080\n",
            "Epoch 31 / 50, Train Loss 0.5860, Train Acc 0.7909\n",
            "Epoch 31 / 50, Val Loss 1.3892, Val Acc 0.6028\n",
            "Epoch 32 / 50, Train Loss 0.5747, Train Acc 0.7943\n",
            "Epoch 32 / 50, Val Loss 1.3851, Val Acc 0.6009\n",
            "Epoch 33 / 50, Train Loss 0.5638, Train Acc 0.7978\n",
            "Epoch 33 / 50, Val Loss 1.4758, Val Acc 0.5829\n",
            "Epoch 34 / 50, Train Loss 0.5530, Train Acc 0.8001\n",
            "Epoch 34 / 50, Val Loss 1.4780, Val Acc 0.5943\n",
            "Epoch 35 / 50, Train Loss 0.5316, Train Acc 0.8072\n",
            "Epoch 35 / 50, Val Loss 1.5151, Val Acc 0.6011\n",
            "Epoch 36 / 50, Train Loss 0.5290, Train Acc 0.8080\n",
            "Epoch 36 / 50, Val Loss 1.5229, Val Acc 0.6040\n",
            "Epoch 37 / 50, Train Loss 0.5136, Train Acc 0.8155\n",
            "Epoch 37 / 50, Val Loss 1.5363, Val Acc 0.6009\n",
            "Epoch 38 / 50, Train Loss 0.4997, Train Acc 0.8219\n",
            "Epoch 38 / 50, Val Loss 1.5477, Val Acc 0.5930\n",
            "Epoch 39 / 50, Train Loss 0.4896, Train Acc 0.8237\n",
            "Epoch 39 / 50, Val Loss 1.6494, Val Acc 0.5924\n",
            "Epoch 40 / 50, Train Loss 0.4846, Train Acc 0.8252\n",
            "Epoch 40 / 50, Val Loss 1.6437, Val Acc 0.5962\n",
            "Epoch 41 / 50, Train Loss 0.4648, Train Acc 0.8313\n",
            "Epoch 41 / 50, Val Loss 1.7405, Val Acc 0.5778\n",
            "Epoch 42 / 50, Train Loss 0.4573, Train Acc 0.8331\n",
            "Epoch 42 / 50, Val Loss 1.7339, Val Acc 0.5958\n",
            "Epoch 43 / 50, Train Loss 0.4482, Train Acc 0.8392\n",
            "Epoch 43 / 50, Val Loss 1.7245, Val Acc 0.5929\n",
            "Epoch 44 / 50, Train Loss 0.4339, Train Acc 0.8434\n",
            "Epoch 44 / 50, Val Loss 1.7916, Val Acc 0.5890\n",
            "Epoch 45 / 50, Train Loss 0.4297, Train Acc 0.8447\n",
            "Epoch 45 / 50, Val Loss 1.7525, Val Acc 0.5926\n",
            "Epoch 46 / 50, Train Loss 0.4225, Train Acc 0.8450\n",
            "Epoch 46 / 50, Val Loss 1.8312, Val Acc 0.5844\n",
            "Epoch 47 / 50, Train Loss 0.4037, Train Acc 0.8542\n",
            "Epoch 47 / 50, Val Loss 1.8650, Val Acc 0.5870\n",
            "Epoch 48 / 50, Train Loss 0.4007, Train Acc 0.8553\n",
            "Epoch 48 / 50, Val Loss 1.9844, Val Acc 0.5819\n",
            "Epoch 49 / 50, Train Loss 0.3842, Train Acc 0.8602\n",
            "Epoch 49 / 50, Val Loss 2.0082, Val Acc 0.5887\n",
            "Epoch 50 / 50, Train Loss 0.3824, Train Acc 0.8613\n",
            "Epoch 50 / 50, Val Loss 2.0938, Val Acc 0.5806\n"
          ],
          "name": "stdout"
        }
      ]
    },
    {
      "cell_type": "code",
      "metadata": {
        "id": "2fLpUDaEKJ_j"
      },
      "source": [
        "def calculate_time (time_elapsed):\n",
        "    minutes = time_elapsed // 60\n",
        "    seconds = time_elapsed % 60\n",
        "    if minutes > 60:\n",
        "        hours = minutes // 60\n",
        "        new_minutes = minutes % 60\n",
        "        print(f'Training complete in {hours:.0f}h {new_minutes:.0f}m {seconds:.0f}s')\n",
        "    else:\n",
        "        print(f'Training complete in {minutes:.0f}m {seconds:.0f}s')"
      ],
      "execution_count": null,
      "outputs": []
    },
    {
      "cell_type": "code",
      "metadata": {
        "colab": {
          "base_uri": "https://localhost:8080/"
        },
        "id": "UUZ6esURJz1S",
        "outputId": "9b90f92e-a3b8-4842-e3e2-ab0b02549be5"
      },
      "source": [
        "calculate_time(time_elapsed)"
      ],
      "execution_count": null,
      "outputs": [
        {
          "output_type": "stream",
          "text": [
            "Training complete in 7m 52s\n"
          ],
          "name": "stdout"
        }
      ]
    },
    {
      "cell_type": "code",
      "metadata": {
        "id": "Zd45xZoeJz8x"
      },
      "source": [
        "checkpoint = {\n",
        "                'model_state_dict': model.state_dict(),\n",
        "                'model_optimizer': optimizer.state_dict(),\n",
        "                'val_acc_hist': val_acc_hist,\n",
        "                'train_acc_hist': train_acc_hist,\n",
        "                'loss_train': loss_train,\n",
        "                'loss_val': loss_val,\n",
        "                'best_acc': best_acc\n",
        "}\n",
        "\n",
        "torch.save(checkpoint, '/content/drive/MyDrive/lenet_on_cifar.pth')"
      ],
      "execution_count": null,
      "outputs": []
    },
    {
      "cell_type": "code",
      "metadata": {
        "colab": {
          "base_uri": "https://localhost:8080/"
        },
        "id": "aqictDB5J2Bz",
        "outputId": "89cef2e3-767f-4023-ef1b-28beee35a8c1"
      },
      "source": [
        "print(f'Best validation Accuracy: {best_acc:.4f}')"
      ],
      "execution_count": null,
      "outputs": [
        {
          "output_type": "stream",
          "text": [
            "Best validation Accuracy: 0.6124\n"
          ],
          "name": "stdout"
        }
      ]
    },
    {
      "cell_type": "code",
      "metadata": {
        "colab": {
          "base_uri": "https://localhost:8080/",
          "height": 505
        },
        "id": "P1S23G-6J2D6",
        "outputId": "a7a28274-4678-4959-a5c7-cd29285d89aa"
      },
      "source": [
        "val_acc_hist_numpy = [acc.cpu().numpy() for acc in val_acc_hist]\n",
        "train_acc_hist_numpy = [acc.cpu().numpy() for acc in train_acc_hist]\n",
        "plt.figure(figsize=(20,10))\n",
        "plt.grid()\n",
        "plt.plot(range(1, num_epochs+1), val_acc_hist_numpy, label='Val Acc')\n",
        "plt.plot(range(1, num_epochs+1), train_acc_hist_numpy, label='Train Acc')\n",
        "plt.xlabel('Epochs')\n",
        "plt.ylabel('Acc')\n",
        "plt.title(\"Acc Plots\")\n",
        "plt.legend(loc='upper right')\n",
        "plt.show()"
      ],
      "execution_count": null,
      "outputs": [
        {
          "output_type": "display_data",
          "data": {
            "image/png": "[encoded data removed]",
            "text/plain": [
              "<Figure size 1440x720 with 1 Axes>"
            ]
          },
          "metadata": {
            "tags": [],
            "needs_background": "light"
          }
        }
      ]
    },
    {
      "cell_type": "code",
      "metadata": {
        "colab": {
          "base_uri": "https://localhost:8080/",
          "height": 503
        },
        "id": "1Lmaj7CxJ7_8",
        "outputId": "03b7f828-5a21-4121-d2fa-6b2527a356a8"
      },
      "source": [
        "plt.figure(figsize=(20,10))\n",
        "plt.grid()\n",
        "plt.plot(range(1, num_epochs+1), loss_train, label='Train Loss')\n",
        "plt.plot(range(1, num_epochs+1), loss_val, label='Val Loss')\n",
        "plt.xlabel('Epochs')\n",
        "plt.ylabel('Loss')\n",
        "plt.title(\"Loss Plots\")\n",
        "plt.legend(loc='upper right')\n",
        "plt.show()"
      ],
      "execution_count": null,
      "outputs": [
        {
          "output_type": "display_data",
          "data": {
            "image/png": "[encoded data removed]",
            "text/plain": [
              "<Figure size 1440x720 with 1 Axes>"
            ]
          },
          "metadata": {
            "tags": [],
            "needs_background": "light"
          }
        }
      ]
    },
    {
      "cell_type": "code",
      "metadata": {
        "colab": {
          "base_uri": "https://localhost:8080/"
        },
        "id": "OkskNN0_QGhH",
        "outputId": "666e70a9-9a16-48d3-9882-91a2eddf39c8"
      },
      "source": [
        "model.eval()\n",
        "\n",
        "running_corrects = 0\n",
        "\n",
        "with torch.no_grad():\n",
        "    for idx, (images, labels) in enumerate(test_loader):\n",
        "        images = images.to(device)\n",
        "        labels = labels.to(device)\n",
        "\n",
        "        z_scores = model(images)\n",
        "\n",
        "        _, predictions = torch.max(z_scores,1)\n",
        "        running_corrects += torch.sum(predictions == labels)\n",
        "\n",
        "    acc = running_corrects / len(test_dataset)\n",
        "    print(f'Test Accuracy: {acc:.4f}')"
      ],
      "execution_count": null,
      "outputs": [
        {
          "output_type": "stream",
          "text": [
            "Test Accuracy: 0.5600\n"
          ],
          "name": "stdout"
        }
      ]
    }
  ]
}