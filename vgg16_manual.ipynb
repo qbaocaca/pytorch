{
  "nbformat": 4,
  "nbformat_minor": 0,
  "metadata": {
    "colab": {
      "name": "vgg16_manual.ipynb",
      "provenance": []
    },
    "kernelspec": {
      "name": "python3",
      "display_name": "Python 3"
    },
    "language_info": {
      "name": "python"
    },
    "accelerator": "GPU"
  },
  "cells": [
    {
      "cell_type": "code",
      "metadata": {
        "id": "AxIv2e43JRFd"
      },
      "source": [
        "import torch\n",
        "import torch.nn as nn\n",
        "import torch.optim as optim\n",
        "import torchvision.datasets as datasets\n",
        "import torchvision.transforms as transforms\n",
        "import torchvision\n",
        "from torch.utils.data import DataLoader\n",
        "import numpy as np\n",
        "import random\n",
        "import matplotlib.pyplot as plt\n",
        "import time"
      ],
      "execution_count": null,
      "outputs": []
    },
    {
      "cell_type": "code",
      "metadata": {
        "colab": {
          "base_uri": "https://localhost:8080/"
        },
        "id": "aQeAWdJdJUd7",
        "outputId": "e68ca32d-d6bc-4c47-a83c-dbeb3cc91f77"
      },
      "source": [
        "device = torch.device('cuda' if torch.cuda.is_available else 'cpu')\n",
        "print(device)"
      ],
      "execution_count": null,
      "outputs": [
        {
          "output_type": "stream",
          "text": [
            "cuda\n"
          ],
          "name": "stdout"
        }
      ]
    },
    {
      "cell_type": "code",
      "metadata": {
        "id": "007LWLB1JX6C"
      },
      "source": [
        "seed=1\n",
        "random.seed(seed)\n",
        "np.random.seed(seed)\n",
        "torch.manual_seed(seed)\n",
        "torch.backends.cudnn.deterministic = True\n",
        "torch.backends.cudnn.benchmark = False"
      ],
      "execution_count": null,
      "outputs": []
    },
    {
      "cell_type": "code",
      "metadata": {
        "id": "qIUhttPsJX9D"
      },
      "source": [
        "batch_size = 64\n",
        "learning_rate = 0.1"
      ],
      "execution_count": null,
      "outputs": []
    },
    {
      "cell_type": "code",
      "metadata": {
        "id": "E835pyI3SP-t"
      },
      "source": [
        "mean = np.array([0.485, 0.456, 0.406])\n",
        "std = np.array([0.229, 0.224, 0.225])"
      ],
      "execution_count": null,
      "outputs": []
    },
    {
      "cell_type": "code",
      "metadata": {
        "id": "SUWpZK-PSyOc"
      },
      "source": [
        "train_trans = transforms.Compose(\n",
        "    [\n",
        "     transforms.RandomResizedCrop((224,224)),\n",
        "     transforms.RandomHorizontalFlip(),\n",
        "     transforms.ToTensor(),\n",
        "     transforms.Normalize(mean, std)\n",
        "    ]\n",
        ")\n",
        "\n",
        "val_trans = transforms.Compose(\n",
        "    [\n",
        "     transforms.Resize((224,224)),\n",
        "     transforms.CenterCrop((224, 224)),\n",
        "     transforms.RandomVerticalFlip(),\n",
        "     transforms.ToTensor(),\n",
        "     transforms.Normalize(mean, std)\n",
        "    ]\n",
        ")"
      ],
      "execution_count": null,
      "outputs": []
    },
    {
      "cell_type": "code",
      "metadata": {
        "id": "bdpy0JKFJX_T"
      },
      "source": [
        "train_dataset = datasets.ImageFolder(root='/content/drive/MyDrive/dataset/hymenoptera_data/train',\n",
        "                                 transform=train_trans\n",
        "                                 )\n",
        "\n",
        "val_dataset = datasets.ImageFolder(root='/content/drive/MyDrive/dataset/hymenoptera_data/val',\n",
        "                                 transform=val_trans\n",
        "                                 )\n",
        "\n",
        "train_loader = DataLoader(dataset=train_dataset,\n",
        "                          batch_size=batch_size,\n",
        "                          shuffle=True)\n",
        "\n",
        "val_loader = DataLoader(dataset=val_dataset,\n",
        "                        batch_size=batch_size,\n",
        "                        shuffle=False)"
      ],
      "execution_count": null,
      "outputs": []
    },
    {
      "cell_type": "code",
      "metadata": {
        "id": "OlLMwQJGZXI3"
      },
      "source": [
        "class VGG_16 (nn.Module):\n",
        "\n",
        "    def __init__(self, num_classes):\n",
        "        super(VGG_16, self).__init__()\n",
        "\n",
        "        self.conv1 = nn.Conv2d(in_channels=3,\n",
        "                               out_channels=64,\n",
        "                               kernel_size=(3,3),\n",
        "                               stride=(1,1),\n",
        "                               padding=(1,1))\n",
        "\n",
        "        self.conv1_2nd = nn.Conv2d(in_channels=64,\n",
        "                              out_channels=64,\n",
        "                              kernel_size=(3, 3),\n",
        "                              stride=(1, 1),\n",
        "                              padding=(1, 1))\n",
        "\n",
        "        self.pool = nn.MaxPool2d(kernel_size=(2,2),\n",
        "                                 stride=(2,2))\n",
        "\n",
        "        self.conv2 = nn.Conv2d(in_channels=64,\n",
        "                               out_channels=128,\n",
        "                               kernel_size=(3, 3),\n",
        "                               stride=(1, 1),\n",
        "                               padding=(1,1))\n",
        "\n",
        "        self.conv2_2nd = nn.Conv2d(in_channels=128,\n",
        "                              out_channels=128,\n",
        "                              kernel_size=(3, 3),\n",
        "                              stride=(1, 1),\n",
        "                              padding=(1, 1))\n",
        "\n",
        "        self.conv3 = nn.Conv2d(in_channels=128,\n",
        "                               out_channels=256,\n",
        "                               kernel_size=(3, 3),\n",
        "                               stride=(1, 1),\n",
        "                               padding=(1, 1)\n",
        "                               )\n",
        "\n",
        "        self.conv3_2nd = nn.Conv2d(in_channels=256,\n",
        "                              out_channels=256,\n",
        "                              kernel_size=(3, 3),\n",
        "                              stride=(1, 1),\n",
        "                              padding=(1, 1)\n",
        "                              )\n",
        "\n",
        "        self.conv4 = nn.Conv2d(in_channels=256,\n",
        "                               out_channels=512,\n",
        "                               kernel_size=(3, 3),\n",
        "                               stride=(1, 1),\n",
        "                               padding=(1, 1)\n",
        "                               )\n",
        "\n",
        "        self.conv4_2nd = nn.Conv2d(in_channels=512,\n",
        "                              out_channels=512,\n",
        "                              kernel_size=(3, 3),\n",
        "                              stride=(1, 1),\n",
        "                              padding=(1, 1)\n",
        "                              )\n",
        "\n",
        "        self.relu = nn.ReLU()\n",
        "\n",
        "        self.fc1 = nn.Linear(in_features=512*7*7,\n",
        "                             out_features=4096)\n",
        "\n",
        "        self.fc2 = nn.Linear(4096, 4096)\n",
        "        self.fc3 = nn.Linear(4096, num_classes)\n",
        "\n",
        "        # self.softmax = nn.Softmax()\n",
        "\n",
        "    def forward(self, X):\n",
        "\n",
        "        input_layer = self.relu(self.conv1(X))\n",
        "        out = self.relu(self.conv1_2nd(input_layer))\n",
        "        out = self.pool(out)\n",
        "\n",
        "        out = self.relu(self.conv2(out))\n",
        "        out = self.relu(self.conv2_2nd(out))\n",
        "        out = self.pool(out)\n",
        "\n",
        "        out = self.relu(self.conv3(out))\n",
        "        out = self.relu(self.conv3_2nd(out))\n",
        "        out = self.relu(self.conv3_2nd(out))\n",
        "        out = self.pool(out)\n",
        "\n",
        "        out = self.relu(self.conv4(out))\n",
        "        out = self.relu(self.conv4_2nd(out))\n",
        "        out = self.relu(self.conv4_2nd(out))\n",
        "        out = self.pool(out)\n",
        "\n",
        "        out = self.relu(self.conv4_2nd(out))\n",
        "        out = self.relu(self.conv4_2nd(out))\n",
        "        out = self.relu(self.conv4_2nd(out))\n",
        "        out = self.pool(out)\n",
        "\n",
        "        out = out.reshape(out.shape[0], -1)\n",
        "        out = self.relu(self.fc1(out))\n",
        "        out = self.relu(self.fc2(out))\n",
        "        # out = self.softmax(self.fc3(out))\n",
        "        out = self.fc3(out)\n",
        "\n",
        "        return out"
      ],
      "execution_count": null,
      "outputs": []
    },
    {
      "cell_type": "code",
      "metadata": {
        "colab": {
          "base_uri": "https://localhost:8080/"
        },
        "id": "OrASY-_bJf0y",
        "outputId": "b9060928-8647-4f7b-a9d2-330f93f8e021"
      },
      "source": [
        "model = VGG_16(num_classes=10)\n",
        "model = model.to(device)\n",
        "print(model)"
      ],
      "execution_count": null,
      "outputs": [
        {
          "output_type": "stream",
          "text": [
            "VGG_16(\n",
            "  (conv1): Conv2d(3, 64, kernel_size=(3, 3), stride=(1, 1), padding=(1, 1))\n",
            "  (conv1_2nd): Conv2d(64, 64, kernel_size=(3, 3), stride=(1, 1), padding=(1, 1))\n",
            "  (pool): MaxPool2d(kernel_size=(2, 2), stride=(2, 2), padding=0, dilation=1, ceil_mode=False)\n",
            "  (conv2): Conv2d(64, 128, kernel_size=(3, 3), stride=(1, 1), padding=(1, 1))\n",
            "  (conv2_2nd): Conv2d(128, 128, kernel_size=(3, 3), stride=(1, 1), padding=(1, 1))\n",
            "  (conv3): Conv2d(128, 256, kernel_size=(3, 3), stride=(1, 1), padding=(1, 1))\n",
            "  (conv3_2nd): Conv2d(256, 256, kernel_size=(3, 3), stride=(1, 1), padding=(1, 1))\n",
            "  (conv4): Conv2d(256, 512, kernel_size=(3, 3), stride=(1, 1), padding=(1, 1))\n",
            "  (conv4_2nd): Conv2d(512, 512, kernel_size=(3, 3), stride=(1, 1), padding=(1, 1))\n",
            "  (relu): ReLU()\n",
            "  (fc1): Linear(in_features=25088, out_features=4096, bias=True)\n",
            "  (fc2): Linear(in_features=4096, out_features=4096, bias=True)\n",
            "  (fc3): Linear(in_features=4096, out_features=10, bias=True)\n",
            ")\n"
          ],
          "name": "stdout"
        }
      ]
    },
    {
      "cell_type": "code",
      "metadata": {
        "id": "VRsFh0_ZJf3q"
      },
      "source": [
        "criterion = nn.CrossEntropyLoss()\n",
        "optimizer = optim.Adam(model.parameters(), lr=learning_rate)"
      ],
      "execution_count": null,
      "outputs": []
    },
    {
      "cell_type": "code",
      "metadata": {
        "id": "ckljQ_d2Jf6A"
      },
      "source": [
        "num_epochs = 3\n",
        "start = time.time()\n",
        "val_acc_hist = []\n",
        "train_acc_hist = []\n",
        "loss_train = []\n",
        "loss_val = []\n",
        "best_acc = 0.0"
      ],
      "execution_count": null,
      "outputs": []
    },
    {
      "cell_type": "code",
      "metadata": {
        "id": "Ucvs2ATOQIsf"
      },
      "source": [
        "torch.cuda.empty_cache()"
      ],
      "execution_count": null,
      "outputs": []
    },
    {
      "cell_type": "code",
      "metadata": {
        "id": "KnSIE_v8YEvL"
      },
      "source": [
        "step_lr_scheduler = torch.optim.lr_scheduler.StepLR(optimizer, step_size=1, gamma=0.1)"
      ],
      "execution_count": null,
      "outputs": []
    },
    {
      "cell_type": "code",
      "metadata": {
        "colab": {
          "base_uri": "https://localhost:8080/"
        },
        "id": "_-rLfx4GJsUs",
        "outputId": "8b86d4a9-a759-439f-c6c3-caa7cc033fa3"
      },
      "source": [
        "for epoch in range(num_epochs):\n",
        "\n",
        "    model.train()\n",
        "\n",
        "    running_loss = 0.0\n",
        "    running_corrects = 0\n",
        "\n",
        "    for idx, (images, labels) in enumerate(train_loader):\n",
        "        images = images.to(device)\n",
        "        labels = labels.to(device)\n",
        "        z_scores = model(images)\n",
        "        loss = criterion(z_scores, labels)\n",
        "        optimizer.zero_grad()\n",
        "        loss.backward()\n",
        "        optimizer.step()\n",
        "\n",
        "        running_loss += loss.item() * images.size(0)\n",
        "        _, predictions = torch.max(z_scores, 1)\n",
        "        running_corrects += torch.sum(predictions == labels)\n",
        "\n",
        "    epoch_loss = running_loss / len(train_dataset)\n",
        "    epoch_acc = running_corrects / len(train_dataset)\n",
        "    print(f'Epoch {epoch+1} / {num_epochs}, '\n",
        "          f'Train Loss {epoch_loss:.4f}, '\n",
        "          f'Train Acc {epoch_acc:.4f}')\n",
        "\n",
        "    train_acc_hist.append(epoch_acc)\n",
        "    loss_train.append(epoch_loss)\n",
        "\n",
        "    step_lr_scheduler.step()\n",
        "\n",
        "    model.eval()\n",
        "\n",
        "    running_loss = 0.0\n",
        "    running_corrects = 0\n",
        "\n",
        "    for idx, (images, labels) in enumerate(val_loader):\n",
        "        images = images.to(device)\n",
        "        labels = labels.to(device)\n",
        "\n",
        "        with torch.no_grad():\n",
        "            z_scores = model(images)\n",
        "            loss = criterion(z_scores, labels)\n",
        "\n",
        "            running_loss += loss.item() * images.size(0)\n",
        "            _, predictions = torch.max(z_scores, 1)\n",
        "            running_corrects += torch.sum(predictions == labels)\n",
        "\n",
        "    epoch_loss_val = running_loss / len(val_dataset)\n",
        "    epoch_acc_val = running_corrects / len(val_dataset)\n",
        "    print(f'Epoch {epoch + 1} / {num_epochs}, '\n",
        "          f'Val Loss {epoch_loss_val:.4f}, '\n",
        "          f'Val Acc {epoch_acc_val:.4f}')\n",
        "\n",
        "    val_acc_hist.append(epoch_acc_val)\n",
        "    loss_val.append(epoch_loss_val)\n",
        "\n",
        "    if epoch_acc_val > best_acc:\n",
        "        best_acc = epoch_acc_val\n",
        "\n",
        "time_elapsed = time.time() - start"
      ],
      "execution_count": null,
      "outputs": [
        {
          "output_type": "stream",
          "text": [
            "/usr/local/lib/python3.7/dist-packages/torch/nn/functional.py:718: UserWarning: Named tensors and all their associated APIs are an experimental feature and subject to change. Please do not use them for anything important until they are released as stable. (Triggered internally at  /pytorch/c10/core/TensorImpl.h:1156.)\n",
            "  return torch.max_pool2d(input, kernel_size, stride, padding, dilation, ceil_mode)\n"
          ],
          "name": "stderr"
        },
        {
          "output_type": "stream",
          "text": [
            "Epoch 1 / 3, Train Loss 103872590391113756442624.0000, Train Acc 0.4057\n",
            "Epoch 1 / 3, Val Loss 55872847209274966016.0000, Val Acc 0.4575\n",
            "Epoch 2 / 3, Train Loss 14729071681187708928.0000, Train Acc 0.5041\n",
            "Epoch 2 / 3, Val Loss 187758817485323872.0000, Val Acc 0.4575\n",
            "Epoch 3 / 3, Train Loss 99515501100181472.0000, Train Acc 0.5041\n",
            "Epoch 3 / 3, Val Loss 1595129394688241.0000, Val Acc 0.4575\n"
          ],
          "name": "stdout"
        }
      ]
    },
    {
      "cell_type": "code",
      "metadata": {
        "id": "2fLpUDaEKJ_j"
      },
      "source": [
        "def calculate_time (time_elapsed):\n",
        "    minutes = time_elapsed // 60\n",
        "    seconds = time_elapsed % 60\n",
        "    if minutes > 60:\n",
        "        hours = minutes // 60\n",
        "        new_minutes = minutes % 60\n",
        "        print(f'Training complete in {hours:.0f}h {new_minutes:.0f}m {seconds:.0f}s')\n",
        "    else:\n",
        "        print(f'Training complete in {minutes:.0f}m {seconds:.0f}s')"
      ],
      "execution_count": null,
      "outputs": []
    },
    {
      "cell_type": "code",
      "metadata": {
        "colab": {
          "base_uri": "https://localhost:8080/"
        },
        "id": "UUZ6esURJz1S",
        "outputId": "f05c7785-e29f-456a-ace4-8910a32b88be"
      },
      "source": [
        "calculate_time(time_elapsed)"
      ],
      "execution_count": null,
      "outputs": [
        {
          "output_type": "stream",
          "text": [
            "Training complete in 1m 41s\n"
          ],
          "name": "stdout"
        }
      ]
    },
    {
      "cell_type": "code",
      "metadata": {
        "colab": {
          "base_uri": "https://localhost:8080/"
        },
        "id": "aqictDB5J2Bz",
        "outputId": "651af6cd-1725-45b6-f533-12f1108aad0c"
      },
      "source": [
        "print(f'Best validation Accuracy: {best_acc:.4f}')"
      ],
      "execution_count": null,
      "outputs": [
        {
          "output_type": "stream",
          "text": [
            "Best validation Accuracy: 0.4575\n"
          ],
          "name": "stdout"
        }
      ]
    },
    {
      "cell_type": "code",
      "metadata": {
        "colab": {
          "base_uri": "https://localhost:8080/",
          "height": 621
        },
        "id": "P1S23G-6J2D6",
        "outputId": "009ee513-66f8-44a7-f0d3-9141a17379f1"
      },
      "source": [
        "val_acc_hist_numpy = [acc.cpu().numpy() for acc in val_acc_hist]\n",
        "train_acc_hist_numpy = [acc.cpu().numpy() for acc in train_acc_hist]\n",
        "plt.figure(figsize=(20,10))\n",
        "plt.grid()\n",
        "plt.plot(range(1, num_epochs+1), val_acc_hist_numpy, label='Val Acc')\n",
        "plt.plot(range(1, num_epochs+1), train_acc_hist_numpy, label='Train Acc')\n",
        "plt.xlabel('Epochs')\n",
        "plt.ylabel('Acc')\n",
        "plt.title(\"Acc Plots\")\n",
        "plt.legend(loc='upper right')\n",
        "plt.show()"
      ],
      "execution_count": null,
      "outputs": [
        {
          "output_type": "display_data",
          "data": {
            "image/png": "[encoded data removed]",
            "text/plain": [
              "<Figure size 1440x720 with 1 Axes>"
            ]
          },
          "metadata": {
            "tags": [],
            "needs_background": "light"
          }
        }
      ]
    },
    {
      "cell_type": "code",
      "metadata": {
        "colab": {
          "base_uri": "https://localhost:8080/",
          "height": 621
        },
        "id": "1Lmaj7CxJ7_8",
        "outputId": "afdb2bd3-2ae5-4b32-d2e7-3e2ad1a65c73"
      },
      "source": [
        "plt.figure(figsize=(20,10))\n",
        "plt.grid()\n",
        "plt.plot(range(1, num_epochs+1), loss_train, label='Train Loss')\n",
        "plt.plot(range(1, num_epochs+1), loss_val, label='Val Loss')\n",
        "plt.xlabel('Epochs')\n",
        "plt.ylabel('Loss')\n",
        "plt.title(\"Loss Plots\")\n",
        "plt.legend(loc='upper right')\n",
        "plt.show()"
      ],
      "execution_count": null,
      "outputs": [
        {
          "output_type": "display_data",
          "data": {
            "image/png": "[encoded data removed]",
            "text/plain": [
              "<Figure size 1440x720 with 1 Axes>"
            ]
          },
          "metadata": {
            "tags": [],
            "needs_background": "light"
          }
        }
      ]
    }
  ]
}