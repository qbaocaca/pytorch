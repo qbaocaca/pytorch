{
  "nbformat": 4,
  "nbformat_minor": 0,
  "metadata": {
    "colab": {
      "name": "efficientnet_manual_on_hymeno.ipynb",
      "provenance": []
    },
    "kernelspec": {
      "name": "python3",
      "display_name": "Python 3"
    },
    "language_info": {
      "name": "python"
    },
    "accelerator": "GPU"
  },
  "cells": [
    {
      "cell_type": "code",
      "metadata": {
        "id": "AxIv2e43JRFd"
      },
      "source": [
        "# importing the necessary libraries\n",
        "\n",
        "import torch\n",
        "import torch.nn as nn\n",
        "import torch.optim as optim\n",
        "import torchvision.datasets as datasets\n",
        "import torchvision.transforms as transforms\n",
        "import torchvision\n",
        "from torch.utils.data import DataLoader\n",
        "import numpy as np\n",
        "import random\n",
        "import matplotlib.pyplot as plt\n",
        "import time\n",
        "from math import ceil"
      ],
      "execution_count": null,
      "outputs": []
    },
    {
      "cell_type": "code",
      "metadata": {
        "colab": {
          "base_uri": "https://localhost:8080/"
        },
        "id": "Ka557tdq0d6Y",
        "outputId": "04593f26-6864-4ba1-d95d-3729276a064d"
      },
      "source": [
        "# connecting google drive\n",
        "\n",
        "from google.colab import drive\n",
        "drive.mount('/content/drive')"
      ],
      "execution_count": null,
      "outputs": [
        {
          "output_type": "stream",
          "text": [
            "Drive already mounted at /content/drive; to attempt to forcibly remount, call drive.mount(\"/content/drive\", force_remount=True).\n"
          ],
          "name": "stdout"
        }
      ]
    },
    {
      "cell_type": "code",
      "metadata": {
        "colab": {
          "base_uri": "https://localhost:8080/"
        },
        "id": "aQeAWdJdJUd7",
        "outputId": "8378bbe0-dcdc-4377-f39a-34c01353d1ac"
      },
      "source": [
        "# setting the device\n",
        "\n",
        "device = torch.device('cuda' if torch.cuda.is_available else 'cpu')\n",
        "print(device)"
      ],
      "execution_count": null,
      "outputs": [
        {
          "output_type": "stream",
          "name": "stdout",
          "text": [
            "cuda\n"
          ]
        }
      ]
    },
    {
      "cell_type": "code",
      "metadata": {
        "id": "007LWLB1JX6C"
      },
      "source": [
        "# setting seed for reproducible results\n",
        "\n",
        "seed=1\n",
        "random.seed(seed)\n",
        "np.random.seed(seed)\n",
        "torch.manual_seed(seed)\n",
        "torch.backends.cudnn.deterministic = True\n",
        "torch.backends.cudnn.benchmark = False"
      ],
      "execution_count": null,
      "outputs": []
    },
    {
      "cell_type": "code",
      "metadata": {
        "id": "qIUhttPsJX9D"
      },
      "source": [
        "# hyper-parameters\n",
        "\n",
        "batch_size = 32\n",
        "learning_rate = 0.001"
      ],
      "execution_count": null,
      "outputs": []
    },
    {
      "cell_type": "code",
      "metadata": {
        "id": "Uvd3GrXHUtVY"
      },
      "source": [
        "# mean, standard deviation for normalization\n",
        "\n",
        "mean = np.array([0.485, 0.456, 0.406])\n",
        "std = np.array([0.229, 0.224, 0.225])"
      ],
      "execution_count": null,
      "outputs": []
    },
    {
      "cell_type": "code",
      "metadata": {
        "id": "etopjDpVUYhe"
      },
      "source": [
        "# transforms the image dataset\n",
        "\n",
        "train_trans = transforms.Compose(\n",
        "    [\n",
        "     transforms.RandomResizedCrop((224,224)),   # resize\n",
        "     transforms.RandomHorizontalFlip(),\n",
        "     transforms.ToTensor(),\n",
        "     transforms.Normalize(mean, std)            # normalize for fear of light\n",
        "                                                # exposure, noise, etc\n",
        "    ]\n",
        ")\n",
        "\n",
        "val_trans = transforms.Compose(\n",
        "    [\n",
        "     transforms.Resize((224,224)),\n",
        "     transforms.CenterCrop((224, 224)),\n",
        "     transforms.RandomVerticalFlip(),\n",
        "     transforms.ToTensor(),\n",
        "     transforms.Normalize(mean, std)\n",
        "    ]\n",
        ")"
      ],
      "execution_count": null,
      "outputs": []
    },
    {
      "cell_type": "code",
      "metadata": {
        "id": "bdpy0JKFJX_T"
      },
      "source": [
        "# getting the dataset\n",
        "\n",
        "train_dataset = datasets.ImageFolder(root='/content/drive/MyDrive/dataset/hymenoptera_data/train',\n",
        "                                 transform=train_trans,\n",
        "                                 )\n",
        "\n",
        "val_dataset = datasets.ImageFolder(root='/content/drive/MyDrive/dataset/hymenoptera_data/val',\n",
        "                                 transform=val_trans,\n",
        "                                 )\n",
        "\n",
        "test_dataset = datasets.ImageFolder(root='/content/drive/MyDrive/dataset/hymenoptera_data/test',\n",
        "                                 transform=val_trans,\n",
        "                                 )\n",
        "\n",
        "train_loader = DataLoader(dataset=train_dataset,\n",
        "                          batch_size=batch_size,\n",
        "                          shuffle=True)\n",
        "\n",
        "val_loader = DataLoader(dataset=val_dataset,\n",
        "                        batch_size=batch_size,\n",
        "                        shuffle=False)\n",
        "\n",
        "test_loader = DataLoader(dataset=test_dataset,\n",
        "                        batch_size=batch_size,\n",
        "                        shuffle=False)"
      ],
      "execution_count": null,
      "outputs": []
    },
    {
      "cell_type": "code",
      "metadata": {
        "id": "qzPKnF2ZWBgX"
      },
      "source": [
        "# manually made efficientNet\n",
        "\n",
        "class conv_block (nn.Module):\n",
        "    def __init__(self, in_channels, out_channels, kernel_size, stride,\n",
        "                 padding):\n",
        "        super(conv_block, self).__init__()\n",
        "        self.conv = nn.Conv2d(in_channels=in_channels,\n",
        "                              out_channels=out_channels,\n",
        "                              kernel_size=kernel_size,\n",
        "                              stride=stride,\n",
        "                              padding=padding,\n",
        "                              )\n",
        "\n",
        "        self.bn = nn.BatchNorm2d(num_features=out_channels)\n",
        "        self.silu = nn.SiLU()\n",
        "\n",
        "        # efficientNet uses SiLU\n",
        "\n",
        "    def forward(self, X):\n",
        "        out = self.silu(self.bn(self.conv(X)))\n",
        "\n",
        "        return out\n",
        "\n",
        "class SElayer (nn.Module):\n",
        "    def __init__(self, in_channels, reduction=16):\n",
        "        super(SElayer, self).__init__()\n",
        "        self.squeeze = nn.AdaptiveAvgPool2d(output_size=1)\n",
        "\n",
        "        # excitation\n",
        "        self.relu = nn.ReLU()\n",
        "        self.fc1 = nn.Linear(in_features=in_channels,\n",
        "                                out_features=in_channels//reduction)\n",
        "        self.fc2 = nn.Linear(in_features=in_channels//reduction,\n",
        "                             out_features=in_channels)\n",
        "\n",
        "        self.sigmoid = nn.Sigmoid()\n",
        "\n",
        "    def forward (self, X):\n",
        "\n",
        "        out = self.squeeze(X)\n",
        "        # batch_size, channel, _, _ = x.size()\n",
        "        batch_size, channel, _, _ = X.shape\n",
        "\n",
        "        out = out.reshape(out.shape[0], -1)\n",
        "        out = self.relu(self.fc1(out))\n",
        "        out = self.sigmoid(self.fc2(out))\n",
        "        # out = out.view(batch_size, channel, 1, 1)\n",
        "        out = out.reshape(batch_size, channel, 1, 1)\n",
        "\n",
        "        # element-wise multiplied with X ???\n",
        "        # out = out.expand(X.size())\n",
        "        out = out.expand_as(X)\n",
        "\n",
        "        return X * out\n",
        "\n",
        "class depthwise_block(nn.Module):\n",
        "    def __init__(self, in_channels, out_channels, stride,\n",
        "                 kernel_size, padding, groups=1,\n",
        "                 act_type1=False):\n",
        "        super(depthwise_block, self).__init__()\n",
        "\n",
        "        assert act_type1 == True or act_type1 == False\n",
        "        self.act_type = act_type1\n",
        "\n",
        "        # dw\n",
        "\n",
        "        self.conv1 = nn.Conv2d(in_channels=in_channels,\n",
        "                               out_channels=in_channels,\n",
        "                               kernel_size=kernel_size,\n",
        "                               stride=stride,\n",
        "                               padding=padding,\n",
        "                               groups=groups\n",
        "                               )\n",
        "\n",
        "        self.bn1 = nn.BatchNorm2d(num_features=in_channels)\n",
        "\n",
        "        # mobilenet_v3 uses both Hardswish and ReLU\n",
        "\n",
        "        if act_type1:\n",
        "            self.relu = nn.ReLU6()\n",
        "\n",
        "        self.hardswish = nn.Hardswish()\n",
        "\n",
        "        # pw\n",
        "\n",
        "        self.conv2 = nn.Conv2d(in_channels=in_channels,\n",
        "                               out_channels=out_channels,\n",
        "                               kernel_size=(1, 1),\n",
        "                               stride=(1, 1),\n",
        "                               padding=(0, 0),\n",
        "                               )\n",
        "        self.bn2 = nn.BatchNorm2d(num_features=out_channels)\n",
        "\n",
        "    def forward(self, X):\n",
        "\n",
        "        if self.act_type:\n",
        "            out = self.relu(self.bn1(self.conv1(X)))\n",
        "        else:\n",
        "            out = self.hardswish(self.bn1(self.conv1(X)))\n",
        "\n",
        "        out = self.bn2(self.conv2(out))\n",
        "\n",
        "        # mobilev2 doesnt have relu in pw\n",
        "\n",
        "        return out\n",
        "\n",
        "class InvertedResidual_block (nn.Module):\n",
        "\n",
        "    def __init__(self, in_channels, out_channels, kernel_size,\n",
        "                 stride, padding, block_type1=False,\n",
        "                 expand_ratio=6, act_type_=False, use_se=False,\n",
        "                 survival_prob=0.8):\n",
        "\n",
        "        super(InvertedResidual_block, self).__init__()\n",
        "\n",
        "        assert block_type1 == True or block_type1 == False\n",
        "        assert use_se == True or use_se == False\n",
        "        self.block_type = block_type1\n",
        "        self.se_layer = use_se\n",
        "        self.survival_prob = 0.8\n",
        "\n",
        "        # expansion\n",
        "\n",
        "        self.conv1 = conv_block(in_channels=in_channels,\n",
        "                               out_channels=in_channels*expand_ratio,\n",
        "                                kernel_size=(1,1),\n",
        "                               stride=(1,1),\n",
        "                                padding=(0,0))\n",
        "\n",
        "        # depthwise_block = depthwise + pointwise\n",
        "\n",
        "        self.convdw = depthwise_block(in_channels=in_channels*expand_ratio,\n",
        "                                      out_channels=out_channels,\n",
        "                                      kernel_size=kernel_size,\n",
        "                                      stride=stride,\n",
        "                                      padding=padding,\n",
        "                                      groups=in_channels*expand_ratio,\n",
        "                                      act_type1=act_type_)\n",
        "\n",
        "        if block_type1:\n",
        "            self.padd_conv = nn.Conv2d(in_channels=in_channels,\n",
        "                                       out_channels=out_channels,\n",
        "                                       kernel_size=(1, 1),\n",
        "                                       stride=(1, 1),\n",
        "                                       padding=(0, 0))\n",
        "\n",
        "        if use_se:\n",
        "            self.se = SElayer(in_channels=out_channels, reduction=16)\n",
        "\n",
        "\n",
        "    def stochastic_depth (self, X):\n",
        "        if not self.training:\n",
        "            return X\n",
        "\n",
        "        binary_tensor = torch.randn(X.shape[0], 1, 1, 1,\n",
        "                                    device=X.device) < self.survival_prob\n",
        "\n",
        "        return torch.div(X, self.survival_prob) * binary_tensor\n",
        "\n",
        "    def forward(self, X):\n",
        "\n",
        "        out = self.conv1(X)     # expand\n",
        "        out = self.convdw(out)  # depthwise_block\n",
        "\n",
        "        if self.se_layer:\n",
        "            out = self.se(out)\n",
        "\n",
        "        if self.block_type:     # if use residual\n",
        "            out = self.stochastic_depth(out)\n",
        "            X = self.padd_conv(X)\n",
        "            out += X\n",
        "            return out\n",
        "        else:\n",
        "            return out\n",
        "\n",
        "phi_values = {\n",
        "    # tuple of: (phi_value, resolution, drop_rate)\n",
        "    \"b0\": (0, 224, 0.2),  # alpha, beta, gamma, depth = alpha ** phi\n",
        "    \"b1\": (0.5, 240, 0.2),\n",
        "    \"b2\": (1, 260, 0.3),\n",
        "    \"b3\": (2, 300, 0.3),\n",
        "    \"b4\": (3, 380, 0.4),\n",
        "    \"b5\": (4, 456, 0.4),\n",
        "    \"b6\": (5, 528, 0.5),\n",
        "    \"b7\": (6, 600, 0.5),\n",
        "}\n",
        "\n",
        "class efficientNet (nn.Module):\n",
        "\n",
        "    def __init__(self, version, num_classes):\n",
        "        super(efficientNet, self).__init__()\n",
        "        width_factor, depth_factor, dropout_rate = self.cal_factors(version)\n",
        "\n",
        "        self.depth_factor = depth_factor\n",
        "\n",
        "        self.first_layer = conv_block(in_channels=3,\n",
        "                                      out_channels=int(32*width_factor),\n",
        "                                      kernel_size=(3, 3),\n",
        "                                      stride=(1, 1),\n",
        "                                      padding=(1, 1))\n",
        "\n",
        "        self.first_layer_n = conv_block(in_channels=int(32*width_factor),\n",
        "                                      out_channels=int(32 * width_factor),\n",
        "                                      kernel_size=(3, 3),\n",
        "                                      stride=(1, 1),\n",
        "                                      padding=(1, 1))\n",
        "\n",
        "        self.mbconv1 = InvertedResidual_block(in_channels=int(32*width_factor),\n",
        "                                              out_channels=int(16*width_factor),\n",
        "                                              kernel_size=(3, 3),\n",
        "                                              stride=(2, 2),\n",
        "                                              padding=(1, 1),\n",
        "                                              block_type1=False,\n",
        "                                              expand_ratio=1,\n",
        "                                              act_type_=False,\n",
        "                                              use_se=True\n",
        "                                              )\n",
        "\n",
        "        self.mbconv1_n = InvertedResidual_block(in_channels=int(16 * width_factor),\n",
        "                                              out_channels=int(16 * width_factor),\n",
        "                                              kernel_size=(3, 3),\n",
        "                                              stride=(1, 1),\n",
        "                                              padding=(1, 1),\n",
        "                                              block_type1=True,\n",
        "                                              expand_ratio=1,\n",
        "                                              act_type_=False,\n",
        "                                              use_se=True\n",
        "                                              )\n",
        "\n",
        "        self.mbconv2 = InvertedResidual_block(in_channels=int(16 * width_factor),\n",
        "                                              out_channels=int(24 * width_factor),\n",
        "                                              kernel_size=(3, 3),\n",
        "                                              stride=(1, 1),\n",
        "                                              padding=(1, 1),\n",
        "                                              block_type1=True,\n",
        "                                              expand_ratio=6,\n",
        "                                              act_type_=False,\n",
        "                                              use_se=True\n",
        "                                              )\n",
        "\n",
        "        self.mbconv2_n = InvertedResidual_block(in_channels=int(24 * width_factor),\n",
        "                                              out_channels=int(24 * width_factor),\n",
        "                                              kernel_size=(3, 3),\n",
        "                                              stride=(1, 1),\n",
        "                                              padding=(1, 1),\n",
        "                                              block_type1=True,\n",
        "                                              expand_ratio=6,\n",
        "                                              act_type_=False,\n",
        "                                              use_se=True\n",
        "                                              )\n",
        "\n",
        "        self.mbconv3 = InvertedResidual_block(in_channels=int(24 * width_factor),\n",
        "                                              out_channels=int(40 * width_factor),\n",
        "                                              kernel_size=(5, 5),\n",
        "                                              stride=(2, 2),\n",
        "                                              padding=(2, 2),\n",
        "                                              block_type1=False,\n",
        "                                              expand_ratio=6,\n",
        "                                              act_type_=False,\n",
        "                                              use_se=True\n",
        "                                              )\n",
        "\n",
        "        self.mbconv3_n = InvertedResidual_block(in_channels=int(40 * width_factor),\n",
        "                                              out_channels=int(40 * width_factor),\n",
        "                                              kernel_size=(5, 5),\n",
        "                                              stride=(1, 1),\n",
        "                                              padding=(2, 2),\n",
        "                                              block_type1=True,\n",
        "                                              expand_ratio=6,\n",
        "                                              act_type_=False,\n",
        "                                              use_se=True\n",
        "                                              )\n",
        "\n",
        "        self.mbconv4 = InvertedResidual_block(in_channels=int(40 * width_factor),\n",
        "                                              out_channels=int(80 * width_factor),\n",
        "                                              kernel_size=(3, 3),\n",
        "                                              stride=(2, 2),\n",
        "                                              padding=(1, 1),\n",
        "                                              block_type1=False,\n",
        "                                              expand_ratio=6,\n",
        "                                              act_type_=False,\n",
        "                                              use_se=True\n",
        "                                              )\n",
        "\n",
        "        self.mbconv4_n = InvertedResidual_block(in_channels=int(80 * width_factor),\n",
        "                                              out_channels=int(80 * width_factor),\n",
        "                                              kernel_size=(3, 3),\n",
        "                                              stride=(1, 1),\n",
        "                                              padding=(1, 1),\n",
        "                                              block_type1=True,\n",
        "                                              expand_ratio=6,\n",
        "                                              act_type_=False,\n",
        "                                              use_se=True\n",
        "                                              )\n",
        "\n",
        "        self.mbconv5 = InvertedResidual_block(in_channels=int(80 * width_factor),\n",
        "                                              out_channels=int(112 * width_factor),\n",
        "                                              kernel_size=(5, 5),\n",
        "                                              stride=(2, 2),\n",
        "                                              padding=(2, 2),\n",
        "                                              block_type1=False,\n",
        "                                              expand_ratio=6,\n",
        "                                              act_type_=False,\n",
        "                                              use_se=True\n",
        "                                              )\n",
        "\n",
        "        self.mbconv5_n = InvertedResidual_block(in_channels=int(112 * width_factor),\n",
        "                                              out_channels=int(112 * width_factor),\n",
        "                                              kernel_size=(5, 5),\n",
        "                                              stride=(1, 1),\n",
        "                                              padding=(2, 2),\n",
        "                                              block_type1=True,\n",
        "                                              expand_ratio=6,\n",
        "                                              act_type_=False,\n",
        "                                              use_se=True\n",
        "                                              )\n",
        "\n",
        "        self.mbconv6 = InvertedResidual_block(in_channels=int(112 * width_factor),\n",
        "                                              out_channels=int(192 * width_factor),\n",
        "                                              kernel_size=(5, 5),\n",
        "                                              stride=(1, 1),\n",
        "                                              padding=(2, 2),\n",
        "                                              block_type1=True,\n",
        "                                              expand_ratio=6,\n",
        "                                              act_type_=False,\n",
        "                                              use_se=True\n",
        "                                              )\n",
        "\n",
        "        self.mbconv6_n = InvertedResidual_block(in_channels=int(192 * width_factor),\n",
        "                                              out_channels=int(192 * width_factor),\n",
        "                                              kernel_size=(5, 5),\n",
        "                                              stride=(1, 1),\n",
        "                                              padding=(2, 2),\n",
        "                                              block_type1=True,\n",
        "                                              expand_ratio=6,\n",
        "                                              act_type_=False,\n",
        "                                              use_se=True\n",
        "                                              )\n",
        "\n",
        "        self.mbconv7 = InvertedResidual_block(in_channels=int(192 * width_factor),\n",
        "                                              out_channels=int(320 * width_factor),\n",
        "                                              kernel_size=(3, 3),\n",
        "                                              stride=(2, 2),\n",
        "                                              padding=(1, 1),\n",
        "                                              block_type1=False,\n",
        "                                              expand_ratio=6,\n",
        "                                              act_type_=False,\n",
        "                                              use_se=True\n",
        "                                              )\n",
        "\n",
        "        self.avgpool = nn.AvgPool2d(kernel_size=(7, 7),\n",
        "                                    stride=(1, 1),\n",
        "                                    padding=(0, 0))\n",
        "\n",
        "        self.silu = nn.SiLU()\n",
        "\n",
        "        self.fc1 = nn.Linear(in_features=int(320 * width_factor),\n",
        "                             out_features=int(1280 * width_factor))\n",
        "\n",
        "        self.dropout = nn.Dropout(dropout_rate)\n",
        "        self.fc2 = nn.Linear(in_features=int(1280 * width_factor),\n",
        "                             out_features=num_classes)\n",
        "\n",
        "    def cal_factors(self, version, alpha=1.2, beta=1.1):\n",
        "\n",
        "        phi, res, drop_rate = phi_values[version]\n",
        "        depth_factor = alpha ** phi\n",
        "        width_factor = beta ** phi\n",
        "\n",
        "        return width_factor, depth_factor, drop_rate\n",
        "\n",
        "    def forward(self, X):\n",
        "\n",
        "        out = self.first_layer(X) # 3 --> 32\n",
        "        num_repeat = ceil(1 * self.depth_factor)\n",
        "\n",
        "        for layer in range(num_repeat - 1):\n",
        "            out = self.first_layer_n(out)\n",
        "\n",
        "        out = self.mbconv1(out) # 32 --> 16\n",
        "\n",
        "        for layer in range(num_repeat-1):\n",
        "            out = self.mbconv1_n(out)\n",
        "\n",
        "        out = self.mbconv2(out) # 16 --> 24\n",
        "\n",
        "        for layer in range(num_repeat-1):\n",
        "            out = self.mbconv2_n(out)\n",
        "\n",
        "        out = self.mbconv3(out) # 24 --> 40\n",
        "        num_repeat = ceil(2 * self.depth_factor)\n",
        "\n",
        "        for layer in range(num_repeat-1):\n",
        "            out = self.mbconv3_n(out)\n",
        "\n",
        "        out = self.mbconv4(out)  # 40 --> 80\n",
        "        num_repeat = ceil(3 * self.depth_factor)\n",
        "\n",
        "        for layer in range(num_repeat-1):\n",
        "            out = self.mbconv4_n(out)\n",
        "\n",
        "        out = self.mbconv5(out) # 80 --> 112\n",
        "        for layer in range(num_repeat-1):\n",
        "            out = self.mbconv5_n(out)\n",
        "\n",
        "        out = self.mbconv6(out)  # 112 --> 192\n",
        "        num_repeat = ceil(4 * self.depth_factor)\n",
        "\n",
        "        for layer in range(num_repeat-1):\n",
        "            out = self.mbconv6_n(out)\n",
        "\n",
        "        out = self.mbconv7(out)\n",
        "\n",
        "        out = self.avgpool(out)\n",
        "\n",
        "        out = out.reshape(out.shape[0], -1)\n",
        "        out = self.silu(self.fc1(out))\n",
        "        out = self.dropout(out)\n",
        "        out = self.fc2(out)\n",
        "        \n",
        "        return out"
      ],
      "execution_count": null,
      "outputs": []
    },
    {
      "cell_type": "code",
      "metadata": {
        "id": "xWySGf6NWq3u"
      },
      "source": [
        "# calling the model\n",
        "\n",
        "model = efficientNet(version=\"b0\",\n",
        "                 num_classes=2).to(device)"
      ],
      "execution_count": null,
      "outputs": []
    },
    {
      "cell_type": "code",
      "metadata": {
        "id": "OrASY-_bJf0y"
      },
      "source": [
        "# setting the loss metric and optimizer\n",
        "\n",
        "criterion = nn.CrossEntropyLoss()\n",
        "optimizer = optim.Adam(model.parameters(), lr=learning_rate)"
      ],
      "execution_count": null,
      "outputs": []
    },
    {
      "cell_type": "code",
      "metadata": {
        "id": "suUBaCYcMiDV"
      },
      "source": [
        "# open this block for training on checkpoint\n",
        "# checkpoint = torch.load('/content/drive/MyDrive/mobilenetv1_on_hymeno.pth')\n",
        "# model.load_state_dict(checkpoint['model_state_dict'])\n",
        "# optimizer.load_state_dict(checkpoint['model_optimizer'])"
      ],
      "execution_count": null,
      "outputs": []
    },
    {
      "cell_type": "code",
      "metadata": {
        "id": "Ucvs2ATOQIsf"
      },
      "source": [
        "torch.cuda.empty_cache()"
      ],
      "execution_count": null,
      "outputs": []
    },
    {
      "cell_type": "code",
      "metadata": {
        "id": "KnSIE_v8YEvL"
      },
      "source": [
        "# tuning the learning rate\n",
        "\n",
        "step_lr_scheduler = torch.optim.lr_scheduler.StepLR(optimizer, step_size=7, gamma=0.1)"
      ],
      "execution_count": null,
      "outputs": []
    },
    {
      "cell_type": "code",
      "metadata": {
        "id": "2fLpUDaEKJ_j"
      },
      "source": [
        "# measuring time taken running the epochs\n",
        "\n",
        "def calculate_time (time_elapsed):\n",
        "    minutes = time_elapsed // 60\n",
        "    seconds = time_elapsed % 60\n",
        "    if minutes > 60:\n",
        "        hours = minutes // 60\n",
        "        new_minutes = minutes % 60\n",
        "        print(f'Training complete in {hours:.0f}h {new_minutes:.0f}m {seconds:.0f}s')\n",
        "    else:\n",
        "        print(f'Training complete in {minutes:.0f}m {seconds:.0f}s')"
      ],
      "execution_count": null,
      "outputs": []
    },
    {
      "cell_type": "code",
      "metadata": {
        "id": "ckljQ_d2Jf6A"
      },
      "source": [
        "# hyper-parameters\n",
        "\n",
        "num_epochs = 30\n",
        "val_acc_hist = []\n",
        "train_acc_hist = []\n",
        "loss_train = []\n",
        "loss_val = []\n",
        "best_acc = 0.0"
      ],
      "execution_count": null,
      "outputs": []
    },
    {
      "cell_type": "code",
      "metadata": {
        "colab": {
          "base_uri": "https://localhost:8080/"
        },
        "id": "huLV9BHcsC4A",
        "outputId": "b22f1fbf-253d-4a46-9ba0-bac09232d182"
      },
      "source": [
        "# training loop\n",
        "\n",
        "start = time.time()\n",
        "\n",
        "for epoch in range(num_epochs):\n",
        "\n",
        "    model.train()\n",
        "\n",
        "    running_loss = 0.0\n",
        "    running_corrects = 0\n",
        "\n",
        "    for idx, (images, labels) in enumerate(train_loader):\n",
        "        images = images.to(device)\n",
        "        labels = labels.to(device)\n",
        "        z_scores = model(images)\n",
        "        loss = criterion(z_scores, labels)\n",
        "        optimizer.zero_grad()\n",
        "        loss.backward()\n",
        "        optimizer.step()\n",
        "\n",
        "        running_loss += loss.item() * images.size(0)\n",
        "        _, predictions = torch.max(z_scores, 1)\n",
        "        running_corrects += torch.sum(predictions == labels)\n",
        "\n",
        "    epoch_loss = running_loss / len(train_dataset)\n",
        "    epoch_acc = running_corrects / len(train_dataset)\n",
        "    print(f'Epoch {epoch+1} / {num_epochs}, '\n",
        "          f'Train Loss {epoch_loss:.4f}, '\n",
        "          f'Train Acc {epoch_acc:.4f}')\n",
        "\n",
        "    train_acc_hist.append(epoch_acc)\n",
        "    loss_train.append(epoch_loss)\n",
        "\n",
        "    step_lr_scheduler.step()\n",
        "\n",
        "    model.eval()\n",
        "\n",
        "    running_loss = 0.0\n",
        "    running_corrects = 0\n",
        "\n",
        "    for idx, (images, labels) in enumerate(val_loader):\n",
        "        images = images.to(device)\n",
        "        labels = labels.to(device)\n",
        "\n",
        "        with torch.no_grad():\n",
        "            z_scores = model(images)\n",
        "            loss = criterion(z_scores, labels)\n",
        "\n",
        "            running_loss += loss.item() * images.size(0)\n",
        "            _, predictions = torch.max(z_scores, 1)\n",
        "            running_corrects += torch.sum(predictions == labels)\n",
        "\n",
        "    epoch_loss_val = running_loss / len(val_dataset)\n",
        "    epoch_acc_val = running_corrects / len(val_dataset)\n",
        "    print(f'Epoch {epoch + 1} / {num_epochs}, '\n",
        "          f'Val Loss {epoch_loss_val:.4f}, '\n",
        "          f'Val Acc {epoch_acc_val:.4f}')\n",
        "\n",
        "    val_acc_hist.append(epoch_acc_val)\n",
        "    loss_val.append(epoch_loss_val)\n",
        "\n",
        "    if epoch_acc_val > best_acc:\n",
        "        best_acc = epoch_acc_val\n",
        "\n",
        "time_elapsed = time.time() - start"
      ],
      "execution_count": null,
      "outputs": [
        {
          "output_type": "stream",
          "name": "stdout",
          "text": [
            "Epoch 1 / 30, Train Loss 0.7346, Train Acc 0.4877\n",
            "Epoch 1 / 30, Val Loss 0.6897, Val Acc 0.5699\n",
            "Epoch 2 / 30, Train Loss 0.7370, Train Acc 0.4877\n",
            "Epoch 2 / 30, Val Loss 0.6929, Val Acc 0.5699\n",
            "Epoch 3 / 30, Train Loss 0.7130, Train Acc 0.5041\n",
            "Epoch 3 / 30, Val Loss 0.7100, Val Acc 0.4301\n",
            "Epoch 4 / 30, Train Loss 0.7300, Train Acc 0.5082\n",
            "Epoch 4 / 30, Val Loss 0.6996, Val Acc 0.4301\n",
            "Epoch 5 / 30, Train Loss 0.7053, Train Acc 0.4877\n",
            "Epoch 5 / 30, Val Loss 0.6898, Val Acc 0.5699\n",
            "Epoch 6 / 30, Train Loss 0.7203, Train Acc 0.5000\n",
            "Epoch 6 / 30, Val Loss 0.6999, Val Acc 0.4301\n",
            "Epoch 7 / 30, Train Loss 0.6878, Train Acc 0.5410\n",
            "Epoch 7 / 30, Val Loss 0.7126, Val Acc 0.4301\n",
            "Epoch 8 / 30, Train Loss 0.6962, Train Acc 0.5410\n",
            "Epoch 8 / 30, Val Loss 0.7152, Val Acc 0.4301\n",
            "Epoch 9 / 30, Train Loss 0.6974, Train Acc 0.4877\n",
            "Epoch 9 / 30, Val Loss 0.7122, Val Acc 0.4301\n",
            "Epoch 10 / 30, Train Loss 0.6880, Train Acc 0.5328\n",
            "Epoch 10 / 30, Val Loss 0.7138, Val Acc 0.4301\n",
            "Epoch 11 / 30, Train Loss 0.7029, Train Acc 0.4877\n",
            "Epoch 11 / 30, Val Loss 0.7085, Val Acc 0.4301\n",
            "Epoch 12 / 30, Train Loss 0.6959, Train Acc 0.5246\n",
            "Epoch 12 / 30, Val Loss 0.7029, Val Acc 0.4301\n",
            "Epoch 13 / 30, Train Loss 0.6964, Train Acc 0.4795\n",
            "Epoch 13 / 30, Val Loss 0.6975, Val Acc 0.4194\n",
            "Epoch 14 / 30, Train Loss 0.6920, Train Acc 0.5041\n",
            "Epoch 14 / 30, Val Loss 0.6939, Val Acc 0.4301\n",
            "Epoch 15 / 30, Train Loss 0.6969, Train Acc 0.4959\n",
            "Epoch 15 / 30, Val Loss 0.6921, Val Acc 0.5161\n",
            "Epoch 16 / 30, Train Loss 0.6982, Train Acc 0.4467\n",
            "Epoch 16 / 30, Val Loss 0.6927, Val Acc 0.4516\n",
            "Epoch 17 / 30, Train Loss 0.6976, Train Acc 0.4877\n",
            "Epoch 17 / 30, Val Loss 0.6929, Val Acc 0.4516\n",
            "Epoch 18 / 30, Train Loss 0.6883, Train Acc 0.5492\n",
            "Epoch 18 / 30, Val Loss 0.6944, Val Acc 0.4409\n",
            "Epoch 19 / 30, Train Loss 0.6923, Train Acc 0.5656\n",
            "Epoch 19 / 30, Val Loss 0.6943, Val Acc 0.4409\n",
            "Epoch 20 / 30, Train Loss 0.6939, Train Acc 0.4959\n",
            "Epoch 20 / 30, Val Loss 0.6949, Val Acc 0.4409\n",
            "Epoch 21 / 30, Train Loss 0.6929, Train Acc 0.5410\n",
            "Epoch 21 / 30, Val Loss 0.6959, Val Acc 0.4301\n",
            "Epoch 22 / 30, Train Loss 0.6907, Train Acc 0.5041\n",
            "Epoch 22 / 30, Val Loss 0.6951, Val Acc 0.4409\n",
            "Epoch 23 / 30, Train Loss 0.6911, Train Acc 0.4918\n",
            "Epoch 23 / 30, Val Loss 0.6950, Val Acc 0.4409\n",
            "Epoch 24 / 30, Train Loss 0.6899, Train Acc 0.5451\n",
            "Epoch 24 / 30, Val Loss 0.6945, Val Acc 0.4409\n",
            "Epoch 25 / 30, Train Loss 0.6874, Train Acc 0.5779\n",
            "Epoch 25 / 30, Val Loss 0.6946, Val Acc 0.4409\n",
            "Epoch 26 / 30, Train Loss 0.6885, Train Acc 0.5410\n",
            "Epoch 26 / 30, Val Loss 0.6944, Val Acc 0.4409\n",
            "Epoch 27 / 30, Train Loss 0.6890, Train Acc 0.5369\n",
            "Epoch 27 / 30, Val Loss 0.6955, Val Acc 0.4194\n",
            "Epoch 28 / 30, Train Loss 0.6938, Train Acc 0.5000\n",
            "Epoch 28 / 30, Val Loss 0.6961, Val Acc 0.4194\n",
            "Epoch 29 / 30, Train Loss 0.6924, Train Acc 0.4959\n",
            "Epoch 29 / 30, Val Loss 0.6946, Val Acc 0.4409\n",
            "Epoch 30 / 30, Train Loss 0.6907, Train Acc 0.5164\n",
            "Epoch 30 / 30, Val Loss 0.6954, Val Acc 0.4301\n"
          ]
        }
      ]
    },
    {
      "cell_type": "code",
      "metadata": {
        "id": "UUZ6esURJz1S",
        "colab": {
          "base_uri": "https://localhost:8080/"
        },
        "outputId": "6c962d13-6e17-4ed9-dd45-884966730e1d"
      },
      "source": [
        "calculate_time(time_elapsed)"
      ],
      "execution_count": null,
      "outputs": [
        {
          "output_type": "stream",
          "name": "stdout",
          "text": [
            "Training complete in 6m 39s\n"
          ]
        }
      ]
    },
    {
      "cell_type": "code",
      "metadata": {
        "id": "aqictDB5J2Bz",
        "colab": {
          "base_uri": "https://localhost:8080/"
        },
        "outputId": "4552519e-9015-4c2d-d40b-32bae405dfa1"
      },
      "source": [
        "print(f'Best validation Accuracy: {best_acc:.4f}')"
      ],
      "execution_count": null,
      "outputs": [
        {
          "output_type": "stream",
          "name": "stdout",
          "text": [
            "Best validation Accuracy: 0.5699\n"
          ]
        }
      ]
    },
    {
      "cell_type": "code",
      "metadata": {
        "id": "P1S23G-6J2D6",
        "colab": {
          "base_uri": "https://localhost:8080/",
          "height": 503
        },
        "outputId": "df2151f3-9ceb-4aae-f086-971d48aa67fc"
      },
      "source": [
        "# visualizing training and validating accuracy\n",
        "\n",
        "val_acc_hist_numpy = [acc.cpu().numpy() for acc in val_acc_hist]\n",
        "train_acc_hist_numpy = [acc.cpu().numpy() for acc in train_acc_hist]\n",
        "plt.figure(figsize=(20,10))\n",
        "plt.grid()\n",
        "plt.plot(range(1, num_epochs+1), val_acc_hist_numpy, label='Val Acc')\n",
        "plt.plot(range(1, num_epochs+1), train_acc_hist_numpy, label='Train Acc')\n",
        "plt.xlabel('Epochs')\n",
        "plt.ylabel('Acc')\n",
        "plt.title(\"Acc Plots\")\n",
        "plt.legend(loc='upper right')\n",
        "plt.show()"
      ],
      "execution_count": null,
      "outputs": [
        {
          "output_type": "display_data",
          "data": {
            "image/png": "[encoded data removed]",
            "text/plain": [
              "<Figure size 1440x720 with 1 Axes>"
            ]
          },
          "metadata": {
            "needs_background": "light"
          }
        }
      ]
    },
    {
      "cell_type": "code",
      "metadata": {
        "id": "1Lmaj7CxJ7_8",
        "colab": {
          "base_uri": "https://localhost:8080/",
          "height": 503
        },
        "outputId": "ce804b6e-5ee5-4a0a-88cb-21477356072d"
      },
      "source": [
        "# visualizing training and validating loss\n",
        "\n",
        "plt.figure(figsize=(20,10))\n",
        "plt.grid()\n",
        "plt.plot(range(1, num_epochs+1), loss_train, label='Train Loss')\n",
        "plt.plot(range(1, num_epochs+1), loss_val, label='Val Loss')\n",
        "plt.xlabel('Epochs')\n",
        "plt.ylabel('Loss')\n",
        "plt.title(\"Loss Plots\")\n",
        "plt.legend(loc='upper right')\n",
        "plt.show()"
      ],
      "execution_count": null,
      "outputs": [
        {
          "output_type": "display_data",
          "data": {
            "image/png": "[encoded data removed]",
            "text/plain": [
              "<Figure size 1440x720 with 1 Axes>"
            ]
          },
          "metadata": {
            "needs_background": "light"
          }
        }
      ]
    },
    {
      "cell_type": "code",
      "metadata": {
        "id": "KN0y6laJ5Ih3",
        "colab": {
          "base_uri": "https://localhost:8080/"
        },
        "outputId": "3367bb69-ac33-45ee-af8a-9608d19eae5d"
      },
      "source": [
        "# testing the model\n",
        "\n",
        "model.eval()\n",
        "\n",
        "running_corrects = 0\n",
        "\n",
        "with torch.no_grad():\n",
        "    for idx, (images, labels) in enumerate(test_loader):\n",
        "        images = images.to(device)\n",
        "        labels = labels.to(device)\n",
        "\n",
        "        z_scores = model(images)\n",
        "\n",
        "        _, predictions = torch.max(z_scores,1)\n",
        "        running_corrects += torch.sum(predictions == labels)\n",
        "\n",
        "    acc = running_corrects / len(test_dataset)\n",
        "    print(f'Test Accuracy: {acc:.4f}')"
      ],
      "execution_count": null,
      "outputs": [
        {
          "output_type": "stream",
          "name": "stdout",
          "text": [
            "Test Accuracy: 0.5333\n"
          ]
        }
      ]
    },
    {
      "cell_type": "code",
      "metadata": {
        "id": "f9Ivg43bXq5O"
      },
      "source": [
        "# saving model\n",
        "\n",
        "checkpoint = {\n",
        "                'model_state_dict': model.state_dict(),\n",
        "                'model_optimizer': optimizer.state_dict(),\n",
        "                'val_acc_hist': val_acc_hist,\n",
        "                'train_acc_hist': train_acc_hist,\n",
        "                'loss_train': loss_train,\n",
        "                'loss_val': loss_val,\n",
        "                'best_acc': best_acc\n",
        "}\n",
        "\n",
        "torch.save(checkpoint, '/content/drive/MyDrive/efficientNet_on_hymeno.pth')"
      ],
      "execution_count": null,
      "outputs": []
    }
  ]
}