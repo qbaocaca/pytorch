{
  "nbformat": 4,
  "nbformat_minor": 0,
  "metadata": {
    "colab": {
      "name": "resnet18_manual_on_bloodcell.ipynb",
      "provenance": []
    },
    "kernelspec": {
      "name": "python3",
      "display_name": "Python 3"
    },
    "language_info": {
      "name": "python"
    },
    "accelerator": "GPU"
  },
  "cells": [
    {
      "cell_type": "code",
      "metadata": {
        "id": "AxIv2e43JRFd"
      },
      "source": [
        "import torch\n",
        "import torch.nn as nn\n",
        "import torch.optim as optim\n",
        "import torchvision.datasets as datasets\n",
        "import torchvision.transforms as transforms\n",
        "import torchvision\n",
        "from torch.utils.data import DataLoader\n",
        "import numpy as np\n",
        "import random\n",
        "import matplotlib.pyplot as plt\n",
        "import time"
      ],
      "execution_count": null,
      "outputs": []
    },
    {
      "cell_type": "code",
      "metadata": {
        "colab": {
          "base_uri": "https://localhost:8080/"
        },
        "id": "Ka557tdq0d6Y",
        "outputId": "04593f26-6864-4ba1-d95d-3729276a064d"
      },
      "source": [
        "from google.colab import drive\n",
        "drive.mount('/content/drive')"
      ],
      "execution_count": null,
      "outputs": [
        {
          "output_type": "stream",
          "text": [
            "Drive already mounted at /content/drive; to attempt to forcibly remount, call drive.mount(\"/content/drive\", force_remount=True).\n"
          ],
          "name": "stdout"
        }
      ]
    },
    {
      "cell_type": "code",
      "metadata": {
        "colab": {
          "base_uri": "https://localhost:8080/"
        },
        "id": "aQeAWdJdJUd7",
        "outputId": "21a92048-f3ad-4e17-c41e-7f3c55a82374"
      },
      "source": [
        "device = torch.device('cuda' if torch.cuda.is_available else 'cpu')\n",
        "print(device)"
      ],
      "execution_count": null,
      "outputs": [
        {
          "output_type": "stream",
          "text": [
            "cuda\n"
          ],
          "name": "stdout"
        }
      ]
    },
    {
      "cell_type": "code",
      "metadata": {
        "id": "007LWLB1JX6C"
      },
      "source": [
        "seed=1\n",
        "random.seed(seed)\n",
        "np.random.seed(seed)\n",
        "torch.manual_seed(seed)\n",
        "torch.backends.cudnn.deterministic = True\n",
        "torch.backends.cudnn.benchmark = False"
      ],
      "execution_count": null,
      "outputs": []
    },
    {
      "cell_type": "code",
      "metadata": {
        "id": "qIUhttPsJX9D"
      },
      "source": [
        "batch_size = 64\n",
        "learning_rate = 0.001"
      ],
      "execution_count": null,
      "outputs": []
    },
    {
      "cell_type": "code",
      "metadata": {
        "id": "JCOM04tgmbO8"
      },
      "source": [
        "mean = np.array([0.485, 0.456, 0.406])\n",
        "std = np.array([0.229, 0.224, 0.225])"
      ],
      "execution_count": null,
      "outputs": []
    },
    {
      "cell_type": "code",
      "metadata": {
        "id": "cyNGQw54mwLd"
      },
      "source": [
        "train_trans = transforms.Compose(\n",
        "    [\n",
        "     transforms.RandomResizedCrop((224,224)),\n",
        "     transforms.RandomHorizontalFlip(),\n",
        "     transforms.ToTensor(),\n",
        "     transforms.Normalize(mean, std)\n",
        "    ]\n",
        ")\n",
        "\n",
        "val_trans = transforms.Compose(\n",
        "    [\n",
        "     transforms.Resize((224,224)),\n",
        "     transforms.CenterCrop((224, 224)),\n",
        "     transforms.RandomVerticalFlip(),\n",
        "     transforms.ToTensor(),\n",
        "     transforms.Normalize(mean, std)\n",
        "    ]\n",
        ")"
      ],
      "execution_count": null,
      "outputs": []
    },
    {
      "cell_type": "code",
      "metadata": {
        "id": "bdpy0JKFJX_T"
      },
      "source": [
        "train_dataset = datasets.ImageFolder(root='/content/drive/MyDrive/dataset/blood_cell/TRAIN',\n",
        "                                 transform=train_trans\n",
        "                                 )\n",
        "\n",
        "val_dataset = datasets.ImageFolder(root='/content/drive/MyDrive/dataset/blood_cell/VAL',\n",
        "                                 transform=val_trans\n",
        "                                 )\n",
        "\n",
        "test_dataset = datasets.ImageFolder(root='/content/drive/MyDrive/dataset/blood_cell/TEST',\n",
        "                                 transform=val_trans\n",
        "                                 )\n",
        "\n",
        "train_loader = DataLoader(dataset=train_dataset,\n",
        "                          batch_size=batch_size,\n",
        "                          shuffle=True)\n",
        "\n",
        "val_loader = DataLoader(dataset=val_dataset,\n",
        "                        batch_size=batch_size,\n",
        "                        shuffle=False)\n",
        "\n",
        "test_loader = DataLoader(dataset=test_dataset,\n",
        "                        batch_size=batch_size,\n",
        "                        shuffle=False)"
      ],
      "execution_count": null,
      "outputs": []
    },
    {
      "cell_type": "code",
      "metadata": {
        "id": "qzPKnF2ZWBgX"
      },
      "source": [
        "class residual_block (nn.Module):\n",
        "\n",
        "\tdef __init__(self,in_channels, out_channels, stride, use_padd=False):\n",
        "\t\tsuper(residual_block, self).__init__()\n",
        "\n",
        "\t\tself.conv1 = nn.Conv2d(in_channels=in_channels,\n",
        "\t\t\t\t\t\t\t\tout_channels=out_channels,\n",
        "\t\t\t\t\t\t\t\tkernel_size=(3,3),\n",
        "\t\t\t\t\t\t\t\tstride=stride,\n",
        "\t\t\t\t\t\t\t\tpadding=(1,1))\n",
        "\n",
        "\t\tself.conv2 = nn.Conv2d(in_channels=out_channels,\n",
        "\t\t\t\t\t\t\t   out_channels=out_channels,\n",
        "\t\t\t\t\t\t\t   kernel_size=(3,3),\n",
        "\t\t\t\t\t\t\t   stride=(1,1),\n",
        "\t\t\t\t\t\t\t   padding=(1,1))\n",
        "\n",
        "\t\tif use_padd:\n",
        "\t\t\tself.padd_conv = nn.Conv2d(in_channels=in_channels,\n",
        "\t\t\t\t\t\t\t\t\t   out_channels=out_channels,\n",
        "\t\t\t\t\t\t\t\t\t   kernel_size=(1, 1),\n",
        "\t\t\t\t\t\t\t\t\t   stride=(2, 2),\n",
        "\t\t\t\t\t\t\t\t\t   padding=(0, 0))\n",
        "\t\telse:\n",
        "\t\t\tself.padd_conv = None\n",
        "\n",
        "\t\tself.bn = nn.BatchNorm2d(num_features=out_channels)\n",
        "\t\tself.relu = nn.ReLU()\n",
        "\n",
        "\n",
        "\tdef forward(self, X):\n",
        "\n",
        "\t\tout = self.relu(self.bn(self.conv1(X)))\n",
        "\t\tout = self.relu(self.bn(self.conv2(out)))\n",
        "\n",
        "\t\tout = self.relu(self.bn(self.conv2(out)))\n",
        "\t\tout = self.relu(self.bn(self.conv2(out)))\n",
        "\n",
        "\t\tif self.padd_conv:\n",
        "\t\t\tX = self.padd_conv(X)\n",
        "\n",
        "\t\tout += X\n",
        "\t\tout = self.relu(out)\n",
        "\n",
        "\t\treturn out\n",
        "\n",
        "class Resnet18 (nn.Module):\n",
        "\tdef __init__(self, in_channels, num_classes):\n",
        "\t\tsuper(Resnet18, self).__init__()\n",
        "\n",
        "\t\tself.conv = nn.Conv2d(in_channels=in_channels,\n",
        "\t\t\t\t\t\t\t   out_channels=64,\n",
        "\t\t\t\t\t\t\t   kernel_size=(7,7),\n",
        "\t\t\t\t\t\t\t   stride=(2,2),\n",
        "\t\t\t\t\t\t\t   padding=(3,3))\n",
        "\n",
        "\t\tself.bn = nn.BatchNorm2d(num_features=64)\n",
        "\t\tself.relu = nn.ReLU()\n",
        "\t\tself.pool = nn.MaxPool2d(kernel_size=(3,3),\n",
        "\t\t\t\t\t\t\t\t stride=(2,2),\n",
        "\t\t\t\t\t\t\t\t padding=(1,1))\n",
        "\n",
        "\t\tself.layer1 = residual_block(in_channels=64,\n",
        "\t\t\t\t\t\t\t\t\t out_channels=64,\n",
        "\t\t\t\t\t\t\t\t\t stride=(1,1),\n",
        "\t\t\t\t\t\t\t\t\t use_padd=False)\n",
        "\n",
        "\t\tself.layer2 = residual_block(in_channels=64,\n",
        "\t\t\t\t\t\t\t\t\t out_channels=128,\n",
        "\t\t\t\t\t\t\t\t\t stride=(2,2),\n",
        "\t\t\t\t\t\t\t\t\t use_padd=True)\n",
        "\n",
        "\t\tself.layer3 = residual_block(in_channels=128,\n",
        "\t\t\t\t\t\t\t\t\t out_channels=256,\n",
        "\t\t\t\t\t\t\t\t\t stride=(2,2),\n",
        "\t\t\t\t\t\t\t\t\t use_padd=True)\n",
        "\n",
        "\t\tself.layer4 = residual_block(in_channels=256,\n",
        "\t\t\t\t\t\t\t\t\t out_channels=512,\n",
        "\t\t\t\t\t\t\t\t\t stride=(2,2),\n",
        "\t\t\t\t\t\t\t\t\t use_padd=True)\n",
        "\n",
        "\t\tself.avgpool = nn.AdaptiveAvgPool2d(output_size=(1,1))\n",
        "\t\tself.fc = nn.Linear(in_features=512, out_features=num_classes)\n",
        "\n",
        "\tdef forward(self, X):\n",
        "\n",
        "\t\tx_in = self.relu(self.bn(self.conv(X)))\n",
        "\t\tout = self.pool(x_in)\n",
        "\n",
        "\t\tout = self.layer1(out)\n",
        "\t\tout = self.layer2(out)\n",
        "\t\tout = self.layer3(out)\n",
        "\t\tout = self.layer4(out)\n",
        "\n",
        "\t\tout = self.avgpool(out)\n",
        "\t\tout = out.reshape(out.shape[0], -1)\n",
        "\t\tout = self.fc(out)\n",
        "\n",
        "\t\treturn out"
      ],
      "execution_count": null,
      "outputs": []
    },
    {
      "cell_type": "code",
      "metadata": {
        "id": "xWySGf6NWq3u"
      },
      "source": [
        "model = Resnet18(in_channels=3, num_classes=4).to(device)"
      ],
      "execution_count": null,
      "outputs": []
    },
    {
      "cell_type": "code",
      "metadata": {
        "id": "OrASY-_bJf0y"
      },
      "source": [
        "criterion = nn.CrossEntropyLoss()\n",
        "optimizer = optim.Adam(model.parameters(), lr=learning_rate)"
      ],
      "execution_count": null,
      "outputs": []
    },
    {
      "cell_type": "code",
      "metadata": {
        "id": "Ucvs2ATOQIsf"
      },
      "source": [
        "torch.cuda.empty_cache()"
      ],
      "execution_count": null,
      "outputs": []
    },
    {
      "cell_type": "code",
      "metadata": {
        "id": "KnSIE_v8YEvL"
      },
      "source": [
        "step_lr_scheduler = torch.optim.lr_scheduler.StepLR(optimizer, step_size=7, gamma=0.1)"
      ],
      "execution_count": null,
      "outputs": []
    },
    {
      "cell_type": "code",
      "metadata": {
        "id": "_-rLfx4GJsUs"
      },
      "source": [
        "def train_loop (model, num_epochs, step_lr_scheduler, loss_train, loss_val, train_acc_hist, val_acc_hist, best_acc):\n",
        "\n",
        "  for epoch in range(num_epochs):\n",
        "\n",
        "      model.train()\n",
        "\n",
        "      running_loss = 0.0\n",
        "      running_corrects = 0\n",
        "\n",
        "      for idx, (images, labels) in enumerate(train_loader):\n",
        "          images = images.to(device)\n",
        "          labels = labels.to(device)\n",
        "          z_scores = model(images)\n",
        "          loss = criterion(z_scores, labels)\n",
        "          optimizer.zero_grad()\n",
        "          loss.backward()\n",
        "          optimizer.step()\n",
        "\n",
        "          running_loss += loss.item() * images.size(0)\n",
        "          _, predictions = torch.max(z_scores, 1)\n",
        "          running_corrects += torch.sum(predictions == labels)\n",
        "\n",
        "      epoch_loss = running_loss / len(train_dataset)\n",
        "      epoch_acc = running_corrects / len(train_dataset)\n",
        "      print(f'Epoch {epoch+1} / {num_epochs}, '\n",
        "            f'Train Loss {epoch_loss:.4f}, '\n",
        "            f'Train Acc {epoch_acc:.4f}')\n",
        "\n",
        "      train_acc_hist.append(epoch_acc)\n",
        "      loss_train.append(epoch_loss)\n",
        "\n",
        "      step_lr_scheduler.step()\n",
        "\n",
        "      model.eval()\n",
        "\n",
        "      running_loss = 0.0\n",
        "      running_corrects = 0\n",
        "\n",
        "      for idx, (images, labels) in enumerate(val_loader):\n",
        "          images = images.to(device)\n",
        "          labels = labels.to(device)\n",
        "\n",
        "          with torch.no_grad():\n",
        "              z_scores = model(images)\n",
        "              loss = criterion(z_scores, labels)\n",
        "\n",
        "              running_loss += loss.item() * images.size(0)\n",
        "              _, predictions = torch.max(z_scores, 1)\n",
        "              running_corrects += torch.sum(predictions == labels)\n",
        "\n",
        "      epoch_loss_val = running_loss / len(val_dataset)\n",
        "      epoch_acc_val = running_corrects / len(val_dataset)\n",
        "      print(f'Epoch {epoch + 1} / {num_epochs}, '\n",
        "            f'Val Loss {epoch_loss_val:.4f}, '\n",
        "            f'Val Acc {epoch_acc_val:.4f}')\n",
        "\n",
        "      val_acc_hist.append(epoch_acc_val)\n",
        "      loss_val.append(epoch_loss_val)\n",
        "\n",
        "      if epoch_acc_val > best_acc:\n",
        "          best_acc = epoch_acc_val"
      ],
      "execution_count": null,
      "outputs": []
    },
    {
      "cell_type": "code",
      "metadata": {
        "id": "2fLpUDaEKJ_j"
      },
      "source": [
        "def calculate_time (time_elapsed):\n",
        "    minutes = time_elapsed // 60\n",
        "    seconds = time_elapsed % 60\n",
        "    if minutes > 60:\n",
        "        hours = minutes // 60\n",
        "        new_minutes = minutes % 60\n",
        "        print(f'Training complete in {hours:.0f}h {new_minutes:.0f}m {seconds:.0f}s')\n",
        "    else:\n",
        "        print(f'Training complete in {minutes:.0f}m {seconds:.0f}s')"
      ],
      "execution_count": null,
      "outputs": []
    },
    {
      "cell_type": "code",
      "metadata": {
        "id": "ckljQ_d2Jf6A"
      },
      "source": [
        "num_epochs = 5\n",
        "val_acc_hist = []\n",
        "train_acc_hist = []\n",
        "loss_train = []\n",
        "loss_val = []\n",
        "best_acc = 0.0"
      ],
      "execution_count": null,
      "outputs": []
    },
    {
      "cell_type": "code",
      "metadata": {
        "colab": {
          "base_uri": "https://localhost:8080/"
        },
        "id": "CFUHXWnN40cD",
        "outputId": "19580128-d006-44eb-f6ba-0cbbd8263e2a"
      },
      "source": [
        "start = time.time()\n",
        "train_loop(model, num_epochs, step_lr_scheduler, loss_train, loss_val, train_acc_hist, val_acc_hist, best_acc)\n",
        "time_elapsed = time.time() - start"
      ],
      "execution_count": null,
      "outputs": [
        {
          "output_type": "stream",
          "text": [
            "/usr/local/lib/python3.7/dist-packages/torch/nn/functional.py:718: UserWarning: Named tensors and all their associated APIs are an experimental feature and subject to change. Please do not use them for anything important until they are released as stable. (Triggered internally at  /pytorch/c10/core/TensorImpl.h:1156.)\n",
            "  return torch.max_pool2d(input, kernel_size, stride, padding, dilation, ceil_mode)\n"
          ],
          "name": "stderr"
        },
        {
          "output_type": "stream",
          "text": [
            "Epoch 1 / 5, Train Loss 1.0783, Train Acc 0.5169\n",
            "Epoch 1 / 5, Val Loss 5.6827, Val Acc 0.2477\n",
            "Epoch 2 / 5, Train Loss 0.7281, Train Acc 0.6883\n",
            "Epoch 2 / 5, Val Loss 6.8320, Val Acc 0.2505\n",
            "Epoch 3 / 5, Train Loss 0.5929, Train Acc 0.7453\n",
            "Epoch 3 / 5, Val Loss 7.9401, Val Acc 0.2674\n",
            "Epoch 4 / 5, Train Loss 0.5292, Train Acc 0.7780\n",
            "Epoch 4 / 5, Val Loss 3.8385, Val Acc 0.2967\n",
            "Epoch 5 / 5, Train Loss 0.4479, Train Acc 0.8129\n",
            "Epoch 5 / 5, Val Loss 6.5750, Val Acc 0.2509\n"
          ],
          "name": "stdout"
        }
      ]
    },
    {
      "cell_type": "code",
      "metadata": {
        "id": "UUZ6esURJz1S",
        "colab": {
          "base_uri": "https://localhost:8080/"
        },
        "outputId": "89e3f992-1d40-441a-ba7f-97c4e2d6fa14"
      },
      "source": [
        "calculate_time(time_elapsed)"
      ],
      "execution_count": null,
      "outputs": [
        {
          "output_type": "stream",
          "text": [
            "Training complete in 59m 24s\n"
          ],
          "name": "stdout"
        }
      ]
    },
    {
      "cell_type": "code",
      "metadata": {
        "id": "aqictDB5J2Bz",
        "colab": {
          "base_uri": "https://localhost:8080/"
        },
        "outputId": "39569f97-4285-4d28-cfd8-cf44fad00fdf"
      },
      "source": [
        "print(f'Best validation Accuracy: {best_acc:.4f}')"
      ],
      "execution_count": null,
      "outputs": [
        {
          "output_type": "stream",
          "text": [
            "Best validation Accuracy: 0.0000\n"
          ],
          "name": "stdout"
        }
      ]
    },
    {
      "cell_type": "code",
      "metadata": {
        "id": "P1S23G-6J2D6",
        "colab": {
          "base_uri": "https://localhost:8080/",
          "height": 505
        },
        "outputId": "ee392f89-e227-4ba9-b70c-770c462f5998"
      },
      "source": [
        "val_acc_hist_numpy = [acc.cpu().numpy() for acc in val_acc_hist]\n",
        "train_acc_hist_numpy = [acc.cpu().numpy() for acc in train_acc_hist]\n",
        "plt.figure(figsize=(20,10))\n",
        "plt.grid()\n",
        "plt.plot(range(1, num_epochs+1), val_acc_hist_numpy, label='Val Acc')\n",
        "plt.plot(range(1, num_epochs+1), train_acc_hist_numpy, label='Train Acc')\n",
        "plt.xlabel('Epochs')\n",
        "plt.ylabel('Acc')\n",
        "plt.title(\"Acc Plots\")\n",
        "plt.legend(loc='upper right')\n",
        "plt.show()"
      ],
      "execution_count": null,
      "outputs": [
        {
          "output_type": "display_data",
          "data": {
            "image/png": "[encoded data removed]",
            "text/plain": [
              "<Figure size 1440x720 with 1 Axes>"
            ]
          },
          "metadata": {
            "tags": [],
            "needs_background": "light"
          }
        }
      ]
    },
    {
      "cell_type": "code",
      "metadata": {
        "id": "1Lmaj7CxJ7_8",
        "colab": {
          "base_uri": "https://localhost:8080/",
          "height": 509
        },
        "outputId": "468fe64c-6294-4c5d-9df5-c5feef750ba0"
      },
      "source": [
        "plt.figure(figsize=(20,10))\n",
        "plt.grid()\n",
        "plt.plot(range(1, num_epochs+1), loss_train, label='Train Loss')\n",
        "plt.plot(range(1, num_epochs+1), loss_val, label='Val Loss')\n",
        "plt.xlabel('Epochs')\n",
        "plt.ylabel('Loss')\n",
        "plt.title(\"Loss Plots\")\n",
        "plt.legend(loc='upper right')\n",
        "plt.show()"
      ],
      "execution_count": null,
      "outputs": [
        {
          "output_type": "display_data",
          "data": {
            "image/png": "[encoded data removed]",
            "text/plain": [
              "<Figure size 1440x720 with 1 Axes>"
            ]
          },
          "metadata": {
            "tags": [],
            "needs_background": "light"
          }
        }
      ]
    },
    {
      "cell_type": "code",
      "metadata": {
        "id": "KN0y6laJ5Ih3",
        "colab": {
          "base_uri": "https://localhost:8080/"
        },
        "outputId": "7d3f4782-0fe2-4ea2-ede4-34114d7edc95"
      },
      "source": [
        "model.eval()\n",
        "\n",
        "running_corrects = 0\n",
        "\n",
        "with torch.no_grad():\n",
        "    for idx, (images, labels) in enumerate(test_loader):\n",
        "        images = images.to(device)\n",
        "        labels = labels.to(device)\n",
        "\n",
        "        z_scores = model(images)\n",
        "\n",
        "        _, predictions = torch.max(z_scores,1)\n",
        "        running_corrects += torch.sum(predictions == labels)\n",
        "\n",
        "    acc = running_corrects / len(test_dataset)\n",
        "    print(f'Test Accuracy: {acc:.4f}')"
      ],
      "execution_count": null,
      "outputs": [
        {
          "output_type": "stream",
          "text": [
            "Test Accuracy: 0.6761\n"
          ],
          "name": "stdout"
        }
      ]
    }
  ]
}