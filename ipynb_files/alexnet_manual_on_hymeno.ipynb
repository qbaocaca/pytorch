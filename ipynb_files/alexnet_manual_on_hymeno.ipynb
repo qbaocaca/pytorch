{
  "nbformat": 4,
  "nbformat_minor": 0,
  "metadata": {
    "colab": {
      "name": "alexnet_manual_on_hymeno.ipynb",
      "provenance": []
    },
    "kernelspec": {
      "name": "python3",
      "display_name": "Python 3"
    },
    "language_info": {
      "name": "python"
    },
    "accelerator": "GPU"
  },
  "cells": [
    {
      "cell_type": "code",
      "metadata": {
        "id": "AxIv2e43JRFd"
      },
      "source": [
        "import torch\n",
        "import torch.nn as nn\n",
        "import torch.optim as optim\n",
        "import torchvision.datasets as datasets\n",
        "import torchvision.transforms as transforms\n",
        "import torchvision\n",
        "from torch.utils.data import DataLoader\n",
        "import numpy as np\n",
        "import random\n",
        "import matplotlib.pyplot as plt\n",
        "import time"
      ],
      "execution_count": null,
      "outputs": []
    },
    {
      "cell_type": "code",
      "metadata": {
        "colab": {
          "base_uri": "https://localhost:8080/"
        },
        "id": "Ka557tdq0d6Y",
        "outputId": "04593f26-6864-4ba1-d95d-3729276a064d"
      },
      "source": [
        "from google.colab import drive\n",
        "drive.mount('/content/drive')"
      ],
      "execution_count": null,
      "outputs": [
        {
          "output_type": "stream",
          "text": [
            "Drive already mounted at /content/drive; to attempt to forcibly remount, call drive.mount(\"/content/drive\", force_remount=True).\n"
          ],
          "name": "stdout"
        }
      ]
    },
    {
      "cell_type": "code",
      "metadata": {
        "colab": {
          "base_uri": "https://localhost:8080/"
        },
        "id": "aQeAWdJdJUd7",
        "outputId": "775fc179-871f-4724-8e47-930ab4af7e0c"
      },
      "source": [
        "device = torch.device('cuda' if torch.cuda.is_available else 'cpu')\n",
        "print(device)"
      ],
      "execution_count": null,
      "outputs": [
        {
          "output_type": "stream",
          "text": [
            "cuda\n"
          ],
          "name": "stdout"
        }
      ]
    },
    {
      "cell_type": "code",
      "metadata": {
        "id": "007LWLB1JX6C"
      },
      "source": [
        "seed=1\n",
        "random.seed(seed)\n",
        "np.random.seed(seed)\n",
        "torch.manual_seed(seed)\n",
        "torch.backends.cudnn.deterministic = True\n",
        "torch.backends.cudnn.benchmark = False"
      ],
      "execution_count": null,
      "outputs": []
    },
    {
      "cell_type": "code",
      "metadata": {
        "id": "qIUhttPsJX9D"
      },
      "source": [
        "batch_size = 64\n",
        "learning_rate = 0.001"
      ],
      "execution_count": null,
      "outputs": []
    },
    {
      "cell_type": "code",
      "metadata": {
        "id": "Uvd3GrXHUtVY"
      },
      "source": [
        "mean = np.array([0.485, 0.456, 0.406])\n",
        "std = np.array([0.229, 0.224, 0.225])"
      ],
      "execution_count": null,
      "outputs": []
    },
    {
      "cell_type": "code",
      "metadata": {
        "id": "etopjDpVUYhe"
      },
      "source": [
        "train_trans = transforms.Compose(\n",
        "    [\n",
        "     transforms.RandomResizedCrop((227,227)),\n",
        "     transforms.RandomHorizontalFlip(),\n",
        "     transforms.ToTensor(),\n",
        "     transforms.Normalize(mean, std)\n",
        "    ]\n",
        ")\n",
        "\n",
        "val_trans = transforms.Compose(\n",
        "    [\n",
        "     transforms.Resize((227,227)),\n",
        "     transforms.CenterCrop((227, 227)),\n",
        "     transforms.RandomVerticalFlip(),\n",
        "     transforms.ToTensor(),\n",
        "     transforms.Normalize(mean, std)\n",
        "    ]\n",
        ")"
      ],
      "execution_count": null,
      "outputs": []
    },
    {
      "cell_type": "code",
      "metadata": {
        "id": "bdpy0JKFJX_T"
      },
      "source": [
        "train_dataset = datasets.ImageFolder(root='/content/drive/MyDrive/dataset/hymenoptera_data/train',\n",
        "                                 transform=train_trans,\n",
        "                                 )\n",
        "\n",
        "val_dataset = datasets.ImageFolder(root='/content/drive/MyDrive/dataset/hymenoptera_data/val',\n",
        "                                 transform=val_trans,\n",
        "                                 )\n",
        "\n",
        "test_dataset = datasets.ImageFolder(root='/content/drive/MyDrive/dataset/hymenoptera_data/test',\n",
        "                                 transform=val_trans,\n",
        "                                 )\n",
        "\n",
        "train_loader = DataLoader(dataset=train_dataset,\n",
        "                          batch_size=batch_size,\n",
        "                          shuffle=True)\n",
        "\n",
        "val_loader = DataLoader(dataset=val_dataset,\n",
        "                        batch_size=batch_size,\n",
        "                        shuffle=False)\n",
        "\n",
        "test_loader = DataLoader(dataset=test_dataset,\n",
        "                        batch_size=batch_size,\n",
        "                        shuffle=False)"
      ],
      "execution_count": null,
      "outputs": []
    },
    {
      "cell_type": "code",
      "metadata": {
        "id": "qzPKnF2ZWBgX"
      },
      "source": [
        "class conv_block (nn.Module):\n",
        "    def __init__(self, in_channels, out_channels, kernel_size, stride,\n",
        "                padding):\n",
        "        super(conv_block, self).__init__()\n",
        "\n",
        "        self.conv = nn.Conv2d(in_channels=in_channels,\n",
        "                              out_channels=out_channels,\n",
        "                              kernel_size=kernel_size,\n",
        "                              stride=stride,\n",
        "                              padding=padding)\n",
        "        self.bn = nn.BatchNorm2d(num_features=out_channels)\n",
        "        self.relu = nn.ReLU()\n",
        "\n",
        "    def forward(self, X):\n",
        "\n",
        "        out = self.relu(self.bn(self.conv(X)))\n",
        "\n",
        "        return out\n",
        "\n",
        "class Alexnet (nn.Module):\n",
        "    def __init__(self, in_channels, num_classes):\n",
        "        super(Alexnet, self).__init__()\n",
        "\n",
        "        self.conv1 = conv_block(in_channels=in_channels,\n",
        "                      out_channels=96,\n",
        "                      kernel_size=(11,11),\n",
        "                      stride=(4,4),\n",
        "                      padding=(0,0))\n",
        "\n",
        "        self.pool = nn.MaxPool2d(kernel_size=(3,3),\n",
        "                                 stride=(2,2),\n",
        "                                 padding=(0,0))\n",
        "\n",
        "        self.conv2 = conv_block(in_channels=96,\n",
        "                                out_channels=256,\n",
        "                                kernel_size=(5,5),\n",
        "                                stride=(1,1),\n",
        "                                padding=(2,2))\n",
        "\n",
        "        self.conv3 = conv_block(in_channels=256,\n",
        "                                out_channels=384,\n",
        "                                kernel_size=(3,3),\n",
        "                                stride=(1,1),\n",
        "                                padding=(1,1))\n",
        "\n",
        "        self.conv4 = conv_block(in_channels=384,\n",
        "                                out_channels=384,\n",
        "                                kernel_size=(3, 3),\n",
        "                                stride=(1, 1),\n",
        "                                padding=(1, 1))\n",
        "\n",
        "        self.conv5 = conv_block(in_channels=384,\n",
        "                                out_channels=256,\n",
        "                                kernel_size=(3, 3),\n",
        "                                stride=(1, 1),\n",
        "                                padding=(1, 1))\n",
        "\n",
        "        self.conv6 = conv_block(in_channels=256,\n",
        "                                out_channels=256,\n",
        "                                kernel_size=(3, 3),\n",
        "                                stride=(1, 1),\n",
        "                                padding=(1, 1))\n",
        "\n",
        "        self.fc1 = nn.Linear(in_features=256*6*6,\n",
        "                             out_features=4096)\n",
        "        self.relu = nn.ReLU()\n",
        "        self.fc2 = nn.Linear(4096, 4096)\n",
        "        self.fc3 = nn.Linear(4096, num_classes)\n",
        "        self.dropout = nn.Dropout(p=0.5)\n",
        "\n",
        "    def forward(self,X):\n",
        "\n",
        "        out = self.conv1(X)\n",
        "        out = self.pool(out)\n",
        "        out = self.conv2(out)\n",
        "        out = self.pool(out)\n",
        "        out = self.conv3(out)\n",
        "        out = self.conv4(out)\n",
        "        out = self.conv5(out)\n",
        "        out = self.conv6(out)\n",
        "        out = self.pool(out)\n",
        "\n",
        "        out = out.view(out.size(0), 256*6*6)\n",
        "\n",
        "        out = self.dropout(out)\n",
        "        out = self.relu(self.fc1(out))\n",
        "        out = self.dropout(out)\n",
        "        out = self.relu(self.fc2(out))\n",
        "        out = self.fc3(out)\n",
        "        \n",
        "        return out"
      ],
      "execution_count": null,
      "outputs": []
    },
    {
      "cell_type": "code",
      "metadata": {
        "colab": {
          "base_uri": "https://localhost:8080/"
        },
        "id": "xWySGf6NWq3u",
        "outputId": "e5cfc4cd-a926-449c-b94d-c95e8c261a31"
      },
      "source": [
        "model = Alexnet(in_channels=3,\n",
        "                 num_classes=2).to(device)\n",
        "print(model)"
      ],
      "execution_count": null,
      "outputs": [
        {
          "output_type": "stream",
          "text": [
            "Alexnet(\n",
            "  (conv1): conv_block(\n",
            "    (conv): Conv2d(3, 96, kernel_size=(11, 11), stride=(4, 4))\n",
            "    (bn): BatchNorm2d(96, eps=1e-05, momentum=0.1, affine=True, track_running_stats=True)\n",
            "    (relu): ReLU()\n",
            "  )\n",
            "  (pool): MaxPool2d(kernel_size=(3, 3), stride=(2, 2), padding=(0, 0), dilation=1, ceil_mode=False)\n",
            "  (conv2): conv_block(\n",
            "    (conv): Conv2d(96, 256, kernel_size=(5, 5), stride=(1, 1), padding=(2, 2))\n",
            "    (bn): BatchNorm2d(256, eps=1e-05, momentum=0.1, affine=True, track_running_stats=True)\n",
            "    (relu): ReLU()\n",
            "  )\n",
            "  (conv3): conv_block(\n",
            "    (conv): Conv2d(256, 384, kernel_size=(3, 3), stride=(1, 1), padding=(1, 1))\n",
            "    (bn): BatchNorm2d(384, eps=1e-05, momentum=0.1, affine=True, track_running_stats=True)\n",
            "    (relu): ReLU()\n",
            "  )\n",
            "  (conv4): conv_block(\n",
            "    (conv): Conv2d(384, 384, kernel_size=(3, 3), stride=(1, 1), padding=(1, 1))\n",
            "    (bn): BatchNorm2d(384, eps=1e-05, momentum=0.1, affine=True, track_running_stats=True)\n",
            "    (relu): ReLU()\n",
            "  )\n",
            "  (conv5): conv_block(\n",
            "    (conv): Conv2d(384, 256, kernel_size=(3, 3), stride=(1, 1), padding=(1, 1))\n",
            "    (bn): BatchNorm2d(256, eps=1e-05, momentum=0.1, affine=True, track_running_stats=True)\n",
            "    (relu): ReLU()\n",
            "  )\n",
            "  (conv6): conv_block(\n",
            "    (conv): Conv2d(256, 256, kernel_size=(3, 3), stride=(1, 1), padding=(1, 1))\n",
            "    (bn): BatchNorm2d(256, eps=1e-05, momentum=0.1, affine=True, track_running_stats=True)\n",
            "    (relu): ReLU()\n",
            "  )\n",
            "  (fc1): Linear(in_features=9216, out_features=4096, bias=True)\n",
            "  (relu): ReLU()\n",
            "  (fc2): Linear(in_features=4096, out_features=4096, bias=True)\n",
            "  (fc3): Linear(in_features=4096, out_features=2, bias=True)\n",
            "  (dropout): Dropout(p=0.5, inplace=False)\n",
            ")\n"
          ],
          "name": "stdout"
        }
      ]
    },
    {
      "cell_type": "code",
      "metadata": {
        "id": "OrASY-_bJf0y"
      },
      "source": [
        "criterion = nn.CrossEntropyLoss()\n",
        "optimizer = optim.Adam(model.parameters(), lr=learning_rate)"
      ],
      "execution_count": null,
      "outputs": []
    },
    {
      "cell_type": "code",
      "metadata": {
        "id": "Ucvs2ATOQIsf"
      },
      "source": [
        "torch.cuda.empty_cache()"
      ],
      "execution_count": null,
      "outputs": []
    },
    {
      "cell_type": "code",
      "metadata": {
        "id": "KnSIE_v8YEvL"
      },
      "source": [
        "step_lr_scheduler = torch.optim.lr_scheduler.StepLR(optimizer, step_size=7, gamma=0.1)"
      ],
      "execution_count": null,
      "outputs": []
    },
    {
      "cell_type": "code",
      "metadata": {
        "id": "_-rLfx4GJsUs"
      },
      "source": [
        "def train_loop (model, num_epochs, step_lr_scheduler, loss_train, loss_val, train_acc_hist, val_acc_hist, best_acc):\n",
        "\n",
        "  for epoch in range(num_epochs):\n",
        "\n",
        "      model.train()\n",
        "\n",
        "      running_loss = 0.0\n",
        "      running_corrects = 0\n",
        "\n",
        "      for idx, (images, labels) in enumerate(train_loader):\n",
        "          images = images.to(device)\n",
        "          labels = labels.to(device)\n",
        "          z_scores = model(images)\n",
        "          loss = criterion(z_scores, labels)\n",
        "          optimizer.zero_grad()\n",
        "          loss.backward()\n",
        "          optimizer.step()\n",
        "\n",
        "          running_loss += loss.item() * images.size(0)\n",
        "          _, predictions = torch.max(z_scores, 1)\n",
        "          running_corrects += torch.sum(predictions == labels)\n",
        "\n",
        "      epoch_loss = running_loss / len(train_dataset)\n",
        "      epoch_acc = running_corrects / len(train_dataset)\n",
        "      print(f'Epoch {epoch+1} / {num_epochs}, '\n",
        "            f'Train Loss {epoch_loss:.4f}, '\n",
        "            f'Train Acc {epoch_acc:.4f}')\n",
        "\n",
        "      train_acc_hist.append(epoch_acc)\n",
        "      loss_train.append(epoch_loss)\n",
        "\n",
        "      step_lr_scheduler.step()\n",
        "\n",
        "      model.eval()\n",
        "\n",
        "      running_loss = 0.0\n",
        "      running_corrects = 0\n",
        "\n",
        "      for idx, (images, labels) in enumerate(val_loader):\n",
        "          images = images.to(device)\n",
        "          labels = labels.to(device)\n",
        "\n",
        "          with torch.no_grad():\n",
        "              z_scores = model(images)\n",
        "              loss = criterion(z_scores, labels)\n",
        "\n",
        "              running_loss += loss.item() * images.size(0)\n",
        "              _, predictions = torch.max(z_scores, 1)\n",
        "              running_corrects += torch.sum(predictions == labels)\n",
        "\n",
        "      epoch_loss_val = running_loss / len(val_dataset)\n",
        "      epoch_acc_val = running_corrects / len(val_dataset)\n",
        "      print(f'Epoch {epoch + 1} / {num_epochs}, '\n",
        "            f'Val Loss {epoch_loss_val:.4f}, '\n",
        "            f'Val Acc {epoch_acc_val:.4f}')\n",
        "\n",
        "      val_acc_hist.append(epoch_acc_val)\n",
        "      loss_val.append(epoch_loss_val)\n",
        "\n",
        "      if epoch_acc_val > best_acc:\n",
        "          best_acc = epoch_acc_val"
      ],
      "execution_count": null,
      "outputs": []
    },
    {
      "cell_type": "code",
      "metadata": {
        "id": "2fLpUDaEKJ_j"
      },
      "source": [
        "def calculate_time (time_elapsed):\n",
        "    minutes = time_elapsed // 60\n",
        "    seconds = time_elapsed % 60\n",
        "    if minutes > 60:\n",
        "        hours = minutes // 60\n",
        "        new_minutes = minutes % 60\n",
        "        print(f'Training complete in {hours:.0f}h {new_minutes:.0f}m {seconds:.0f}s')\n",
        "    else:\n",
        "        print(f'Training complete in {minutes:.0f}m {seconds:.0f}s')"
      ],
      "execution_count": null,
      "outputs": []
    },
    {
      "cell_type": "code",
      "metadata": {
        "id": "ckljQ_d2Jf6A"
      },
      "source": [
        "num_epochs = 5\n",
        "val_acc_hist = []\n",
        "train_acc_hist = []\n",
        "loss_train = []\n",
        "loss_val = []\n",
        "best_acc = 0.0"
      ],
      "execution_count": null,
      "outputs": []
    },
    {
      "cell_type": "code",
      "metadata": {
        "colab": {
          "base_uri": "https://localhost:8080/"
        },
        "id": "CFUHXWnN40cD",
        "outputId": "4abe1619-84dd-4efb-c24b-b449dcbe9d4c"
      },
      "source": [
        "start = time.time()\n",
        "train_loop(model, num_epochs, step_lr_scheduler, loss_train, loss_val, train_acc_hist, val_acc_hist, best_acc)\n",
        "time_elapsed = time.time() - start"
      ],
      "execution_count": null,
      "outputs": [
        {
          "output_type": "stream",
          "text": [
            "Epoch 1 / 5, Train Loss 34.7461, Train Acc 0.4918\n",
            "Epoch 1 / 5, Val Loss 33.5068, Val Acc 0.4301\n",
            "Epoch 2 / 5, Train Loss 2.5391, Train Acc 0.5656\n",
            "Epoch 2 / 5, Val Loss 0.9536, Val Acc 0.5699\n",
            "Epoch 3 / 5, Train Loss 0.7818, Train Acc 0.5246\n",
            "Epoch 3 / 5, Val Loss 2.1706, Val Acc 0.3441\n",
            "Epoch 4 / 5, Train Loss 0.8330, Train Acc 0.5205\n",
            "Epoch 4 / 5, Val Loss 0.6690, Val Acc 0.5484\n",
            "Epoch 5 / 5, Train Loss 0.7264, Train Acc 0.5041\n",
            "Epoch 5 / 5, Val Loss 0.6380, Val Acc 0.5699\n"
          ],
          "name": "stdout"
        }
      ]
    },
    {
      "cell_type": "code",
      "metadata": {
        "id": "UUZ6esURJz1S",
        "colab": {
          "base_uri": "https://localhost:8080/"
        },
        "outputId": "cfd8464d-8fc4-4fca-e9f0-54b8595c1f9f"
      },
      "source": [
        "calculate_time(time_elapsed)"
      ],
      "execution_count": null,
      "outputs": [
        {
          "output_type": "stream",
          "text": [
            "Training complete in 1m 53s\n"
          ],
          "name": "stdout"
        }
      ]
    },
    {
      "cell_type": "code",
      "metadata": {
        "id": "aqictDB5J2Bz",
        "colab": {
          "base_uri": "https://localhost:8080/"
        },
        "outputId": "eaa87b10-824c-4bd7-abba-f5eead68e0d3"
      },
      "source": [
        "print(f'Best validation Accuracy: {best_acc:.4f}')"
      ],
      "execution_count": null,
      "outputs": [
        {
          "output_type": "stream",
          "text": [
            "Best validation Accuracy: 0.0000\n"
          ],
          "name": "stdout"
        }
      ]
    },
    {
      "cell_type": "code",
      "metadata": {
        "id": "P1S23G-6J2D6",
        "colab": {
          "base_uri": "https://localhost:8080/",
          "height": 621
        },
        "outputId": "1c7491e9-ea8d-4a7e-f31a-39f3ed38bf28"
      },
      "source": [
        "val_acc_hist_numpy = [acc.cpu().numpy() for acc in val_acc_hist]\n",
        "train_acc_hist_numpy = [acc.cpu().numpy() for acc in train_acc_hist]\n",
        "plt.figure(figsize=(20,10))\n",
        "plt.grid()\n",
        "plt.plot(range(1, num_epochs+1), val_acc_hist_numpy, label='Val Acc')\n",
        "plt.plot(range(1, num_epochs+1), train_acc_hist_numpy, label='Train Acc')\n",
        "plt.xlabel('Epochs')\n",
        "plt.ylabel('Acc')\n",
        "plt.title(\"Acc Plots\")\n",
        "plt.legend(loc='upper right')\n",
        "plt.show()"
      ],
      "execution_count": null,
      "outputs": [
        {
          "output_type": "display_data",
          "data": {
            "image/png": "[encoded data removed]",
            "text/plain": [
              "<Figure size 1440x720 with 1 Axes>"
            ]
          },
          "metadata": {
            "tags": [],
            "needs_background": "light"
          }
        }
      ]
    },
    {
      "cell_type": "code",
      "metadata": {
        "id": "1Lmaj7CxJ7_8",
        "colab": {
          "base_uri": "https://localhost:8080/",
          "height": 621
        },
        "outputId": "f74e62b9-2940-4325-e78f-4a5536477d14"
      },
      "source": [
        "plt.figure(figsize=(20,10))\n",
        "plt.grid()\n",
        "plt.plot(range(1, num_epochs+1), loss_train, label='Train Loss')\n",
        "plt.plot(range(1, num_epochs+1), loss_val, label='Val Loss')\n",
        "plt.xlabel('Epochs')\n",
        "plt.ylabel('Loss')\n",
        "plt.title(\"Loss Plots\")\n",
        "plt.legend(loc='upper right')\n",
        "plt.show()"
      ],
      "execution_count": null,
      "outputs": [
        {
          "output_type": "display_data",
          "data": {
            "image/png": "[encoded data removed]",
            "text/plain": [
              "<Figure size 1440x720 with 1 Axes>"
            ]
          },
          "metadata": {
            "tags": [],
            "needs_background": "light"
          }
        }
      ]
    },
    {
      "cell_type": "code",
      "metadata": {
        "id": "KN0y6laJ5Ih3",
        "colab": {
          "base_uri": "https://localhost:8080/"
        },
        "outputId": "74d07b8f-5458-4516-ff31-5949876e0abe"
      },
      "source": [
        "model.eval()\n",
        "\n",
        "running_corrects = 0\n",
        "\n",
        "with torch.no_grad():\n",
        "    for idx, (images, labels) in enumerate(test_loader):\n",
        "        images = images.to(device)\n",
        "        labels = labels.to(device)\n",
        "\n",
        "        z_scores = model(images)\n",
        "\n",
        "        _, predictions = torch.max(z_scores,1)\n",
        "        running_corrects += torch.sum(predictions == labels)\n",
        "\n",
        "    acc = running_corrects / len(test_dataset)\n",
        "    print(f'Test Accuracy: {acc:.4f}')"
      ],
      "execution_count": null,
      "outputs": [
        {
          "output_type": "stream",
          "text": [
            "Test Accuracy: 0.5000\n"
          ],
          "name": "stdout"
        }
      ]
    },
    {
      "cell_type": "code",
      "metadata": {
        "id": "f9Ivg43bXq5O"
      },
      "source": [
        "checkpoint = {\n",
        "                'model_state_dict': model.state_dict(),\n",
        "                'model_optimizer': optimizer.state_dict(),\n",
        "                'val_acc_hist': val_acc_hist,\n",
        "                'train_acc_hist': train_acc_hist,\n",
        "                'loss_train': loss_train,\n",
        "                'loss_val': loss_val,\n",
        "                'best_acc': best_acc\n",
        "}\n",
        "\n",
        "torch.save(checkpoint, '/content/drive/MyDrive/alexnet_on_hymeno.pth')"
      ],
      "execution_count": null,
      "outputs": []
    }
  ]
}
