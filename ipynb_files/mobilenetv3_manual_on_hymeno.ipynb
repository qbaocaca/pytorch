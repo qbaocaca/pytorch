{
  "nbformat": 4,
  "nbformat_minor": 0,
  "metadata": {
    "colab": {
      "name": "mobilenetv3_manual_on_hymeno.ipynb",
      "provenance": []
    },
    "kernelspec": {
      "name": "python3",
      "display_name": "Python 3"
    },
    "language_info": {
      "name": "python"
    },
    "accelerator": "GPU"
  },
  "cells": [
    {
      "cell_type": "code",
      "metadata": {
        "id": "AxIv2e43JRFd"
      },
      "source": [
        "import torch\n",
        "import torch.nn as nn\n",
        "import torch.optim as optim\n",
        "import torchvision.datasets as datasets\n",
        "import torchvision.transforms as transforms\n",
        "import torchvision\n",
        "from torch.utils.data import DataLoader\n",
        "import numpy as np\n",
        "import random\n",
        "import matplotlib.pyplot as plt\n",
        "import time"
      ],
      "execution_count": null,
      "outputs": []
    },
    {
      "cell_type": "code",
      "metadata": {
        "colab": {
          "base_uri": "https://localhost:8080/"
        },
        "id": "Ka557tdq0d6Y",
        "outputId": "04593f26-6864-4ba1-d95d-3729276a064d"
      },
      "source": [
        "from google.colab import drive\n",
        "drive.mount('/content/drive')"
      ],
      "execution_count": null,
      "outputs": [
        {
          "output_type": "stream",
          "text": [
            "Drive already mounted at /content/drive; to attempt to forcibly remount, call drive.mount(\"/content/drive\", force_remount=True).\n"
          ],
          "name": "stdout"
        }
      ]
    },
    {
      "cell_type": "code",
      "metadata": {
        "colab": {
          "base_uri": "https://localhost:8080/"
        },
        "id": "aQeAWdJdJUd7",
        "outputId": "8aa02e85-d653-420b-889b-0997a1cc91a2"
      },
      "source": [
        "device = torch.device('cuda' if torch.cuda.is_available else 'cpu')\n",
        "print(device)"
      ],
      "execution_count": null,
      "outputs": [
        {
          "output_type": "stream",
          "text": [
            "cuda\n"
          ],
          "name": "stdout"
        }
      ]
    },
    {
      "cell_type": "code",
      "metadata": {
        "id": "007LWLB1JX6C"
      },
      "source": [
        "seed=1\n",
        "random.seed(seed)\n",
        "np.random.seed(seed)\n",
        "torch.manual_seed(seed)\n",
        "torch.backends.cudnn.deterministic = True\n",
        "torch.backends.cudnn.benchmark = False"
      ],
      "execution_count": null,
      "outputs": []
    },
    {
      "cell_type": "code",
      "metadata": {
        "id": "qIUhttPsJX9D"
      },
      "source": [
        "batch_size = 64\n",
        "learning_rate = 0.001"
      ],
      "execution_count": null,
      "outputs": []
    },
    {
      "cell_type": "code",
      "metadata": {
        "id": "Uvd3GrXHUtVY"
      },
      "source": [
        "mean = np.array([0.485, 0.456, 0.406])\n",
        "std = np.array([0.229, 0.224, 0.225])"
      ],
      "execution_count": null,
      "outputs": []
    },
    {
      "cell_type": "code",
      "metadata": {
        "id": "etopjDpVUYhe"
      },
      "source": [
        "train_trans = transforms.Compose(\n",
        "    [\n",
        "     transforms.RandomResizedCrop((224,224)),\n",
        "     transforms.RandomHorizontalFlip(),\n",
        "     transforms.ToTensor(),\n",
        "     transforms.Normalize(mean, std)\n",
        "    ]\n",
        ")\n",
        "\n",
        "val_trans = transforms.Compose(\n",
        "    [\n",
        "     transforms.Resize((224,224)),\n",
        "     transforms.CenterCrop((224, 224)),\n",
        "     transforms.RandomVerticalFlip(),\n",
        "     transforms.ToTensor(),\n",
        "     transforms.Normalize(mean, std)\n",
        "    ]\n",
        ")"
      ],
      "execution_count": null,
      "outputs": []
    },
    {
      "cell_type": "code",
      "metadata": {
        "id": "bdpy0JKFJX_T"
      },
      "source": [
        "train_dataset = datasets.ImageFolder(root='/content/drive/MyDrive/dataset/hymenoptera_data/train',\n",
        "                                 transform=train_trans,\n",
        "                                 )\n",
        "\n",
        "val_dataset = datasets.ImageFolder(root='/content/drive/MyDrive/dataset/hymenoptera_data/val',\n",
        "                                 transform=val_trans,\n",
        "                                 )\n",
        "\n",
        "test_dataset = datasets.ImageFolder(root='/content/drive/MyDrive/dataset/hymenoptera_data/test',\n",
        "                                 transform=val_trans,\n",
        "                                 )\n",
        "\n",
        "train_loader = DataLoader(dataset=train_dataset,\n",
        "                          batch_size=batch_size,\n",
        "                          shuffle=True)\n",
        "\n",
        "val_loader = DataLoader(dataset=val_dataset,\n",
        "                        batch_size=batch_size,\n",
        "                        shuffle=False)\n",
        "\n",
        "test_loader = DataLoader(dataset=test_dataset,\n",
        "                        batch_size=batch_size,\n",
        "                        shuffle=False)"
      ],
      "execution_count": null,
      "outputs": []
    },
    {
      "cell_type": "code",
      "metadata": {
        "id": "qzPKnF2ZWBgX"
      },
      "source": [
        "class conv_block (nn.Module):\n",
        "    def __init__(self, in_channels, out_channels, kernel_size, stride,\n",
        "                 padding):\n",
        "        super(conv_block, self).__init__()\n",
        "        self.conv = nn.Conv2d(in_channels=in_channels,\n",
        "                              out_channels=out_channels,\n",
        "                              kernel_size=kernel_size,\n",
        "                              stride=stride,\n",
        "                              padding=padding,\n",
        "                              )\n",
        "\n",
        "        self.bn = nn.BatchNorm2d(num_features=out_channels)\n",
        "        self.hs = nn.Hardswish()\n",
        "\n",
        "    def forward(self, X):\n",
        "        out = self.hs(self.bn(self.conv(X)))\n",
        "\n",
        "        return out\n",
        "\n",
        "class SElayer (nn.Module):\n",
        "    def __init__(self, in_channels, reduction=16):\n",
        "        super(SElayer, self).__init__()\n",
        "        self.squeeze = nn.AdaptiveAvgPool2d(output_size=1)\n",
        "\n",
        "        # excitation\n",
        "        self.relu = nn.ReLU()\n",
        "        self.fc1 = nn.Linear(in_features=in_channels,\n",
        "                                out_features=in_channels//reduction)\n",
        "        self.fc2 = nn.Linear(in_features=in_channels//reduction,\n",
        "                             out_features=in_channels)\n",
        "\n",
        "        self.sigmoid = nn.Sigmoid()\n",
        "\n",
        "    def forward (self, X):\n",
        "\n",
        "        out = self.squeeze(X)\n",
        "        # batch_size, channel, _, _ = x.size()\n",
        "        batch_size, channel, _, _ = X.shape\n",
        "\n",
        "        out = out.reshape(out.shape[0], -1)\n",
        "        out = self.relu(self.fc1(out))\n",
        "        out = self.sigmoid(self.fc2(out))\n",
        "        # out = out.view(batch_size, channel, 1, 1)\n",
        "        out = out.reshape(batch_size, channel, 1, 1)\n",
        "\n",
        "        # element-wise multiplied with X ???\n",
        "        # out = out.expand(X.size())\n",
        "        out = out.expand_as(X)\n",
        "\n",
        "        return X * out\n",
        "\n",
        "class depthwise_block(nn.Module):\n",
        "    def __init__(self, in_channels, out_channels, stride,\n",
        "                 kernel_size, padding, groups=1,\n",
        "                 act_type1=False):\n",
        "        super(depthwise_block, self).__init__()\n",
        "\n",
        "        assert act_type1 == True or act_type1 == False\n",
        "        self.act_type = act_type1\n",
        "\n",
        "        # dw\n",
        "\n",
        "        self.conv1 = nn.Conv2d(in_channels=in_channels,\n",
        "                               out_channels=in_channels,\n",
        "                               kernel_size=kernel_size,\n",
        "                               stride=stride,\n",
        "                               padding=padding,\n",
        "                               groups=groups\n",
        "                               )\n",
        "\n",
        "        self.bn1 = nn.BatchNorm2d(num_features=in_channels)\n",
        "\n",
        "        # mobilenet_v3 uses both Hardswish and ReLU\n",
        "\n",
        "        if act_type1:\n",
        "            self.relu = nn.ReLU6()\n",
        "\n",
        "        self.hardswish = nn.Hardswish()\n",
        "\n",
        "        # pw\n",
        "\n",
        "        self.conv2 = nn.Conv2d(in_channels=in_channels,\n",
        "                               out_channels=out_channels,\n",
        "                               kernel_size=(1, 1),\n",
        "                               stride=(1, 1),\n",
        "                               padding=(0, 0),\n",
        "                               )\n",
        "        self.bn2 = nn.BatchNorm2d(num_features=out_channels)\n",
        "\n",
        "    def forward(self, X):\n",
        "\n",
        "        if self.act_type:\n",
        "            out = self.relu(self.bn1(self.conv1(X)))\n",
        "        else:\n",
        "            out = self.hardswish(self.bn1(self.conv1(X)))\n",
        "\n",
        "        out = self.bn2(self.conv2(out))\n",
        "\n",
        "        # mobilev2 doesnt have relu in pw\n",
        "\n",
        "        return out\n",
        "\n",
        "class InvertedResidual_block (nn.Module):\n",
        "    def __init__(self, in_channels, out_channels, kernel_size,\n",
        "                 stride, padding, block_type1=False,\n",
        "                 expand_size=72, act_type_=False, use_se=False):\n",
        "        super(InvertedResidual_block, self).__init__()\n",
        "\n",
        "        assert block_type1 == True or block_type1 == False\n",
        "        assert use_se == True or use_se == False\n",
        "        self.block_type = block_type1\n",
        "        self.se_layer = use_se\n",
        "\n",
        "        # expansion\n",
        "\n",
        "        self.conv1 = conv_block(in_channels=in_channels,\n",
        "                               out_channels=expand_size,\n",
        "                                kernel_size=(1,1),\n",
        "                               stride=(1,1),\n",
        "                                padding=(0,0))\n",
        "\n",
        "        # depthwise_block = depthwise + pointwise\n",
        "\n",
        "        self.convdw = depthwise_block(in_channels=expand_size,\n",
        "                                      out_channels=out_channels,\n",
        "                                      kernel_size=kernel_size,\n",
        "                                      stride=stride,\n",
        "                                      padding=padding,\n",
        "                                      groups=expand_size,\n",
        "                                      act_type1=act_type_)\n",
        "\n",
        "        if block_type1:\n",
        "            self.padd_conv = nn.Conv2d(in_channels=in_channels,\n",
        "                                       out_channels=out_channels,\n",
        "                                       kernel_size=(1, 1),\n",
        "                                       stride=(1, 1),\n",
        "                                       padding=(0, 0))\n",
        "\n",
        "        if use_se:\n",
        "            self.se = SElayer(in_channels=out_channels, reduction=16)\n",
        "\n",
        "    def forward(self, X):\n",
        "\n",
        "        out = self.conv1(X)\n",
        "        out = self.convdw(out)\n",
        "\n",
        "        if self.se_layer:\n",
        "            out = self.se(out)\n",
        "\n",
        "        if self.block_type:\n",
        "            X = self.padd_conv(X)\n",
        "            out += X\n",
        "            return out\n",
        "        else:\n",
        "            return out\n",
        "\n",
        "class mobilenet_v3_small (nn.Module):\n",
        "    def __init__(self, in_channels, num_classes):\n",
        "        super(mobilenet_v3_small, self).__init__()\n",
        "\n",
        "        self.first_layer = conv_block(in_channels=3,\n",
        "                                      out_channels=16,\n",
        "                                      kernel_size=(3,3),\n",
        "                                      stride=(2,2),\n",
        "                                      padding=(1,1))\n",
        "\n",
        "        self.bneck1 = InvertedResidual_block(in_channels=16,\n",
        "                                             out_channels=16,\n",
        "                                             kernel_size=(3, 3),\n",
        "                                             stride=(2,2),\n",
        "                                             padding=(1,1),\n",
        "                                             block_type1=False,\n",
        "                                             expand_size=16,\n",
        "                                             act_type_=True,\n",
        "                                             use_se=True)\n",
        "\n",
        "        self.bneck2 = InvertedResidual_block(16, 24, (3,3), (2,2), (1,1),\n",
        "                                             False, 72, True, False)\n",
        "\n",
        "        self.bneck3 = InvertedResidual_block(24, 24, (3, 3), (1, 1), (1, 1),\n",
        "                                             True, 88, True, False)\n",
        "\n",
        "        self.bneck4 = InvertedResidual_block(24, 40, (5, 5), (2, 2), (2, 2),\n",
        "                                             False, 96, False, True)\n",
        "\n",
        "        self.bneck5 = InvertedResidual_block(40, 40, (5, 5), (1, 1), (2, 2),\n",
        "                                             True, 240, False, True)\n",
        "\n",
        "        self.bneck6 = InvertedResidual_block(40, 48, (5, 5), (1, 1), (2, 2),\n",
        "                                             True, 120, False, True)\n",
        "\n",
        "        self.bneck7 = InvertedResidual_block(48, 48, (5, 5), (1, 1), (2, 2),\n",
        "                                             True, 144, False, True)\n",
        "\n",
        "        self.bneck8 = InvertedResidual_block(48, 96, (5, 5), (2, 2), (2, 2),\n",
        "                                             False, 288, False, True)\n",
        "\n",
        "        self.bneck9 = InvertedResidual_block(96, 96, (5, 5), (1, 1), (2, 2),\n",
        "                                             True, 576, False, True)\n",
        "\n",
        "        self.conv1 = conv_block(in_channels=96,\n",
        "                                out_channels=576,\n",
        "                                kernel_size=(1,1),\n",
        "                                stride=(1, 1),\n",
        "                                padding=(0, 0))\n",
        "\n",
        "        self.se = SElayer(in_channels=576, reduction=16)\n",
        "\n",
        "        self.avgpool = nn.AvgPool2d(kernel_size=(7,7),\n",
        "                                      stride=(1, 1),\n",
        "                                      padding=(0, 0))\n",
        "        self.hardswish = nn.Hardswish()\n",
        "\n",
        "        self.fc1 = nn.Linear(in_features=576, out_features=1024)\n",
        "        self.dropout = nn.Dropout(p=0.2)\n",
        "        self.fc2 = nn.Linear(in_features=1024, out_features=num_classes)\n",
        "\n",
        "    def forward(self, X):\n",
        "        out = self.first_layer(X)\n",
        "        out = self.bneck1(out)\n",
        "        out = self.bneck2(out)\n",
        "        out = self.bneck3(out)\n",
        "        out = self.bneck4(out)\n",
        "        out = self.bneck5(out)\n",
        "        out = self.bneck5(out)\n",
        "        out = self.bneck6(out)\n",
        "        out = self.bneck7(out)\n",
        "        out = self.bneck8(out)\n",
        "        out = self.bneck9(out)\n",
        "        out = self.bneck9(out)\n",
        "        out = self.conv1(out)\n",
        "        out = self.se(out)\n",
        "        out = self.avgpool(out)\n",
        "\n",
        "        out = out.reshape(out.shape[0], -1)\n",
        "\n",
        "        out = self.hardswish(self.fc1(out))\n",
        "        out = self.dropout(out)\n",
        "        out = self.fc2(out)\n",
        "\n",
        "        return out"
      ],
      "execution_count": null,
      "outputs": []
    },
    {
      "cell_type": "code",
      "metadata": {
        "id": "xWySGf6NWq3u"
      },
      "source": [
        "model = mobilenet_v3_small(in_channels=3,\n",
        "                 num_classes=2).to(device)"
      ],
      "execution_count": null,
      "outputs": []
    },
    {
      "cell_type": "code",
      "metadata": {
        "id": "OrASY-_bJf0y"
      },
      "source": [
        "criterion = nn.CrossEntropyLoss()\n",
        "optimizer = optim.Adam(model.parameters(), lr=learning_rate)"
      ],
      "execution_count": null,
      "outputs": []
    },
    {
      "cell_type": "code",
      "metadata": {
        "id": "suUBaCYcMiDV"
      },
      "source": [
        "# checkpoint = torch.load('/content/drive/MyDrive/mobilenetv1_on_hymeno.pth')\n",
        "# model.load_state_dict(checkpoint['model_state_dict'])\n",
        "# optimizer.load_state_dict(checkpoint['model_optimizer'])"
      ],
      "execution_count": null,
      "outputs": []
    },
    {
      "cell_type": "code",
      "metadata": {
        "id": "Ucvs2ATOQIsf"
      },
      "source": [
        "torch.cuda.empty_cache()"
      ],
      "execution_count": null,
      "outputs": []
    },
    {
      "cell_type": "code",
      "metadata": {
        "id": "KnSIE_v8YEvL"
      },
      "source": [
        "step_lr_scheduler = torch.optim.lr_scheduler.StepLR(optimizer, step_size=7, gamma=0.1)"
      ],
      "execution_count": null,
      "outputs": []
    },
    {
      "cell_type": "code",
      "metadata": {
        "id": "2fLpUDaEKJ_j"
      },
      "source": [
        "def calculate_time (time_elapsed):\n",
        "    minutes = time_elapsed // 60\n",
        "    seconds = time_elapsed % 60\n",
        "    if minutes > 60:\n",
        "        hours = minutes // 60\n",
        "        new_minutes = minutes % 60\n",
        "        print(f'Training complete in {hours:.0f}h {new_minutes:.0f}m {seconds:.0f}s')\n",
        "    else:\n",
        "        print(f'Training complete in {minutes:.0f}m {seconds:.0f}s')"
      ],
      "execution_count": null,
      "outputs": []
    },
    {
      "cell_type": "code",
      "metadata": {
        "id": "ckljQ_d2Jf6A"
      },
      "source": [
        "num_epochs = 30\n",
        "val_acc_hist = []\n",
        "train_acc_hist = []\n",
        "loss_train = []\n",
        "loss_val = []\n",
        "best_acc = 0.0"
      ],
      "execution_count": null,
      "outputs": []
    },
    {
      "cell_type": "code",
      "metadata": {
        "colab": {
          "base_uri": "https://localhost:8080/"
        },
        "id": "huLV9BHcsC4A",
        "outputId": "4799568a-8609-47fb-c88e-83a2f6a66d75"
      },
      "source": [
        "start = time.time()\n",
        "\n",
        "for epoch in range(num_epochs):\n",
        "\n",
        "    model.train()\n",
        "\n",
        "    running_loss = 0.0\n",
        "    running_corrects = 0\n",
        "\n",
        "    for idx, (images, labels) in enumerate(train_loader):\n",
        "        images = images.to(device)\n",
        "        labels = labels.to(device)\n",
        "        z_scores = model(images)\n",
        "        loss = criterion(z_scores, labels)\n",
        "        optimizer.zero_grad()\n",
        "        loss.backward()\n",
        "        optimizer.step()\n",
        "\n",
        "        running_loss += loss.item() * images.size(0)\n",
        "        _, predictions = torch.max(z_scores, 1)\n",
        "        running_corrects += torch.sum(predictions == labels)\n",
        "\n",
        "    epoch_loss = running_loss / len(train_dataset)\n",
        "    epoch_acc = running_corrects / len(train_dataset)\n",
        "    print(f'Epoch {epoch+1} / {num_epochs}, '\n",
        "          f'Train Loss {epoch_loss:.4f}, '\n",
        "          f'Train Acc {epoch_acc:.4f}')\n",
        "\n",
        "    train_acc_hist.append(epoch_acc)\n",
        "    loss_train.append(epoch_loss)\n",
        "\n",
        "    step_lr_scheduler.step()\n",
        "\n",
        "    model.eval()\n",
        "\n",
        "    running_loss = 0.0\n",
        "    running_corrects = 0\n",
        "\n",
        "    for idx, (images, labels) in enumerate(val_loader):\n",
        "        images = images.to(device)\n",
        "        labels = labels.to(device)\n",
        "\n",
        "        with torch.no_grad():\n",
        "            z_scores = model(images)\n",
        "            loss = criterion(z_scores, labels)\n",
        "\n",
        "            running_loss += loss.item() * images.size(0)\n",
        "            _, predictions = torch.max(z_scores, 1)\n",
        "            running_corrects += torch.sum(predictions == labels)\n",
        "\n",
        "    epoch_loss_val = running_loss / len(val_dataset)\n",
        "    epoch_acc_val = running_corrects / len(val_dataset)\n",
        "    print(f'Epoch {epoch + 1} / {num_epochs}, '\n",
        "          f'Val Loss {epoch_loss_val:.4f}, '\n",
        "          f'Val Acc {epoch_acc_val:.4f}')\n",
        "\n",
        "    val_acc_hist.append(epoch_acc_val)\n",
        "    loss_val.append(epoch_loss_val)\n",
        "\n",
        "    if epoch_acc_val > best_acc:\n",
        "        best_acc = epoch_acc_val\n",
        "\n",
        "time_elapsed = time.time() - start"
      ],
      "execution_count": null,
      "outputs": [
        {
          "output_type": "stream",
          "text": [
            "Epoch 1 / 30, Train Loss 0.6986, Train Acc 0.5164\n",
            "Epoch 1 / 30, Val Loss 0.6957, Val Acc 0.4301\n",
            "Epoch 2 / 30, Train Loss 0.6816, Train Acc 0.5328\n",
            "Epoch 2 / 30, Val Loss 0.7025, Val Acc 0.4301\n",
            "Epoch 3 / 30, Train Loss 0.6620, Train Acc 0.6148\n",
            "Epoch 3 / 30, Val Loss 0.7316, Val Acc 0.4301\n",
            "Epoch 4 / 30, Train Loss 0.6471, Train Acc 0.6107\n",
            "Epoch 4 / 30, Val Loss 0.7190, Val Acc 0.4301\n",
            "Epoch 5 / 30, Train Loss 0.7147, Train Acc 0.5943\n",
            "Epoch 5 / 30, Val Loss 0.7113, Val Acc 0.4301\n",
            "Epoch 6 / 30, Train Loss 0.6415, Train Acc 0.6311\n",
            "Epoch 6 / 30, Val Loss 0.7247, Val Acc 0.4301\n",
            "Epoch 7 / 30, Train Loss 0.6262, Train Acc 0.6393\n",
            "Epoch 7 / 30, Val Loss 0.7676, Val Acc 0.4301\n",
            "Epoch 8 / 30, Train Loss 0.6147, Train Acc 0.6434\n",
            "Epoch 8 / 30, Val Loss 0.7784, Val Acc 0.4301\n",
            "Epoch 9 / 30, Train Loss 0.5931, Train Acc 0.6598\n",
            "Epoch 9 / 30, Val Loss 0.7734, Val Acc 0.4301\n",
            "Epoch 10 / 30, Train Loss 0.6060, Train Acc 0.6434\n",
            "Epoch 10 / 30, Val Loss 0.7610, Val Acc 0.4301\n",
            "Epoch 11 / 30, Train Loss 0.6050, Train Acc 0.6680\n",
            "Epoch 11 / 30, Val Loss 0.7428, Val Acc 0.4516\n",
            "Epoch 12 / 30, Train Loss 0.5777, Train Acc 0.6885\n",
            "Epoch 12 / 30, Val Loss 0.7294, Val Acc 0.4731\n",
            "Epoch 13 / 30, Train Loss 0.6002, Train Acc 0.6762\n",
            "Epoch 13 / 30, Val Loss 0.7022, Val Acc 0.5054\n",
            "Epoch 14 / 30, Train Loss 0.5953, Train Acc 0.6475\n",
            "Epoch 14 / 30, Val Loss 0.6718, Val Acc 0.5484\n",
            "Epoch 15 / 30, Train Loss 0.5632, Train Acc 0.7049\n",
            "Epoch 15 / 30, Val Loss 0.6532, Val Acc 0.5591\n",
            "Epoch 16 / 30, Train Loss 0.5783, Train Acc 0.7008\n",
            "Epoch 16 / 30, Val Loss 0.6411, Val Acc 0.5591\n",
            "Epoch 17 / 30, Train Loss 0.5811, Train Acc 0.6598\n",
            "Epoch 17 / 30, Val Loss 0.6297, Val Acc 0.6129\n",
            "Epoch 18 / 30, Train Loss 0.5851, Train Acc 0.6762\n",
            "Epoch 18 / 30, Val Loss 0.6110, Val Acc 0.6129\n",
            "Epoch 19 / 30, Train Loss 0.6004, Train Acc 0.6844\n",
            "Epoch 19 / 30, Val Loss 0.6131, Val Acc 0.6237\n",
            "Epoch 20 / 30, Train Loss 0.5663, Train Acc 0.7049\n",
            "Epoch 20 / 30, Val Loss 0.6062, Val Acc 0.6237\n",
            "Epoch 21 / 30, Train Loss 0.5664, Train Acc 0.7008\n",
            "Epoch 21 / 30, Val Loss 0.5972, Val Acc 0.6452\n",
            "Epoch 22 / 30, Train Loss 0.5618, Train Acc 0.6803\n",
            "Epoch 22 / 30, Val Loss 0.5859, Val Acc 0.6452\n",
            "Epoch 23 / 30, Train Loss 0.5552, Train Acc 0.7172\n",
            "Epoch 23 / 30, Val Loss 0.5917, Val Acc 0.6559\n",
            "Epoch 24 / 30, Train Loss 0.5739, Train Acc 0.7008\n",
            "Epoch 24 / 30, Val Loss 0.5844, Val Acc 0.6559\n",
            "Epoch 25 / 30, Train Loss 0.5562, Train Acc 0.6680\n",
            "Epoch 25 / 30, Val Loss 0.5909, Val Acc 0.6452\n",
            "Epoch 26 / 30, Train Loss 0.5530, Train Acc 0.7213\n",
            "Epoch 26 / 30, Val Loss 0.5976, Val Acc 0.6452\n",
            "Epoch 27 / 30, Train Loss 0.5915, Train Acc 0.6721\n",
            "Epoch 27 / 30, Val Loss 0.6016, Val Acc 0.6344\n",
            "Epoch 28 / 30, Train Loss 0.5834, Train Acc 0.6762\n",
            "Epoch 28 / 30, Val Loss 0.5978, Val Acc 0.6452\n",
            "Epoch 29 / 30, Train Loss 0.5955, Train Acc 0.6680\n",
            "Epoch 29 / 30, Val Loss 0.5996, Val Acc 0.6344\n",
            "Epoch 30 / 30, Train Loss 0.5923, Train Acc 0.6803\n",
            "Epoch 30 / 30, Val Loss 0.5860, Val Acc 0.6344\n"
          ],
          "name": "stdout"
        }
      ]
    },
    {
      "cell_type": "code",
      "metadata": {
        "id": "UUZ6esURJz1S",
        "colab": {
          "base_uri": "https://localhost:8080/"
        },
        "outputId": "b8894c09-e36d-45e0-a638-5e1f7fd30fd2"
      },
      "source": [
        "calculate_time(time_elapsed)"
      ],
      "execution_count": null,
      "outputs": [
        {
          "output_type": "stream",
          "text": [
            "Training complete in 2m 51s\n"
          ],
          "name": "stdout"
        }
      ]
    },
    {
      "cell_type": "code",
      "metadata": {
        "id": "aqictDB5J2Bz",
        "colab": {
          "base_uri": "https://localhost:8080/"
        },
        "outputId": "f4b97dd4-e3de-4584-9646-84d2161b4b85"
      },
      "source": [
        "print(f'Best validation Accuracy: {best_acc:.4f}')"
      ],
      "execution_count": null,
      "outputs": [
        {
          "output_type": "stream",
          "text": [
            "Best validation Accuracy: 0.6559\n"
          ],
          "name": "stdout"
        }
      ]
    },
    {
      "cell_type": "code",
      "metadata": {
        "id": "P1S23G-6J2D6",
        "colab": {
          "base_uri": "https://localhost:8080/",
          "height": 503
        },
        "outputId": "e688438a-70b9-40e8-931e-e52c8d7f0554"
      },
      "source": [
        "val_acc_hist_numpy = [acc.cpu().numpy() for acc in val_acc_hist]\n",
        "train_acc_hist_numpy = [acc.cpu().numpy() for acc in train_acc_hist]\n",
        "plt.figure(figsize=(20,10))\n",
        "plt.grid()\n",
        "plt.plot(range(1, num_epochs+1), val_acc_hist_numpy, label='Val Acc')\n",
        "plt.plot(range(1, num_epochs+1), train_acc_hist_numpy, label='Train Acc')\n",
        "plt.xlabel('Epochs')\n",
        "plt.ylabel('Acc')\n",
        "plt.title(\"Acc Plots\")\n",
        "plt.legend(loc='upper right')\n",
        "plt.show()"
      ],
      "execution_count": null,
      "outputs": [
        {
          "output_type": "display_data",
          "data": {
            "image/png": "[encoded data removed]",
            "text/plain": [
              "<Figure size 1440x720 with 1 Axes>"
            ]
          },
          "metadata": {
            "needs_background": "light"
          }
        }
      ]
    },
    {
      "cell_type": "code",
      "metadata": {
        "id": "1Lmaj7CxJ7_8",
        "colab": {
          "base_uri": "https://localhost:8080/",
          "height": 503
        },
        "outputId": "19c2c8e0-9531-492b-ed89-5ce5424bdaf5"
      },
      "source": [
        "plt.figure(figsize=(20,10))\n",
        "plt.grid()\n",
        "plt.plot(range(1, num_epochs+1), loss_train, label='Train Loss')\n",
        "plt.plot(range(1, num_epochs+1), loss_val, label='Val Loss')\n",
        "plt.xlabel('Epochs')\n",
        "plt.ylabel('Loss')\n",
        "plt.title(\"Loss Plots\")\n",
        "plt.legend(loc='upper right')\n",
        "plt.show()"
      ],
      "execution_count": null,
      "outputs": [
        {
          "output_type": "display_data",
          "data": {
            "image/png": "[encoded data removed]",
            "text/plain": [
              "<Figure size 1440x720 with 1 Axes>"
            ]
          },
          "metadata": {
            "needs_background": "light"
          }
        }
      ]
    },
    {
      "cell_type": "code",
      "metadata": {
        "id": "KN0y6laJ5Ih3",
        "colab": {
          "base_uri": "https://localhost:8080/"
        },
        "outputId": "a62183ec-6e9a-44e5-cc76-345cbfa62b8c"
      },
      "source": [
        "model.eval()\n",
        "\n",
        "running_corrects = 0\n",
        "\n",
        "with torch.no_grad():\n",
        "    for idx, (images, labels) in enumerate(test_loader):\n",
        "        images = images.to(device)\n",
        "        labels = labels.to(device)\n",
        "\n",
        "        z_scores = model(images)\n",
        "\n",
        "        _, predictions = torch.max(z_scores,1)\n",
        "        running_corrects += torch.sum(predictions == labels)\n",
        "\n",
        "    acc = running_corrects / len(test_dataset)\n",
        "    print(f'Test Accuracy: {acc:.4f}')"
      ],
      "execution_count": null,
      "outputs": [
        {
          "output_type": "stream",
          "text": [
            "Test Accuracy: 0.6333\n"
          ],
          "name": "stdout"
        }
      ]
    },
    {
      "cell_type": "code",
      "metadata": {
        "id": "f9Ivg43bXq5O"
      },
      "source": [
        "checkpoint = {\n",
        "                'model_state_dict': model.state_dict(),\n",
        "                'model_optimizer': optimizer.state_dict(),\n",
        "                'val_acc_hist': val_acc_hist,\n",
        "                'train_acc_hist': train_acc_hist,\n",
        "                'loss_train': loss_train,\n",
        "                'loss_val': loss_val,\n",
        "                'best_acc': best_acc\n",
        "}\n",
        "\n",
        "torch.save(checkpoint, '/content/drive/MyDrive/mobilenetv3_on_hymeno.pth')"
      ],
      "execution_count": null,
      "outputs": []
    }
  ]
}
