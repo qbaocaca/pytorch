{
  "nbformat": 4,
  "nbformat_minor": 0,
  "metadata": {
    "colab": {
      "name": "resnet18_manual_on_fashionmnist.ipynb",
      "provenance": []
    },
    "kernelspec": {
      "name": "python3",
      "display_name": "Python 3"
    },
    "language_info": {
      "name": "python"
    },
    "accelerator": "GPU"
  },
  "cells": [
    {
      "cell_type": "code",
      "metadata": {
        "id": "AxIv2e43JRFd"
      },
      "source": [
        "import torch\n",
        "import torch.nn as nn\n",
        "import torch.optim as optim\n",
        "import torchvision.datasets as datasets\n",
        "import torchvision.transforms as transforms\n",
        "import torchvision\n",
        "from torch.utils.data import DataLoader\n",
        "import numpy as np\n",
        "import random\n",
        "import matplotlib.pyplot as plt\n",
        "import time"
      ],
      "execution_count": null,
      "outputs": []
    },
    {
      "cell_type": "code",
      "metadata": {
        "colab": {
          "base_uri": "https://localhost:8080/"
        },
        "id": "Ka557tdq0d6Y",
        "outputId": "04593f26-6864-4ba1-d95d-3729276a064d"
      },
      "source": [
        "from google.colab import drive\n",
        "drive.mount('/content/drive')"
      ],
      "execution_count": null,
      "outputs": [
        {
          "output_type": "stream",
          "text": [
            "Drive already mounted at /content/drive; to attempt to forcibly remount, call drive.mount(\"/content/drive\", force_remount=True).\n"
          ],
          "name": "stdout"
        }
      ]
    },
    {
      "cell_type": "code",
      "metadata": {
        "colab": {
          "base_uri": "https://localhost:8080/"
        },
        "id": "aQeAWdJdJUd7",
        "outputId": "b34f09b6-3f6b-4599-88c6-bde251bd462f"
      },
      "source": [
        "device = torch.device('cuda' if torch.cuda.is_available else 'cpu')\n",
        "print(device)"
      ],
      "execution_count": null,
      "outputs": [
        {
          "output_type": "stream",
          "text": [
            "cuda\n"
          ],
          "name": "stdout"
        }
      ]
    },
    {
      "cell_type": "code",
      "metadata": {
        "id": "007LWLB1JX6C"
      },
      "source": [
        "seed=1\n",
        "random.seed(seed)\n",
        "np.random.seed(seed)\n",
        "torch.manual_seed(seed)\n",
        "torch.backends.cudnn.deterministic = True\n",
        "torch.backends.cudnn.benchmark = False"
      ],
      "execution_count": null,
      "outputs": []
    },
    {
      "cell_type": "code",
      "metadata": {
        "id": "qIUhttPsJX9D"
      },
      "source": [
        "batch_size = 64\n",
        "learning_rate = 0.001"
      ],
      "execution_count": null,
      "outputs": []
    },
    {
      "cell_type": "code",
      "metadata": {
        "id": "bdpy0JKFJX_T"
      },
      "source": [
        "train_dataset = datasets.FashionMNIST(root='/content/drive/MyDrive/datasets',\n",
        "                                      train=True,\n",
        "                                 transform=transforms.ToTensor(),\n",
        "                                 download=False\n",
        "                                 )\n",
        "\n",
        "test_dataset = datasets.FashionMNIST(root='/content/drive/MyDrive/datasets',\n",
        "                                     train=False,\n",
        "                                 transform=transforms.ToTensor(),\n",
        "                                 download=False\n",
        "                                 )\n",
        "\n",
        "val_dataset, test_dataset = torch.utils.data.random_split(test_dataset,\n",
        "                            [int(0.9*len(test_dataset)), \n",
        "                                              int(0.1*len(test_dataset))])\n",
        "\n",
        "train_loader = DataLoader(dataset=train_dataset,\n",
        "                          batch_size=batch_size,\n",
        "                          shuffle=True)\n",
        "\n",
        "val_loader = DataLoader(dataset=val_dataset,\n",
        "                        batch_size=batch_size,\n",
        "                        shuffle=False)\n",
        "\n",
        "test_loader = DataLoader(dataset=test_dataset,\n",
        "                        batch_size=batch_size,\n",
        "                        shuffle=False)"
      ],
      "execution_count": null,
      "outputs": []
    },
    {
      "cell_type": "code",
      "metadata": {
        "id": "qzPKnF2ZWBgX"
      },
      "source": [
        "class residual_block (nn.Module):\n",
        "\n",
        "\tdef __init__(self,in_channels, out_channels, stride, use_padd=False):\n",
        "\t\tsuper(residual_block, self).__init__()\n",
        "\n",
        "\t\tself.conv1 = nn.Conv2d(in_channels=in_channels,\n",
        "\t\t\t\t\t\t\t\tout_channels=out_channels,\n",
        "\t\t\t\t\t\t\t\tkernel_size=(3,3),\n",
        "\t\t\t\t\t\t\t\tstride=stride,\n",
        "\t\t\t\t\t\t\t\tpadding=(1,1))\n",
        "\n",
        "\t\tself.conv2 = nn.Conv2d(in_channels=out_channels,\n",
        "\t\t\t\t\t\t\t   out_channels=out_channels,\n",
        "\t\t\t\t\t\t\t   kernel_size=(3,3),\n",
        "\t\t\t\t\t\t\t   stride=(1,1),\n",
        "\t\t\t\t\t\t\t   padding=(1,1))\n",
        "\n",
        "\t\tif use_padd:\n",
        "\t\t\tself.padd_conv = nn.Conv2d(in_channels=in_channels,\n",
        "\t\t\t\t\t\t\t\t\t   out_channels=out_channels,\n",
        "\t\t\t\t\t\t\t\t\t   kernel_size=(1, 1),\n",
        "\t\t\t\t\t\t\t\t\t   stride=(2, 2),\n",
        "\t\t\t\t\t\t\t\t\t   padding=(0, 0))\n",
        "\t\telse:\n",
        "\t\t\tself.padd_conv = None\n",
        "\n",
        "\t\tself.bn = nn.BatchNorm2d(num_features=out_channels)\n",
        "\t\tself.relu = nn.ReLU()\n",
        "\n",
        "\n",
        "\tdef forward(self, X):\n",
        "\n",
        "\t\tout = self.relu(self.bn(self.conv1(X)))\n",
        "\t\tout = self.relu(self.bn(self.conv2(out)))\n",
        "\n",
        "\t\tout = self.relu(self.bn(self.conv2(out)))\n",
        "\t\tout = self.relu(self.bn(self.conv2(out)))\n",
        "\n",
        "\t\tif self.padd_conv:\n",
        "\t\t\tX = self.padd_conv(X)\n",
        "\n",
        "\t\tout += X\n",
        "\t\tout = self.relu(out)\n",
        "\n",
        "\t\treturn out\n",
        "\n",
        "class Resnet18 (nn.Module):\n",
        "\tdef __init__(self, in_channels, num_classes):\n",
        "\t\tsuper(Resnet18, self).__init__()\n",
        "\n",
        "\t\tself.conv = nn.Conv2d(in_channels=in_channels,\n",
        "\t\t\t\t\t\t\t   out_channels=64,\n",
        "\t\t\t\t\t\t\t   kernel_size=(7,7),\n",
        "\t\t\t\t\t\t\t   stride=(2,2),\n",
        "\t\t\t\t\t\t\t   padding=(3,3))\n",
        "\n",
        "\t\tself.bn = nn.BatchNorm2d(num_features=64)\n",
        "\t\tself.relu = nn.ReLU()\n",
        "\t\tself.pool = nn.MaxPool2d(kernel_size=(3,3),\n",
        "\t\t\t\t\t\t\t\t stride=(2,2),\n",
        "\t\t\t\t\t\t\t\t padding=(1,1))\n",
        "\n",
        "\t\tself.layer1 = residual_block(in_channels=64,\n",
        "\t\t\t\t\t\t\t\t\t out_channels=64,\n",
        "\t\t\t\t\t\t\t\t\t stride=(1,1),\n",
        "\t\t\t\t\t\t\t\t\t use_padd=False)\n",
        "\n",
        "\t\tself.layer2 = residual_block(in_channels=64,\n",
        "\t\t\t\t\t\t\t\t\t out_channels=128,\n",
        "\t\t\t\t\t\t\t\t\t stride=(2,2),\n",
        "\t\t\t\t\t\t\t\t\t use_padd=True)\n",
        "\n",
        "\t\tself.layer3 = residual_block(in_channels=128,\n",
        "\t\t\t\t\t\t\t\t\t out_channels=256,\n",
        "\t\t\t\t\t\t\t\t\t stride=(2,2),\n",
        "\t\t\t\t\t\t\t\t\t use_padd=True)\n",
        "\n",
        "\t\tself.layer4 = residual_block(in_channels=256,\n",
        "\t\t\t\t\t\t\t\t\t out_channels=512,\n",
        "\t\t\t\t\t\t\t\t\t stride=(2,2),\n",
        "\t\t\t\t\t\t\t\t\t use_padd=True)\n",
        "\n",
        "\t\tself.avgpool = nn.AdaptiveAvgPool2d(output_size=(1,1))\n",
        "\t\tself.fc = nn.Linear(in_features=512, out_features=num_classes)\n",
        "\n",
        "\tdef forward(self, X):\n",
        "\n",
        "\t\tx_in = self.relu(self.bn(self.conv(X)))\n",
        "\t\tout = self.pool(x_in)\n",
        "\n",
        "\t\tout = self.layer1(out)\n",
        "\t\tout = self.layer2(out)\n",
        "\t\tout = self.layer3(out)\n",
        "\t\tout = self.layer4(out)\n",
        "\n",
        "\t\tout = self.avgpool(out)\n",
        "\t\tout = out.reshape(out.shape[0], -1)\n",
        "\t\tout = self.fc(out)\n",
        "\n",
        "\t\treturn out"
      ],
      "execution_count": null,
      "outputs": []
    },
    {
      "cell_type": "code",
      "metadata": {
        "colab": {
          "base_uri": "https://localhost:8080/"
        },
        "id": "xWySGf6NWq3u",
        "outputId": "0c6dfb65-0add-4367-c08a-1900e7068121"
      },
      "source": [
        "model = Resnet18(in_channels=1,\n",
        "                 num_classes=10).to(device)\n",
        "print(model)"
      ],
      "execution_count": null,
      "outputs": [
        {
          "output_type": "stream",
          "text": [
            "Resnet18(\n",
            "  (conv): Conv2d(1, 64, kernel_size=(7, 7), stride=(2, 2), padding=(3, 3))\n",
            "  (bn): BatchNorm2d(64, eps=1e-05, momentum=0.1, affine=True, track_running_stats=True)\n",
            "  (relu): ReLU()\n",
            "  (pool): MaxPool2d(kernel_size=(3, 3), stride=(2, 2), padding=(1, 1), dilation=1, ceil_mode=False)\n",
            "  (layer1): residual_block(\n",
            "    (conv1): Conv2d(64, 64, kernel_size=(3, 3), stride=(1, 1), padding=(1, 1))\n",
            "    (conv2): Conv2d(64, 64, kernel_size=(3, 3), stride=(1, 1), padding=(1, 1))\n",
            "    (bn): BatchNorm2d(64, eps=1e-05, momentum=0.1, affine=True, track_running_stats=True)\n",
            "    (relu): ReLU()\n",
            "  )\n",
            "  (layer2): residual_block(\n",
            "    (conv1): Conv2d(64, 128, kernel_size=(3, 3), stride=(2, 2), padding=(1, 1))\n",
            "    (conv2): Conv2d(128, 128, kernel_size=(3, 3), stride=(1, 1), padding=(1, 1))\n",
            "    (padd_conv): Conv2d(64, 128, kernel_size=(1, 1), stride=(2, 2))\n",
            "    (bn): BatchNorm2d(128, eps=1e-05, momentum=0.1, affine=True, track_running_stats=True)\n",
            "    (relu): ReLU()\n",
            "  )\n",
            "  (layer3): residual_block(\n",
            "    (conv1): Conv2d(128, 256, kernel_size=(3, 3), stride=(2, 2), padding=(1, 1))\n",
            "    (conv2): Conv2d(256, 256, kernel_size=(3, 3), stride=(1, 1), padding=(1, 1))\n",
            "    (padd_conv): Conv2d(128, 256, kernel_size=(1, 1), stride=(2, 2))\n",
            "    (bn): BatchNorm2d(256, eps=1e-05, momentum=0.1, affine=True, track_running_stats=True)\n",
            "    (relu): ReLU()\n",
            "  )\n",
            "  (layer4): residual_block(\n",
            "    (conv1): Conv2d(256, 512, kernel_size=(3, 3), stride=(2, 2), padding=(1, 1))\n",
            "    (conv2): Conv2d(512, 512, kernel_size=(3, 3), stride=(1, 1), padding=(1, 1))\n",
            "    (padd_conv): Conv2d(256, 512, kernel_size=(1, 1), stride=(2, 2))\n",
            "    (bn): BatchNorm2d(512, eps=1e-05, momentum=0.1, affine=True, track_running_stats=True)\n",
            "    (relu): ReLU()\n",
            "  )\n",
            "  (avgpool): AdaptiveAvgPool2d(output_size=(1, 1))\n",
            "  (fc): Linear(in_features=512, out_features=10, bias=True)\n",
            ")\n"
          ],
          "name": "stdout"
        }
      ]
    },
    {
      "cell_type": "code",
      "metadata": {
        "id": "OrASY-_bJf0y"
      },
      "source": [
        "criterion = nn.CrossEntropyLoss()\n",
        "optimizer = optim.Adam(model.parameters(), lr=learning_rate)"
      ],
      "execution_count": null,
      "outputs": []
    },
    {
      "cell_type": "code",
      "metadata": {
        "id": "Ucvs2ATOQIsf"
      },
      "source": [
        "torch.cuda.empty_cache()"
      ],
      "execution_count": null,
      "outputs": []
    },
    {
      "cell_type": "code",
      "metadata": {
        "id": "KnSIE_v8YEvL"
      },
      "source": [
        "step_lr_scheduler = torch.optim.lr_scheduler.StepLR(optimizer, step_size=7, gamma=0.1)"
      ],
      "execution_count": null,
      "outputs": []
    },
    {
      "cell_type": "code",
      "metadata": {
        "id": "_-rLfx4GJsUs"
      },
      "source": [
        "def train_loop (model, num_epochs, step_lr_scheduler, loss_train, loss_val, train_acc_hist, val_acc_hist, best_acc):\n",
        "\n",
        "  for epoch in range(num_epochs):\n",
        "\n",
        "      model.train()\n",
        "\n",
        "      running_loss = 0.0\n",
        "      running_corrects = 0\n",
        "\n",
        "      for idx, (images, labels) in enumerate(train_loader):\n",
        "          images = images.to(device)\n",
        "          labels = labels.to(device)\n",
        "          z_scores = model(images)\n",
        "          loss = criterion(z_scores, labels)\n",
        "          optimizer.zero_grad()\n",
        "          loss.backward()\n",
        "          optimizer.step()\n",
        "\n",
        "          running_loss += loss.item() * images.size(0)\n",
        "          _, predictions = torch.max(z_scores, 1)\n",
        "          running_corrects += torch.sum(predictions == labels)\n",
        "\n",
        "      epoch_loss = running_loss / len(train_dataset)\n",
        "      epoch_acc = running_corrects / len(train_dataset)\n",
        "      print(f'Epoch {epoch+1} / {num_epochs}, '\n",
        "            f'Train Loss {epoch_loss:.4f}, '\n",
        "            f'Train Acc {epoch_acc:.4f}')\n",
        "\n",
        "      train_acc_hist.append(epoch_acc)\n",
        "      loss_train.append(epoch_loss)\n",
        "\n",
        "      step_lr_scheduler.step()\n",
        "\n",
        "      model.eval()\n",
        "\n",
        "      running_loss = 0.0\n",
        "      running_corrects = 0\n",
        "\n",
        "      for idx, (images, labels) in enumerate(val_loader):\n",
        "          images = images.to(device)\n",
        "          labels = labels.to(device)\n",
        "\n",
        "          with torch.no_grad():\n",
        "              z_scores = model(images)\n",
        "              loss = criterion(z_scores, labels)\n",
        "\n",
        "              running_loss += loss.item() * images.size(0)\n",
        "              _, predictions = torch.max(z_scores, 1)\n",
        "              running_corrects += torch.sum(predictions == labels)\n",
        "\n",
        "      epoch_loss_val = running_loss / len(val_dataset)\n",
        "      epoch_acc_val = running_corrects / len(val_dataset)\n",
        "      print(f'Epoch {epoch + 1} / {num_epochs}, '\n",
        "            f'Val Loss {epoch_loss_val:.4f}, '\n",
        "            f'Val Acc {epoch_acc_val:.4f}')\n",
        "\n",
        "      val_acc_hist.append(epoch_acc_val)\n",
        "      loss_val.append(epoch_loss_val)\n",
        "\n",
        "      if epoch_acc_val > best_acc:\n",
        "          best_acc = epoch_acc_val"
      ],
      "execution_count": null,
      "outputs": []
    },
    {
      "cell_type": "code",
      "metadata": {
        "id": "2fLpUDaEKJ_j"
      },
      "source": [
        "def calculate_time (time_elapsed):\n",
        "    minutes = time_elapsed // 60\n",
        "    seconds = time_elapsed % 60\n",
        "    if minutes > 60:\n",
        "        hours = minutes // 60\n",
        "        new_minutes = minutes % 60\n",
        "        print(f'Training complete in {hours:.0f}h {new_minutes:.0f}m {seconds:.0f}s')\n",
        "    else:\n",
        "        print(f'Training complete in {minutes:.0f}m {seconds:.0f}s')"
      ],
      "execution_count": null,
      "outputs": []
    },
    {
      "cell_type": "code",
      "metadata": {
        "id": "ckljQ_d2Jf6A"
      },
      "source": [
        "num_epochs = 30\n",
        "val_acc_hist = []\n",
        "train_acc_hist = []\n",
        "loss_train = []\n",
        "loss_val = []\n",
        "best_acc = 0.0"
      ],
      "execution_count": null,
      "outputs": []
    },
    {
      "cell_type": "code",
      "metadata": {
        "colab": {
          "base_uri": "https://localhost:8080/"
        },
        "id": "CFUHXWnN40cD",
        "outputId": "aa44d8b7-1a1b-4137-a4e9-5812e4e58f46"
      },
      "source": [
        "start = time.time()\n",
        "train_loop(model, num_epochs, step_lr_scheduler, loss_train, loss_val, train_acc_hist, val_acc_hist, best_acc)\n",
        "time_elapsed = time.time() - start"
      ],
      "execution_count": null,
      "outputs": [
        {
          "output_type": "stream",
          "text": [
            "/usr/local/lib/python3.7/dist-packages/torch/nn/functional.py:718: UserWarning: Named tensors and all their associated APIs are an experimental feature and subject to change. Please do not use them for anything important until they are released as stable. (Triggered internally at  /pytorch/c10/core/TensorImpl.h:1156.)\n",
            "  return torch.max_pool2d(input, kernel_size, stride, padding, dilation, ceil_mode)\n"
          ],
          "name": "stderr"
        },
        {
          "output_type": "stream",
          "text": [
            "Epoch 1 / 30, Train Loss 0.4643, Train Acc 0.8330\n",
            "Epoch 1 / 30, Val Loss 1.5859, Val Acc 0.4474\n",
            "Epoch 2 / 30, Train Loss 0.3311, Train Acc 0.8802\n",
            "Epoch 2 / 30, Val Loss 1.4557, Val Acc 0.4716\n",
            "Epoch 3 / 30, Train Loss 0.2881, Train Acc 0.8945\n",
            "Epoch 3 / 30, Val Loss 0.9552, Val Acc 0.7020\n",
            "Epoch 4 / 30, Train Loss 0.2642, Train Acc 0.9043\n",
            "Epoch 4 / 30, Val Loss 1.0196, Val Acc 0.6278\n",
            "Epoch 5 / 30, Train Loss 0.2430, Train Acc 0.9108\n",
            "Epoch 5 / 30, Val Loss 1.1865, Val Acc 0.6052\n",
            "Epoch 6 / 30, Train Loss 0.2242, Train Acc 0.9176\n",
            "Epoch 6 / 30, Val Loss 1.0807, Val Acc 0.6386\n",
            "Epoch 7 / 30, Train Loss 0.2088, Train Acc 0.9232\n",
            "Epoch 7 / 30, Val Loss 1.0060, Val Acc 0.6634\n",
            "Epoch 8 / 30, Train Loss 0.1451, Train Acc 0.9465\n",
            "Epoch 8 / 30, Val Loss 0.9810, Val Acc 0.6860\n",
            "Epoch 9 / 30, Train Loss 0.1235, Train Acc 0.9545\n",
            "Epoch 9 / 30, Val Loss 1.1202, Val Acc 0.6627\n",
            "Epoch 10 / 30, Train Loss 0.1104, Train Acc 0.9584\n",
            "Epoch 10 / 30, Val Loss 1.1557, Val Acc 0.6537\n",
            "Epoch 11 / 30, Train Loss 0.0975, Train Acc 0.9635\n",
            "Epoch 11 / 30, Val Loss 1.2157, Val Acc 0.6486\n",
            "Epoch 12 / 30, Train Loss 0.0855, Train Acc 0.9677\n",
            "Epoch 12 / 30, Val Loss 1.4269, Val Acc 0.5999\n",
            "Epoch 13 / 30, Train Loss 0.0738, Train Acc 0.9736\n",
            "Epoch 13 / 30, Val Loss 1.4442, Val Acc 0.6186\n",
            "Epoch 14 / 30, Train Loss 0.0630, Train Acc 0.9759\n",
            "Epoch 14 / 30, Val Loss 1.4338, Val Acc 0.6232\n",
            "Epoch 15 / 30, Train Loss 0.0452, Train Acc 0.9850\n",
            "Epoch 15 / 30, Val Loss 1.5946, Val Acc 0.5986\n",
            "Epoch 16 / 30, Train Loss 0.0407, Train Acc 0.9865\n",
            "Epoch 16 / 30, Val Loss 1.5552, Val Acc 0.6008\n",
            "Epoch 17 / 30, Train Loss 0.0381, Train Acc 0.9875\n",
            "Epoch 17 / 30, Val Loss 1.6805, Val Acc 0.5971\n",
            "Epoch 18 / 30, Train Loss 0.0358, Train Acc 0.9883\n",
            "Epoch 18 / 30, Val Loss 1.8423, Val Acc 0.5683\n",
            "Epoch 19 / 30, Train Loss 0.0341, Train Acc 0.9892\n",
            "Epoch 19 / 30, Val Loss 1.8010, Val Acc 0.5812\n",
            "Epoch 20 / 30, Train Loss 0.0326, Train Acc 0.9894\n",
            "Epoch 20 / 30, Val Loss 1.6826, Val Acc 0.5968\n",
            "Epoch 21 / 30, Train Loss 0.0301, Train Acc 0.9907\n",
            "Epoch 21 / 30, Val Loss 1.6964, Val Acc 0.5903\n",
            "Epoch 22 / 30, Train Loss 0.0287, Train Acc 0.9910\n",
            "Epoch 22 / 30, Val Loss 1.6756, Val Acc 0.5980\n",
            "Epoch 23 / 30, Train Loss 0.0274, Train Acc 0.9917\n",
            "Epoch 23 / 30, Val Loss 1.7242, Val Acc 0.5899\n",
            "Epoch 24 / 30, Train Loss 0.0275, Train Acc 0.9916\n",
            "Epoch 24 / 30, Val Loss 1.7763, Val Acc 0.5844\n",
            "Epoch 25 / 30, Train Loss 0.0271, Train Acc 0.9922\n",
            "Epoch 25 / 30, Val Loss 1.7917, Val Acc 0.5820\n",
            "Epoch 26 / 30, Train Loss 0.0274, Train Acc 0.9919\n",
            "Epoch 26 / 30, Val Loss 1.7969, Val Acc 0.5776\n",
            "Epoch 27 / 30, Train Loss 0.0269, Train Acc 0.9920\n",
            "Epoch 27 / 30, Val Loss 1.8385, Val Acc 0.5811\n",
            "Epoch 28 / 30, Train Loss 0.0263, Train Acc 0.9922\n",
            "Epoch 28 / 30, Val Loss 1.7775, Val Acc 0.5861\n",
            "Epoch 29 / 30, Train Loss 0.0257, Train Acc 0.9923\n",
            "Epoch 29 / 30, Val Loss 1.8878, Val Acc 0.5701\n",
            "Epoch 30 / 30, Train Loss 0.0266, Train Acc 0.9919\n",
            "Epoch 30 / 30, Val Loss 1.8648, Val Acc 0.5727\n"
          ],
          "name": "stdout"
        }
      ]
    },
    {
      "cell_type": "code",
      "metadata": {
        "id": "UUZ6esURJz1S",
        "colab": {
          "base_uri": "https://localhost:8080/"
        },
        "outputId": "ee149143-c759-4c18-fe50-1e918fc11601"
      },
      "source": [
        "calculate_time(time_elapsed)"
      ],
      "execution_count": null,
      "outputs": [
        {
          "output_type": "stream",
          "text": [
            "Training complete in 13m 44s\n"
          ],
          "name": "stdout"
        }
      ]
    },
    {
      "cell_type": "code",
      "metadata": {
        "id": "aqictDB5J2Bz",
        "colab": {
          "base_uri": "https://localhost:8080/"
        },
        "outputId": "d00b93ea-24bf-4389-8643-a465dcd5ad17"
      },
      "source": [
        "print(f'Best validation Accuracy: {best_acc:.4f}')"
      ],
      "execution_count": null,
      "outputs": [
        {
          "output_type": "stream",
          "text": [
            "Best validation Accuracy: 0.0000\n"
          ],
          "name": "stdout"
        }
      ]
    },
    {
      "cell_type": "code",
      "metadata": {
        "id": "P1S23G-6J2D6",
        "colab": {
          "base_uri": "https://localhost:8080/",
          "height": 621
        },
        "outputId": "a0833a9f-061c-49f1-9062-c24994d2df75"
      },
      "source": [
        "val_acc_hist_numpy = [acc.cpu().numpy() for acc in val_acc_hist]\n",
        "train_acc_hist_numpy = [acc.cpu().numpy() for acc in train_acc_hist]\n",
        "plt.figure(figsize=(20,10))\n",
        "plt.grid()\n",
        "plt.plot(range(1, num_epochs+1), val_acc_hist_numpy, label='Val Acc')\n",
        "plt.plot(range(1, num_epochs+1), train_acc_hist_numpy, label='Train Acc')\n",
        "plt.xlabel('Epochs')\n",
        "plt.ylabel('Acc')\n",
        "plt.title(\"Acc Plots\")\n",
        "plt.legend(loc='upper right')\n",
        "plt.show()"
      ],
      "execution_count": null,
      "outputs": [
        {
          "output_type": "display_data",
          "data": {
            "image/png": "[encoded data removed]",
            "text/plain": [
              "<Figure size 1440x720 with 1 Axes>"
            ]
          },
          "metadata": {
            "tags": [],
            "needs_background": "light"
          }
        }
      ]
    },
    {
      "cell_type": "code",
      "metadata": {
        "id": "1Lmaj7CxJ7_8",
        "colab": {
          "base_uri": "https://localhost:8080/",
          "height": 621
        },
        "outputId": "867b9807-cf28-47a2-bfa9-a1e2e4195a44"
      },
      "source": [
        "plt.figure(figsize=(20,10))\n",
        "plt.grid()\n",
        "plt.plot(range(1, num_epochs+1), loss_train, label='Train Loss')\n",
        "plt.plot(range(1, num_epochs+1), loss_val, label='Val Loss')\n",
        "plt.xlabel('Epochs')\n",
        "plt.ylabel('Loss')\n",
        "plt.title(\"Loss Plots\")\n",
        "plt.legend(loc='upper right')\n",
        "plt.show()"
      ],
      "execution_count": null,
      "outputs": [
        {
          "output_type": "display_data",
          "data": {
            "image/png": "[encoded data removed]",
            "text/plain": [
              "<Figure size 1440x720 with 1 Axes>"
            ]
          },
          "metadata": {
            "tags": [],
            "needs_background": "light"
          }
        }
      ]
    },
    {
      "cell_type": "code",
      "metadata": {
        "id": "KN0y6laJ5Ih3",
        "colab": {
          "base_uri": "https://localhost:8080/"
        },
        "outputId": "fb2f4fe0-324c-453b-b8d3-438c8839d717"
      },
      "source": [
        "model.eval()\n",
        "\n",
        "running_corrects = 0\n",
        "\n",
        "with torch.no_grad():\n",
        "    for idx, (images, labels) in enumerate(test_loader):\n",
        "        images = images.to(device)\n",
        "        labels = labels.to(device)\n",
        "\n",
        "        z_scores = model(images)\n",
        "\n",
        "        _, predictions = torch.max(z_scores,1)\n",
        "        running_corrects += torch.sum(predictions == labels)\n",
        "\n",
        "    acc = running_corrects / len(test_dataset)\n",
        "    print(f'Test Accuracy: {acc:.4f}')"
      ],
      "execution_count": null,
      "outputs": [
        {
          "output_type": "stream",
          "text": [
            "Test Accuracy: 0.5560\n"
          ],
          "name": "stdout"
        }
      ]
    },
    {
      "cell_type": "code",
      "metadata": {
        "colab": {
          "base_uri": "https://localhost:8080/"
        },
        "id": "WZ0bF2zqeI78",
        "outputId": "69006b96-4813-4ac1-93b6-ac946fd8cf39"
      },
      "source": [
        "image, label = test_dataset[20]\n",
        "print(image.shape)\n",
        "print(label)"
      ],
      "execution_count": null,
      "outputs": [
        {
          "output_type": "stream",
          "text": [
            "torch.Size([1, 28, 28])\n",
            "8\n"
          ],
          "name": "stdout"
        }
      ]
    },
    {
      "cell_type": "code",
      "metadata": {
        "colab": {
          "base_uri": "https://localhost:8080/"
        },
        "id": "3AV300P9fVsG",
        "outputId": "e1d7a482-b019-4191-d39d-f2efe0b0eacc"
      },
      "source": [
        "import matplotlib.pyplot as plt\n",
        "display = image.squeeze()\n",
        "display.shape"
      ],
      "execution_count": null,
      "outputs": [
        {
          "output_type": "execute_result",
          "data": {
            "text/plain": [
              "torch.Size([28, 28])"
            ]
          },
          "metadata": {
            "tags": []
          },
          "execution_count": 35
        }
      ]
    },
    {
      "cell_type": "code",
      "metadata": {
        "colab": {
          "base_uri": "https://localhost:8080/",
          "height": 282
        },
        "id": "7ZE8-rVQfwWF",
        "outputId": "29e79816-0502-47ab-f829-31fe6746c124"
      },
      "source": [
        "plt.imshow(display)"
      ],
      "execution_count": null,
      "outputs": [
        {
          "output_type": "execute_result",
          "data": {
            "text/plain": [
              "<matplotlib.image.AxesImage at 0x7f16655ef250>"
            ]
          },
          "metadata": {
            "tags": []
          },
          "execution_count": 36
        },
        {
          "output_type": "display_data",
          "data": {
            "image/png": "[encoded data removed]",
            "text/plain": [
              "<Figure size 432x288 with 1 Axes>"
            ]
          },
          "metadata": {
            "tags": [],
            "needs_background": "light"
          }
        }
      ]
    },
    {
      "cell_type": "code",
      "metadata": {
        "colab": {
          "base_uri": "https://localhost:8080/"
        },
        "id": "3LHh124xfz1k",
        "outputId": "e58e71d1-74fe-4143-91ff-1a1f04a08d29"
      },
      "source": [
        "image = image.to(device)\n",
        "image = image.unsqueeze(1)\n",
        "z_score = model(image)\n",
        "_, prediction = torch.max(z_score, 1)\n",
        "print(prediction.item())"
      ],
      "execution_count": null,
      "outputs": [
        {
          "output_type": "stream",
          "text": [
            "8\n"
          ],
          "name": "stdout"
        }
      ]
    }
  ]
}
