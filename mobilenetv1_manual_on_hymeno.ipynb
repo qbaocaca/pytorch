{
  "nbformat": 4,
  "nbformat_minor": 0,
  "metadata": {
    "colab": {
      "name": "mobilenetv1_manual_on_hymeno.ipynb",
      "provenance": []
    },
    "kernelspec": {
      "name": "python3",
      "display_name": "Python 3"
    },
    "language_info": {
      "name": "python"
    },
    "accelerator": "GPU"
  },
  "cells": [
    {
      "cell_type": "code",
      "metadata": {
        "id": "AxIv2e43JRFd"
      },
      "source": [
        "import torch\n",
        "import torch.nn as nn\n",
        "import torch.optim as optim\n",
        "import torchvision.datasets as datasets\n",
        "import torchvision.transforms as transforms\n",
        "import torchvision\n",
        "from torch.utils.data import DataLoader\n",
        "import numpy as np\n",
        "import random\n",
        "import matplotlib.pyplot as plt\n",
        "import time"
      ],
      "execution_count": null,
      "outputs": []
    },
    {
      "cell_type": "code",
      "metadata": {
        "colab": {
          "base_uri": "https://localhost:8080/"
        },
        "id": "Ka557tdq0d6Y",
        "outputId": "04593f26-6864-4ba1-d95d-3729276a064d"
      },
      "source": [
        "from google.colab import drive\n",
        "drive.mount('/content/drive')"
      ],
      "execution_count": null,
      "outputs": [
        {
          "output_type": "stream",
          "text": [
            "Drive already mounted at /content/drive; to attempt to forcibly remount, call drive.mount(\"/content/drive\", force_remount=True).\n"
          ],
          "name": "stdout"
        }
      ]
    },
    {
      "cell_type": "code",
      "metadata": {
        "colab": {
          "base_uri": "https://localhost:8080/"
        },
        "id": "aQeAWdJdJUd7",
        "outputId": "41ac674b-b57a-4018-ee89-ed0a8bc2f8b2"
      },
      "source": [
        "device = torch.device('cuda' if torch.cuda.is_available else 'cpu')\n",
        "print(device)"
      ],
      "execution_count": null,
      "outputs": [
        {
          "output_type": "stream",
          "text": [
            "cuda\n"
          ],
          "name": "stdout"
        }
      ]
    },
    {
      "cell_type": "code",
      "metadata": {
        "id": "007LWLB1JX6C"
      },
      "source": [
        "seed=1\n",
        "random.seed(seed)\n",
        "np.random.seed(seed)\n",
        "torch.manual_seed(seed)\n",
        "torch.backends.cudnn.deterministic = True\n",
        "torch.backends.cudnn.benchmark = False"
      ],
      "execution_count": null,
      "outputs": []
    },
    {
      "cell_type": "code",
      "metadata": {
        "id": "qIUhttPsJX9D"
      },
      "source": [
        "batch_size = 64\n",
        "learning_rate = 0.001"
      ],
      "execution_count": null,
      "outputs": []
    },
    {
      "cell_type": "code",
      "metadata": {
        "id": "Uvd3GrXHUtVY"
      },
      "source": [
        "mean = np.array([0.485, 0.456, 0.406])\n",
        "std = np.array([0.229, 0.224, 0.225])"
      ],
      "execution_count": null,
      "outputs": []
    },
    {
      "cell_type": "code",
      "metadata": {
        "id": "etopjDpVUYhe"
      },
      "source": [
        "train_trans = transforms.Compose(\n",
        "    [\n",
        "     transforms.RandomResizedCrop((224,224)),\n",
        "     transforms.RandomHorizontalFlip(),\n",
        "     transforms.ToTensor(),\n",
        "     transforms.Normalize(mean, std)\n",
        "    ]\n",
        ")\n",
        "\n",
        "val_trans = transforms.Compose(\n",
        "    [\n",
        "     transforms.Resize((224,224)),\n",
        "     transforms.CenterCrop((224, 224)),\n",
        "     transforms.RandomVerticalFlip(),\n",
        "     transforms.ToTensor(),\n",
        "     transforms.Normalize(mean, std)\n",
        "    ]\n",
        ")"
      ],
      "execution_count": null,
      "outputs": []
    },
    {
      "cell_type": "code",
      "metadata": {
        "id": "bdpy0JKFJX_T"
      },
      "source": [
        "train_dataset = datasets.ImageFolder(root='/content/drive/MyDrive/dataset/hymenoptera_data/train',\n",
        "                                 transform=train_trans,\n",
        "                                 )\n",
        "\n",
        "val_dataset = datasets.ImageFolder(root='/content/drive/MyDrive/dataset/hymenoptera_data/val',\n",
        "                                 transform=val_trans,\n",
        "                                 )\n",
        "\n",
        "test_dataset = datasets.ImageFolder(root='/content/drive/MyDrive/dataset/hymenoptera_data/test',\n",
        "                                 transform=val_trans,\n",
        "                                 )\n",
        "\n",
        "train_loader = DataLoader(dataset=train_dataset,\n",
        "                          batch_size=batch_size,\n",
        "                          shuffle=True)\n",
        "\n",
        "val_loader = DataLoader(dataset=val_dataset,\n",
        "                        batch_size=batch_size,\n",
        "                        shuffle=False)\n",
        "\n",
        "test_loader = DataLoader(dataset=test_dataset,\n",
        "                        batch_size=batch_size,\n",
        "                        shuffle=False)"
      ],
      "execution_count": null,
      "outputs": []
    },
    {
      "cell_type": "code",
      "metadata": {
        "id": "qzPKnF2ZWBgX"
      },
      "source": [
        "class depthwise_block (nn.Module):\n",
        "    def __init__ (self, in_channels, out_channels, stride, groups=1):\n",
        "        super(depthwise_block, self).__init__()\n",
        "\n",
        "        # dw\n",
        "\n",
        "        self.conv1 = nn.Conv2d(in_channels=in_channels,\n",
        "                               out_channels=in_channels,\n",
        "                               kernel_size=(3,3),\n",
        "                               stride=stride,\n",
        "                               padding=(1,1),\n",
        "                               groups=groups\n",
        "                               )\n",
        "\n",
        "        self.bn1 = nn.BatchNorm2d(num_features=in_channels)\n",
        "        self.relu = nn.ReLU()\n",
        "\n",
        "        # pw\n",
        "\n",
        "        self.conv2 = nn.Conv2d(in_channels=in_channels,\n",
        "                               out_channels=out_channels,\n",
        "                               kernel_size=(1,1),\n",
        "                               stride=(1,1),\n",
        "                               padding=(0,0),\n",
        "                               )\n",
        "        self.bn2 = nn.BatchNorm2d(num_features=out_channels)\n",
        "\n",
        "    def forward(self, X):\n",
        "\n",
        "        out = self.relu(self.bn1(self.conv1(X)))\n",
        "        out = self.relu(self.bn2(self.conv2(out)))\n",
        "\n",
        "        return out\n",
        "\n",
        "class MobilenetV1 (nn.Module):\n",
        "    def __init__ (self, in_channels, num_classes):\n",
        "        super(MobilenetV1, self).__init__()\n",
        "\n",
        "        self.conv = nn.Conv2d(in_channels=in_channels,\n",
        "                               out_channels=32,\n",
        "                               kernel_size=(3,3),\n",
        "                               stride=(2,2),\n",
        "                               padding=(1,1),\n",
        "                               )\n",
        "        self.bn = nn.BatchNorm2d(num_features=32)\n",
        "        self.relu = nn.ReLU()\n",
        "\n",
        "        self.dconv1 = depthwise_block(in_channels=32,\n",
        "                                      out_channels=64,\n",
        "                                      stride=(1,1),\n",
        "                                      groups=32)\n",
        "\n",
        "        self.dconv2 = depthwise_block(in_channels=64,\n",
        "                                      out_channels=128,\n",
        "                                      stride=(2,2),\n",
        "                                      groups=64)\n",
        "\n",
        "        self.dconv3 = depthwise_block(in_channels=128,\n",
        "                                      out_channels=128,\n",
        "                                      stride=(1,1),\n",
        "                                      groups=128)\n",
        "\n",
        "        self.dconv4 = depthwise_block(in_channels=128,\n",
        "                                      out_channels=256,\n",
        "                                      stride=(2,2),\n",
        "                                      groups=128)\n",
        "\n",
        "        self.dconv5 = depthwise_block(in_channels=256,\n",
        "                                      out_channels=256,\n",
        "                                      stride=(1,1),\n",
        "                                      groups=256)\n",
        "\n",
        "        self.dconv6 = depthwise_block(in_channels=256,\n",
        "                                      out_channels=512,\n",
        "                                      stride=(2,2),\n",
        "                                      groups=256)\n",
        "\n",
        "        self.dconv7 = depthwise_block(in_channels=512, # 5 times\n",
        "                                      out_channels=512,\n",
        "                                      stride=(1,1),\n",
        "                                      groups=512)\n",
        "\n",
        "        self.dconv8 = depthwise_block(in_channels=512,\n",
        "                                      out_channels=1024,\n",
        "                                      stride=(2,2),\n",
        "                                      groups=512)\n",
        "\n",
        "        self.dconv9 = depthwise_block(in_channels=1024,\n",
        "                                      out_channels=1024,\n",
        "                                      stride=(1,1),\n",
        "                                      groups=1024)\n",
        "\n",
        "        self.avgpool = nn.AvgPool2d(kernel_size=(7,7),\n",
        "                                    stride=(1,1),\n",
        "                                    padding=(0,0))\n",
        "\n",
        "        self.fc = nn.Linear(in_features=1024, out_features=num_classes)\n",
        "\n",
        "    def forward(self, X):\n",
        "\n",
        "        # shape of X is torch.Size([1, 3, 224, 224])\n",
        "        out = self.relu(self.bn(self.conv(X)))\n",
        "        # torch.Size([1, 32, 112, 112]), stride=2\n",
        "        out = self.dconv1(out)\n",
        "        # torch.Size([1, 32, 112, 112]), stride=1\n",
        "        # torch.Size([1, 64, 112, 112]), stride=1\n",
        "        out = self.dconv2(out)\n",
        "        # torch.Size([1, 64, 56, 56])\n",
        "        # torch.Size([1, 128, 56, 56]) 1st\n",
        "        out = self.dconv3(out)\n",
        "        # torch.Size([1, 128, 56, 56]) 2nd\n",
        "        # torch.Size([1, 128, 56, 56]) 3rd\n",
        "        out = self.dconv4(out)\n",
        "        # torch.Size([1, 128, 28, 28])\n",
        "        # torch.Size([1, 256, 28, 28])\n",
        "        out = self.dconv5(out)\n",
        "        out = self.dconv6(out)\n",
        "\n",
        "        out = self.dconv7(out)\n",
        "        out = self.dconv7(out)\n",
        "        out = self.dconv7(out)\n",
        "        out = self.dconv7(out)\n",
        "        out = self.dconv7(out)\n",
        "\n",
        "        out = self.dconv8(out)\n",
        "        out = self.dconv9(out)\n",
        "\n",
        "        out = self.avgpool(out)\n",
        "        out = out.view(out.size(0), 1024*1*1)\n",
        "        out = self.fc(out)\n",
        "\n",
        "        return out"
      ],
      "execution_count": null,
      "outputs": []
    },
    {
      "cell_type": "code",
      "metadata": {
        "colab": {
          "base_uri": "https://localhost:8080/"
        },
        "id": "xWySGf6NWq3u",
        "outputId": "c36a5d32-7706-4534-ad5f-fafd73dd5d6e"
      },
      "source": [
        "model = MobilenetV1(in_channels=3,\n",
        "                 num_classes=2).to(device)\n",
        "print(model)"
      ],
      "execution_count": null,
      "outputs": [
        {
          "output_type": "stream",
          "text": [
            "MobilenetV1(\n",
            "  (conv): Conv2d(3, 32, kernel_size=(3, 3), stride=(2, 2), padding=(1, 1))\n",
            "  (bn): BatchNorm2d(32, eps=1e-05, momentum=0.1, affine=True, track_running_stats=True)\n",
            "  (relu): ReLU()\n",
            "  (dconv1): depthwise_block(\n",
            "    (conv1): Conv2d(32, 32, kernel_size=(3, 3), stride=(1, 1), padding=(1, 1), groups=32)\n",
            "    (bn1): BatchNorm2d(32, eps=1e-05, momentum=0.1, affine=True, track_running_stats=True)\n",
            "    (relu): ReLU()\n",
            "    (conv2): Conv2d(32, 64, kernel_size=(1, 1), stride=(1, 1))\n",
            "    (bn2): BatchNorm2d(64, eps=1e-05, momentum=0.1, affine=True, track_running_stats=True)\n",
            "  )\n",
            "  (dconv2): depthwise_block(\n",
            "    (conv1): Conv2d(64, 64, kernel_size=(3, 3), stride=(2, 2), padding=(1, 1), groups=64)\n",
            "    (bn1): BatchNorm2d(64, eps=1e-05, momentum=0.1, affine=True, track_running_stats=True)\n",
            "    (relu): ReLU()\n",
            "    (conv2): Conv2d(64, 128, kernel_size=(1, 1), stride=(1, 1))\n",
            "    (bn2): BatchNorm2d(128, eps=1e-05, momentum=0.1, affine=True, track_running_stats=True)\n",
            "  )\n",
            "  (dconv3): depthwise_block(\n",
            "    (conv1): Conv2d(128, 128, kernel_size=(3, 3), stride=(1, 1), padding=(1, 1), groups=128)\n",
            "    (bn1): BatchNorm2d(128, eps=1e-05, momentum=0.1, affine=True, track_running_stats=True)\n",
            "    (relu): ReLU()\n",
            "    (conv2): Conv2d(128, 128, kernel_size=(1, 1), stride=(1, 1))\n",
            "    (bn2): BatchNorm2d(128, eps=1e-05, momentum=0.1, affine=True, track_running_stats=True)\n",
            "  )\n",
            "  (dconv4): depthwise_block(\n",
            "    (conv1): Conv2d(128, 128, kernel_size=(3, 3), stride=(2, 2), padding=(1, 1), groups=128)\n",
            "    (bn1): BatchNorm2d(128, eps=1e-05, momentum=0.1, affine=True, track_running_stats=True)\n",
            "    (relu): ReLU()\n",
            "    (conv2): Conv2d(128, 256, kernel_size=(1, 1), stride=(1, 1))\n",
            "    (bn2): BatchNorm2d(256, eps=1e-05, momentum=0.1, affine=True, track_running_stats=True)\n",
            "  )\n",
            "  (dconv5): depthwise_block(\n",
            "    (conv1): Conv2d(256, 256, kernel_size=(3, 3), stride=(1, 1), padding=(1, 1), groups=256)\n",
            "    (bn1): BatchNorm2d(256, eps=1e-05, momentum=0.1, affine=True, track_running_stats=True)\n",
            "    (relu): ReLU()\n",
            "    (conv2): Conv2d(256, 256, kernel_size=(1, 1), stride=(1, 1))\n",
            "    (bn2): BatchNorm2d(256, eps=1e-05, momentum=0.1, affine=True, track_running_stats=True)\n",
            "  )\n",
            "  (dconv6): depthwise_block(\n",
            "    (conv1): Conv2d(256, 256, kernel_size=(3, 3), stride=(2, 2), padding=(1, 1), groups=256)\n",
            "    (bn1): BatchNorm2d(256, eps=1e-05, momentum=0.1, affine=True, track_running_stats=True)\n",
            "    (relu): ReLU()\n",
            "    (conv2): Conv2d(256, 512, kernel_size=(1, 1), stride=(1, 1))\n",
            "    (bn2): BatchNorm2d(512, eps=1e-05, momentum=0.1, affine=True, track_running_stats=True)\n",
            "  )\n",
            "  (dconv7): depthwise_block(\n",
            "    (conv1): Conv2d(512, 512, kernel_size=(3, 3), stride=(1, 1), padding=(1, 1), groups=512)\n",
            "    (bn1): BatchNorm2d(512, eps=1e-05, momentum=0.1, affine=True, track_running_stats=True)\n",
            "    (relu): ReLU()\n",
            "    (conv2): Conv2d(512, 512, kernel_size=(1, 1), stride=(1, 1))\n",
            "    (bn2): BatchNorm2d(512, eps=1e-05, momentum=0.1, affine=True, track_running_stats=True)\n",
            "  )\n",
            "  (dconv8): depthwise_block(\n",
            "    (conv1): Conv2d(512, 512, kernel_size=(3, 3), stride=(2, 2), padding=(1, 1), groups=512)\n",
            "    (bn1): BatchNorm2d(512, eps=1e-05, momentum=0.1, affine=True, track_running_stats=True)\n",
            "    (relu): ReLU()\n",
            "    (conv2): Conv2d(512, 1024, kernel_size=(1, 1), stride=(1, 1))\n",
            "    (bn2): BatchNorm2d(1024, eps=1e-05, momentum=0.1, affine=True, track_running_stats=True)\n",
            "  )\n",
            "  (dconv9): depthwise_block(\n",
            "    (conv1): Conv2d(1024, 1024, kernel_size=(3, 3), stride=(1, 1), padding=(1, 1), groups=1024)\n",
            "    (bn1): BatchNorm2d(1024, eps=1e-05, momentum=0.1, affine=True, track_running_stats=True)\n",
            "    (relu): ReLU()\n",
            "    (conv2): Conv2d(1024, 1024, kernel_size=(1, 1), stride=(1, 1))\n",
            "    (bn2): BatchNorm2d(1024, eps=1e-05, momentum=0.1, affine=True, track_running_stats=True)\n",
            "  )\n",
            "  (avgpool): AvgPool2d(kernel_size=(7, 7), stride=(1, 1), padding=(0, 0))\n",
            "  (fc): Linear(in_features=1024, out_features=2, bias=True)\n",
            ")\n"
          ],
          "name": "stdout"
        }
      ]
    },
    {
      "cell_type": "code",
      "metadata": {
        "id": "OrASY-_bJf0y"
      },
      "source": [
        "criterion = nn.CrossEntropyLoss()\n",
        "optimizer = optim.Adam(model.parameters(), lr=learning_rate)"
      ],
      "execution_count": null,
      "outputs": []
    },
    {
      "cell_type": "code",
      "metadata": {
        "id": "Ucvs2ATOQIsf"
      },
      "source": [
        "torch.cuda.empty_cache()"
      ],
      "execution_count": null,
      "outputs": []
    },
    {
      "cell_type": "code",
      "metadata": {
        "id": "KnSIE_v8YEvL"
      },
      "source": [
        "step_lr_scheduler = torch.optim.lr_scheduler.StepLR(optimizer, step_size=7, gamma=0.1)"
      ],
      "execution_count": null,
      "outputs": []
    },
    {
      "cell_type": "code",
      "metadata": {
        "id": "_-rLfx4GJsUs"
      },
      "source": [
        "def train_loop (model, num_epochs, step_lr_scheduler, loss_train, loss_val, train_acc_hist, val_acc_hist, best_acc):\n",
        "\n",
        "  for epoch in range(num_epochs):\n",
        "\n",
        "      model.train()\n",
        "\n",
        "      running_loss = 0.0\n",
        "      running_corrects = 0\n",
        "\n",
        "      for idx, (images, labels) in enumerate(train_loader):\n",
        "          images = images.to(device)\n",
        "          labels = labels.to(device)\n",
        "          z_scores = model(images)\n",
        "          loss = criterion(z_scores, labels)\n",
        "          optimizer.zero_grad()\n",
        "          loss.backward()\n",
        "          optimizer.step()\n",
        "\n",
        "          running_loss += loss.item() * images.size(0)\n",
        "          _, predictions = torch.max(z_scores, 1)\n",
        "          running_corrects += torch.sum(predictions == labels)\n",
        "\n",
        "      epoch_loss = running_loss / len(train_dataset)\n",
        "      epoch_acc = running_corrects / len(train_dataset)\n",
        "      print(f'Epoch {epoch+1} / {num_epochs}, '\n",
        "            f'Train Loss {epoch_loss:.4f}, '\n",
        "            f'Train Acc {epoch_acc:.4f}')\n",
        "\n",
        "      train_acc_hist.append(epoch_acc)\n",
        "      loss_train.append(epoch_loss)\n",
        "\n",
        "      step_lr_scheduler.step()\n",
        "\n",
        "      model.eval()\n",
        "\n",
        "      running_loss = 0.0\n",
        "      running_corrects = 0\n",
        "\n",
        "      for idx, (images, labels) in enumerate(val_loader):\n",
        "          images = images.to(device)\n",
        "          labels = labels.to(device)\n",
        "\n",
        "          with torch.no_grad():\n",
        "              z_scores = model(images)\n",
        "              loss = criterion(z_scores, labels)\n",
        "\n",
        "              running_loss += loss.item() * images.size(0)\n",
        "              _, predictions = torch.max(z_scores, 1)\n",
        "              running_corrects += torch.sum(predictions == labels)\n",
        "\n",
        "      epoch_loss_val = running_loss / len(val_dataset)\n",
        "      epoch_acc_val = running_corrects / len(val_dataset)\n",
        "      print(f'Epoch {epoch + 1} / {num_epochs}, '\n",
        "            f'Val Loss {epoch_loss_val:.4f}, '\n",
        "            f'Val Acc {epoch_acc_val:.4f}')\n",
        "\n",
        "      val_acc_hist.append(epoch_acc_val)\n",
        "      loss_val.append(epoch_loss_val)\n",
        "\n",
        "      if epoch_acc_val > best_acc:\n",
        "          best_acc = epoch_acc_val"
      ],
      "execution_count": null,
      "outputs": []
    },
    {
      "cell_type": "code",
      "metadata": {
        "id": "2fLpUDaEKJ_j"
      },
      "source": [
        "def calculate_time (time_elapsed):\n",
        "    minutes = time_elapsed // 60\n",
        "    seconds = time_elapsed % 60\n",
        "    if minutes > 60:\n",
        "        hours = minutes // 60\n",
        "        new_minutes = minutes % 60\n",
        "        print(f'Training complete in {hours:.0f}h {new_minutes:.0f}m {seconds:.0f}s')\n",
        "    else:\n",
        "        print(f'Training complete in {minutes:.0f}m {seconds:.0f}s')"
      ],
      "execution_count": null,
      "outputs": []
    },
    {
      "cell_type": "code",
      "metadata": {
        "id": "ckljQ_d2Jf6A"
      },
      "source": [
        "num_epochs = 5\n",
        "val_acc_hist = []\n",
        "train_acc_hist = []\n",
        "loss_train = []\n",
        "loss_val = []\n",
        "best_acc = 0.0"
      ],
      "execution_count": null,
      "outputs": []
    },
    {
      "cell_type": "code",
      "metadata": {
        "colab": {
          "base_uri": "https://localhost:8080/"
        },
        "id": "CFUHXWnN40cD",
        "outputId": "fac3581e-b395-4a91-8b64-4dcf44148940"
      },
      "source": [
        "start = time.time()\n",
        "train_loop(model, num_epochs, step_lr_scheduler, loss_train, loss_val, train_acc_hist, val_acc_hist, best_acc)\n",
        "time_elapsed = time.time() - start"
      ],
      "execution_count": null,
      "outputs": [
        {
          "output_type": "stream",
          "text": [
            "Epoch 1 / 5, Train Loss 0.7295, Train Acc 0.5123\n",
            "Epoch 1 / 5, Val Loss 0.6869, Val Acc 0.5699\n",
            "Epoch 2 / 5, Train Loss 0.7102, Train Acc 0.5246\n",
            "Epoch 2 / 5, Val Loss 0.6901, Val Acc 0.5699\n",
            "Epoch 3 / 5, Train Loss 0.6690, Train Acc 0.6107\n",
            "Epoch 3 / 5, Val Loss 0.6834, Val Acc 0.5699\n",
            "Epoch 4 / 5, Train Loss 0.6299, Train Acc 0.6475\n",
            "Epoch 4 / 5, Val Loss 0.6985, Val Acc 0.5699\n",
            "Epoch 5 / 5, Train Loss 0.6464, Train Acc 0.6270\n",
            "Epoch 5 / 5, Val Loss 0.7410, Val Acc 0.4301\n"
          ],
          "name": "stdout"
        }
      ]
    },
    {
      "cell_type": "code",
      "metadata": {
        "id": "UUZ6esURJz1S",
        "colab": {
          "base_uri": "https://localhost:8080/"
        },
        "outputId": "5ce89811-1224-40b4-8c60-c32f864f1a1f"
      },
      "source": [
        "calculate_time(time_elapsed)"
      ],
      "execution_count": null,
      "outputs": [
        {
          "output_type": "stream",
          "text": [
            "Training complete in 2m 4s\n"
          ],
          "name": "stdout"
        }
      ]
    },
    {
      "cell_type": "code",
      "metadata": {
        "id": "aqictDB5J2Bz",
        "colab": {
          "base_uri": "https://localhost:8080/"
        },
        "outputId": "7fd994e9-b31f-4e2d-862a-e54381ba336a"
      },
      "source": [
        "print(f'Best validation Accuracy: {best_acc:.4f}')"
      ],
      "execution_count": null,
      "outputs": [
        {
          "output_type": "stream",
          "text": [
            "Best validation Accuracy: 0.0000\n"
          ],
          "name": "stdout"
        }
      ]
    },
    {
      "cell_type": "code",
      "metadata": {
        "id": "P1S23G-6J2D6",
        "colab": {
          "base_uri": "https://localhost:8080/",
          "height": 503
        },
        "outputId": "b0db3227-1a93-4093-ad0a-4a5b6d66815c"
      },
      "source": [
        "val_acc_hist_numpy = [acc.cpu().numpy() for acc in val_acc_hist]\n",
        "train_acc_hist_numpy = [acc.cpu().numpy() for acc in train_acc_hist]\n",
        "plt.figure(figsize=(20,10))\n",
        "plt.grid()\n",
        "plt.plot(range(1, num_epochs+1), val_acc_hist_numpy, label='Val Acc')\n",
        "plt.plot(range(1, num_epochs+1), train_acc_hist_numpy, label='Train Acc')\n",
        "plt.xlabel('Epochs')\n",
        "plt.ylabel('Acc')\n",
        "plt.title(\"Acc Plots\")\n",
        "plt.legend(loc='upper right')\n",
        "plt.show()"
      ],
      "execution_count": null,
      "outputs": [
        {
          "output_type": "display_data",
          "data": {
            "image/png": "[encoded data removed]",
            "text/plain": [
              "<Figure size 1440x720 with 1 Axes>"
            ]
          },
          "metadata": {
            "tags": [],
            "needs_background": "light"
          }
        }
      ]
    },
    {
      "cell_type": "code",
      "metadata": {
        "id": "1Lmaj7CxJ7_8",
        "colab": {
          "base_uri": "https://localhost:8080/",
          "height": 503
        },
        "outputId": "7682e03a-9a41-4a5f-b152-5f77ce89e88c"
      },
      "source": [
        "plt.figure(figsize=(20,10))\n",
        "plt.grid()\n",
        "plt.plot(range(1, num_epochs+1), loss_train, label='Train Loss')\n",
        "plt.plot(range(1, num_epochs+1), loss_val, label='Val Loss')\n",
        "plt.xlabel('Epochs')\n",
        "plt.ylabel('Loss')\n",
        "plt.title(\"Loss Plots\")\n",
        "plt.legend(loc='upper right')\n",
        "plt.show()"
      ],
      "execution_count": null,
      "outputs": [
        {
          "output_type": "display_data",
          "data": {
            "image/png": "[encoded data removed]",
            "text/plain": [
              "<Figure size 1440x720 with 1 Axes>"
            ]
          },
          "metadata": {
            "tags": [],
            "needs_background": "light"
          }
        }
      ]
    },
    {
      "cell_type": "code",
      "metadata": {
        "id": "KN0y6laJ5Ih3",
        "colab": {
          "base_uri": "https://localhost:8080/"
        },
        "outputId": "011c60d9-2c01-49c0-95d9-180d43fa45d2"
      },
      "source": [
        "model.eval()\n",
        "\n",
        "running_corrects = 0\n",
        "\n",
        "with torch.no_grad():\n",
        "    for idx, (images, labels) in enumerate(test_loader):\n",
        "        images = images.to(device)\n",
        "        labels = labels.to(device)\n",
        "\n",
        "        z_scores = model(images)\n",
        "\n",
        "        _, predictions = torch.max(z_scores,1)\n",
        "        running_corrects += torch.sum(predictions == labels)\n",
        "\n",
        "    acc = running_corrects / len(test_dataset)\n",
        "    print(f'Test Accuracy: {acc:.4f}')"
      ],
      "execution_count": null,
      "outputs": [
        {
          "output_type": "stream",
          "text": [
            "Test Accuracy: 0.5000\n"
          ],
          "name": "stdout"
        }
      ]
    },
    {
      "cell_type": "code",
      "metadata": {
        "id": "f9Ivg43bXq5O"
      },
      "source": [
        "checkpoint = {\n",
        "                'model_state_dict': model.state_dict(),\n",
        "                'model_optimizer': optimizer.state_dict(),\n",
        "                'val_acc_hist': val_acc_hist,\n",
        "                'train_acc_hist': train_acc_hist,\n",
        "                'loss_train': loss_train,\n",
        "                'loss_val': loss_val,\n",
        "                'best_acc': best_acc\n",
        "}\n",
        "\n",
        "torch.save(checkpoint, '/content/drive/MyDrive/mobilenetv1_on_hymeno.pth')"
      ],
      "execution_count": null,
      "outputs": []
    }
  ]
}